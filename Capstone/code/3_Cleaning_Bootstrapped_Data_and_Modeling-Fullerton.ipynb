{
 "cells": [
  {
   "cell_type": "markdown",
   "metadata": {
    "toc": true
   },
   "source": [
    "<h1>Table of Contents<span class=\"tocSkip\"></span></h1>\n",
    "<div class=\"toc\"><ul class=\"toc-item\"><li><span><a href=\"#Cleaning-Bootstrapped-Data-and-Testing-Classifier-Algorithms\" data-toc-modified-id=\"Cleaning-Bootstrapped-Data-and-Testing-Classifier-Algorithms-1\"><span class=\"toc-item-num\">1&nbsp;&nbsp;</span>Cleaning Bootstrapped Data and Testing Classifier Algorithms</a></span><ul class=\"toc-item\"><li><span><a href=\"#Naive-Bayes\" data-toc-modified-id=\"Naive-Bayes-1.1\"><span class=\"toc-item-num\">1.1&nbsp;&nbsp;</span>Naive Bayes</a></span></li><li><span><a href=\"#Linear-SVC\" data-toc-modified-id=\"Linear-SVC-1.2\"><span class=\"toc-item-num\">1.2&nbsp;&nbsp;</span>Linear SVC</a></span></li><li><span><a href=\"#Random-Forest\" data-toc-modified-id=\"Random-Forest-1.3\"><span class=\"toc-item-num\">1.3&nbsp;&nbsp;</span>Random Forest</a></span></li><li><span><a href=\"#Ada-Boost\" data-toc-modified-id=\"Ada-Boost-1.4\"><span class=\"toc-item-num\">1.4&nbsp;&nbsp;</span>Ada Boost</a></span></li><li><span><a href=\"#Evaluate-Misclassified-Sentences\" data-toc-modified-id=\"Evaluate-Misclassified-Sentences-1.5\"><span class=\"toc-item-num\">1.5&nbsp;&nbsp;</span>Evaluate Misclassified Sentences</a></span></li></ul></li><li><span><a href=\"#Sentiment-Analysis\" data-toc-modified-id=\"Sentiment-Analysis-2\"><span class=\"toc-item-num\">2&nbsp;&nbsp;</span>Sentiment Analysis</a></span><ul class=\"toc-item\"><li><span><a href=\"#Using-TF-IDF-and-Classifiers\" data-toc-modified-id=\"Using-TF-IDF-and-Classifiers-2.1\"><span class=\"toc-item-num\">2.1&nbsp;&nbsp;</span>Using TF-IDF and Classifiers</a></span></li></ul></li><li><span><a href=\"#Fullerton-Data\" data-toc-modified-id=\"Fullerton-Data-3\"><span class=\"toc-item-num\">3&nbsp;&nbsp;</span>Fullerton Data</a></span><ul class=\"toc-item\"><li><span><a href=\"#After-Processing\" data-toc-modified-id=\"After-Processing-3.1\"><span class=\"toc-item-num\">3.1&nbsp;&nbsp;</span>After Processing</a></span></li></ul></li><li><span><a href=\"#Comparison-of-Marina-Bay-Sands-and-Fullerton-Data\" data-toc-modified-id=\"Comparison-of-Marina-Bay-Sands-and-Fullerton-Data-4\"><span class=\"toc-item-num\">4&nbsp;&nbsp;</span>Comparison of Marina Bay Sands and Fullerton Data</a></span></li><li><span><a href=\"#Conclusion\" data-toc-modified-id=\"Conclusion-5\"><span class=\"toc-item-num\">5&nbsp;&nbsp;</span>Conclusion</a></span></li><li><span><a href=\"#Recommendations\" data-toc-modified-id=\"Recommendations-6\"><span class=\"toc-item-num\">6&nbsp;&nbsp;</span>Recommendations</a></span></li></ul></div>"
   ]
  },
  {
   "cell_type": "markdown",
   "metadata": {},
   "source": [
    "## Cleaning Bootstrapped Data and Testing Classifier Algorithms\n",
    "\n",
    "In this section, we will attempt to analyse our prepared data using bag-of-words models. We will try:\n",
    "1. Naive Bayes\n",
    "2. Linear SVC\n",
    "3. Random Forest\n",
    "4. Adaboost\n",
    "\n",
    "Bootstrapping was performed using the Random Forest Classifier presented here."
   ]
  },
  {
   "cell_type": "code",
   "execution_count": 1,
   "metadata": {},
   "outputs": [],
   "source": [
    "import pandas as pd\n",
    "import numpy as np\n",
    "import matplotlib.pyplot as plt\n",
    "import seaborn as sns\n",
    "\n",
    "from nltk.corpus import subjectivity\n",
    "from nltk.sentiment import SentimentIntensityAnalyzer\n",
    "from nltk.sentiment.util import *\n",
    "\n",
    "from sklearn.model_selection import train_test_split, GridSearchCV, cross_val_score\n",
    "\n",
    "from sklearn.naive_bayes import MultinomialNB\n",
    "from sklearn.svm import SVC\n",
    "from sklearn.feature_extraction.text import TfidfVectorizer\n",
    "from sklearn.pipeline import Pipeline\n",
    "from sklearn.metrics import confusion_matrix, f1_score, recall_score, precision_score, accuracy_score\n",
    "from sklearn.ensemble import RandomForestClassifier, AdaBoostClassifier"
   ]
  },
  {
   "cell_type": "code",
   "execution_count": 2,
   "metadata": {},
   "outputs": [],
   "source": [
    "train1 = pd.read_csv('../datasets/annotated/train_2000_3000_210425.csv')\n",
    "train2 = pd.read_csv('../datasets/annotated/train_3000_4000_210425.csv')\n",
    "train3 = pd.read_csv('../datasets/annotated/train_5000_6000_210425.csv')\n",
    "train4 = pd.read_csv('../datasets/annotated/train_0_1000_210425.csv')"
   ]
  },
  {
   "cell_type": "code",
   "execution_count": 3,
   "metadata": {},
   "outputs": [],
   "source": [
    "def df_study(df):\n",
    "    '''\n",
    "    Function shows common information abotu dataframe\n",
    "    '''\n",
    "    display(df.shape)\n",
    "    display(df.columns)\n",
    "    display(df.dtypes)\n",
    "    display(df.head(10))\n",
    "    \n",
    "def contains_mthen_2_words(s):\n",
    "    '''\n",
    "    Function returns True if given string has more than 2 words\n",
    "    '''\n",
    "    return len(str(s).split()) > 2\n",
    "\n",
    "def remove_short_and_empty_sents(df):\n",
    "    '''\n",
    "    Function searches for and removes rows with empty content or content of 2 words and under.\n",
    "    '''\n",
    "    df.drop(index=df.loc[df['sent_text'] == ' ',:].index, inplace=True)\n",
    "    df['to_drop'] = df['sent_text'].apply(lambda x: contains_mthen_2_words(x))\n",
    "    df.drop(index=df.loc[df['to_drop'] == False,:].index, inplace=True)\n",
    "    df.drop(columns=['to_drop'], inplace=True)\n",
    "    \n",
    "    \n",
    "def reverse_map_categories(category_series):\n",
    "    '''\n",
    "    Function reverses category to number variable representation\n",
    "    '''\n",
    "    return category_series.map(inv_map_category)"
   ]
  },
  {
   "cell_type": "code",
   "execution_count": 4,
   "metadata": {},
   "outputs": [
    {
     "data": {
      "text/plain": [
       "(1000, 5)"
      ]
     },
     "metadata": {},
     "output_type": "display_data"
    },
    {
     "data": {
      "text/plain": [
       "Index(['Unnamed: 0', 'rev_id', 'sent_text', 'category', 'sentiment'], dtype='object')"
      ]
     },
     "metadata": {},
     "output_type": "display_data"
    },
    {
     "data": {
      "text/plain": [
       "Unnamed: 0     int64\n",
       "rev_id         int64\n",
       "sent_text     object\n",
       "category      object\n",
       "sentiment      int64\n",
       "dtype: object"
      ]
     },
     "metadata": {},
     "output_type": "display_data"
    },
    {
     "data": {
      "text/html": [
       "<div>\n",
       "<style scoped>\n",
       "    .dataframe tbody tr th:only-of-type {\n",
       "        vertical-align: middle;\n",
       "    }\n",
       "\n",
       "    .dataframe tbody tr th {\n",
       "        vertical-align: top;\n",
       "    }\n",
       "\n",
       "    .dataframe thead th {\n",
       "        text-align: right;\n",
       "    }\n",
       "</style>\n",
       "<table border=\"1\" class=\"dataframe\">\n",
       "  <thead>\n",
       "    <tr style=\"text-align: right;\">\n",
       "      <th></th>\n",
       "      <th>Unnamed: 0</th>\n",
       "      <th>rev_id</th>\n",
       "      <th>sent_text</th>\n",
       "      <th>category</th>\n",
       "      <th>sentiment</th>\n",
       "    </tr>\n",
       "  </thead>\n",
       "  <tbody>\n",
       "    <tr>\n",
       "      <th>0</th>\n",
       "      <td>0</td>\n",
       "      <td>691636950</td>\n",
       "      <td>We splurged on our last night in Singapore to ...</td>\n",
       "      <td>NaN</td>\n",
       "      <td>0</td>\n",
       "    </tr>\n",
       "    <tr>\n",
       "      <th>1</th>\n",
       "      <td>1</td>\n",
       "      <td>691636950</td>\n",
       "      <td>It's a beautiful building &amp; linked to the Gard...</td>\n",
       "      <td>other</td>\n",
       "      <td>1</td>\n",
       "    </tr>\n",
       "    <tr>\n",
       "      <th>2</th>\n",
       "      <td>2</td>\n",
       "      <td>691636950</td>\n",
       "      <td>However it is very impersonal &amp; very expensive...</td>\n",
       "      <td>service</td>\n",
       "      <td>-1</td>\n",
       "    </tr>\n",
       "    <tr>\n",
       "      <th>3</th>\n",
       "      <td>3</td>\n",
       "      <td>691636950</td>\n",
       "      <td>The room was huge (probably too big) and the s...</td>\n",
       "      <td>room</td>\n",
       "      <td>1</td>\n",
       "    </tr>\n",
       "    <tr>\n",
       "      <th>4</th>\n",
       "      <td>4</td>\n",
       "      <td>691636950</td>\n",
       "      <td>The furnishings re lovely &amp; it does feel luxur...</td>\n",
       "      <td>room</td>\n",
       "      <td>1</td>\n",
       "    </tr>\n",
       "    <tr>\n",
       "      <th>5</th>\n",
       "      <td>5</td>\n",
       "      <td>691636950</td>\n",
       "      <td>We spent all day by the pool (1pm - 8pm) and e...</td>\n",
       "      <td>pool</td>\n",
       "      <td>1</td>\n",
       "    </tr>\n",
       "    <tr>\n",
       "      <th>6</th>\n",
       "      <td>6</td>\n",
       "      <td>691636950</td>\n",
       "      <td>But it is so busy and getting pool service was...</td>\n",
       "      <td>service</td>\n",
       "      <td>-1</td>\n",
       "    </tr>\n",
       "    <tr>\n",
       "      <th>7</th>\n",
       "      <td>7</td>\n",
       "      <td>691636950</td>\n",
       "      <td>My son then fell ill at 3am throwing up &amp; diar...</td>\n",
       "      <td>NaN</td>\n",
       "      <td>-1</td>\n",
       "    </tr>\n",
       "    <tr>\n",
       "      <th>8</th>\n",
       "      <td>8</td>\n",
       "      <td>691636950</td>\n",
       "      <td>I put it down to being in</td>\n",
       "      <td>NaN</td>\n",
       "      <td>0</td>\n",
       "    </tr>\n",
       "    <tr>\n",
       "      <th>9</th>\n",
       "      <td>9</td>\n",
       "      <td>691610644</td>\n",
       "      <td>Located opposite of one iconic building in Sin...</td>\n",
       "      <td>NaN</td>\n",
       "      <td>0</td>\n",
       "    </tr>\n",
       "  </tbody>\n",
       "</table>\n",
       "</div>"
      ],
      "text/plain": [
       "   Unnamed: 0     rev_id                                          sent_text  \\\n",
       "0           0  691636950  We splurged on our last night in Singapore to ...   \n",
       "1           1  691636950  It's a beautiful building & linked to the Gard...   \n",
       "2           2  691636950  However it is very impersonal & very expensive...   \n",
       "3           3  691636950  The room was huge (probably too big) and the s...   \n",
       "4           4  691636950  The furnishings re lovely & it does feel luxur...   \n",
       "5           5  691636950  We spent all day by the pool (1pm - 8pm) and e...   \n",
       "6           6  691636950  But it is so busy and getting pool service was...   \n",
       "7           7  691636950  My son then fell ill at 3am throwing up & diar...   \n",
       "8           8  691636950                          I put it down to being in   \n",
       "9           9  691610644  Located opposite of one iconic building in Sin...   \n",
       "\n",
       "  category  sentiment  \n",
       "0      NaN          0  \n",
       "1    other          1  \n",
       "2  service         -1  \n",
       "3     room          1  \n",
       "4     room          1  \n",
       "5     pool          1  \n",
       "6  service         -1  \n",
       "7      NaN         -1  \n",
       "8      NaN          0  \n",
       "9      NaN          0  "
      ]
     },
     "metadata": {},
     "output_type": "display_data"
    }
   ],
   "source": [
    "df_study(train4)"
   ]
  },
  {
   "cell_type": "code",
   "execution_count": 5,
   "metadata": {},
   "outputs": [],
   "source": [
    "train4.rename(columns={\"Unnamed: 3\": \"category\", \"Unnamed: 0\": \"sent_id\"}, inplace=True)"
   ]
  },
  {
   "cell_type": "code",
   "execution_count": 6,
   "metadata": {},
   "outputs": [],
   "source": [
    "train4.set_index('sent_id', inplace=True)"
   ]
  },
  {
   "cell_type": "code",
   "execution_count": 7,
   "metadata": {},
   "outputs": [
    {
     "data": {
      "text/plain": [
       "(1000, 5)"
      ]
     },
     "metadata": {},
     "output_type": "display_data"
    },
    {
     "data": {
      "text/plain": [
       "Index(['Unnamed: 0', 'rev_id', 'sent_text', 'category', 'sentiment'], dtype='object')"
      ]
     },
     "metadata": {},
     "output_type": "display_data"
    },
    {
     "data": {
      "text/plain": [
       "Unnamed: 0      int64\n",
       "rev_id          int64\n",
       "sent_text      object\n",
       "category       object\n",
       "sentiment     float64\n",
       "dtype: object"
      ]
     },
     "metadata": {},
     "output_type": "display_data"
    },
    {
     "data": {
      "text/html": [
       "<div>\n",
       "<style scoped>\n",
       "    .dataframe tbody tr th:only-of-type {\n",
       "        vertical-align: middle;\n",
       "    }\n",
       "\n",
       "    .dataframe tbody tr th {\n",
       "        vertical-align: top;\n",
       "    }\n",
       "\n",
       "    .dataframe thead th {\n",
       "        text-align: right;\n",
       "    }\n",
       "</style>\n",
       "<table border=\"1\" class=\"dataframe\">\n",
       "  <thead>\n",
       "    <tr style=\"text-align: right;\">\n",
       "      <th></th>\n",
       "      <th>Unnamed: 0</th>\n",
       "      <th>rev_id</th>\n",
       "      <th>sent_text</th>\n",
       "      <th>category</th>\n",
       "      <th>sentiment</th>\n",
       "    </tr>\n",
       "  </thead>\n",
       "  <tbody>\n",
       "    <tr>\n",
       "      <th>0</th>\n",
       "      <td>2000</td>\n",
       "      <td>673847825</td>\n",
       "      <td>I was able to have a swim and take the photo b...</td>\n",
       "      <td>pool</td>\n",
       "      <td>-1.0</td>\n",
       "    </tr>\n",
       "    <tr>\n",
       "      <th>1</th>\n",
       "      <td>2001</td>\n",
       "      <td>673847825</td>\n",
       "      <td>The lobby was super busy and I found that a li...</td>\n",
       "      <td>others</td>\n",
       "      <td>-1.0</td>\n",
       "    </tr>\n",
       "    <tr>\n",
       "      <th>2</th>\n",
       "      <td>2002</td>\n",
       "      <td>673847825</td>\n",
       "      <td>But once I got to my room, it was very peaceful.</td>\n",
       "      <td>room</td>\n",
       "      <td>1.0</td>\n",
       "    </tr>\n",
       "    <tr>\n",
       "      <th>3</th>\n",
       "      <td>2003</td>\n",
       "      <td>673847825</td>\n",
       "      <td>I'm glad I stayed here but not sure that I wou...</td>\n",
       "      <td>NaN</td>\n",
       "      <td>1.0</td>\n",
       "    </tr>\n",
       "    <tr>\n",
       "      <th>4</th>\n",
       "      <td>2004</td>\n",
       "      <td>673838523</td>\n",
       "      <td>The hotel is amazingly stunning, from when you...</td>\n",
       "      <td>NaN</td>\n",
       "      <td>1.0</td>\n",
       "    </tr>\n",
       "    <tr>\n",
       "      <th>5</th>\n",
       "      <td>2005</td>\n",
       "      <td>673838523</td>\n",
       "      <td>This is a must stay even for most one night to...</td>\n",
       "      <td>pool</td>\n",
       "      <td>1.0</td>\n",
       "    </tr>\n",
       "    <tr>\n",
       "      <th>6</th>\n",
       "      <td>2006</td>\n",
       "      <td>673838523</td>\n",
       "      <td>We had a view of the gardens by the bay and wh...</td>\n",
       "      <td>other</td>\n",
       "      <td>1.0</td>\n",
       "    </tr>\n",
       "    <tr>\n",
       "      <th>7</th>\n",
       "      <td>2007</td>\n",
       "      <td>673600522</td>\n",
       "      <td>Marina Bay Sands totally is the best part of S...</td>\n",
       "      <td>other</td>\n",
       "      <td>1.0</td>\n",
       "    </tr>\n",
       "    <tr>\n",
       "      <th>8</th>\n",
       "      <td>2008</td>\n",
       "      <td>673600522</td>\n",
       "      <td>The hotel the science museum , garden by the b...</td>\n",
       "      <td>other</td>\n",
       "      <td>0.0</td>\n",
       "    </tr>\n",
       "    <tr>\n",
       "      <th>9</th>\n",
       "      <td>2009</td>\n",
       "      <td>673600522</td>\n",
       "      <td>I think if you want to visit Singapore you sho...</td>\n",
       "      <td>NaN</td>\n",
       "      <td>1.0</td>\n",
       "    </tr>\n",
       "  </tbody>\n",
       "</table>\n",
       "</div>"
      ],
      "text/plain": [
       "   Unnamed: 0     rev_id                                          sent_text  \\\n",
       "0        2000  673847825  I was able to have a swim and take the photo b...   \n",
       "1        2001  673847825  The lobby was super busy and I found that a li...   \n",
       "2        2002  673847825   But once I got to my room, it was very peaceful.   \n",
       "3        2003  673847825  I'm glad I stayed here but not sure that I wou...   \n",
       "4        2004  673838523  The hotel is amazingly stunning, from when you...   \n",
       "5        2005  673838523  This is a must stay even for most one night to...   \n",
       "6        2006  673838523  We had a view of the gardens by the bay and wh...   \n",
       "7        2007  673600522  Marina Bay Sands totally is the best part of S...   \n",
       "8        2008  673600522  The hotel the science museum , garden by the b...   \n",
       "9        2009  673600522  I think if you want to visit Singapore you sho...   \n",
       "\n",
       "  category  sentiment  \n",
       "0     pool       -1.0  \n",
       "1   others       -1.0  \n",
       "2     room        1.0  \n",
       "3      NaN        1.0  \n",
       "4      NaN        1.0  \n",
       "5     pool        1.0  \n",
       "6    other        1.0  \n",
       "7    other        1.0  \n",
       "8    other        0.0  \n",
       "9      NaN        1.0  "
      ]
     },
     "metadata": {},
     "output_type": "display_data"
    }
   ],
   "source": [
    "df_study(train1)"
   ]
  },
  {
   "cell_type": "code",
   "execution_count": 8,
   "metadata": {},
   "outputs": [],
   "source": [
    "train1.rename(columns={\"Unnamed: 3\": \"category\", \"Unnamed: 0\": \"sent_id\"}, inplace=True)"
   ]
  },
  {
   "cell_type": "code",
   "execution_count": 9,
   "metadata": {},
   "outputs": [],
   "source": [
    "train1.set_index('sent_id', inplace=True)"
   ]
  },
  {
   "cell_type": "code",
   "execution_count": 10,
   "metadata": {},
   "outputs": [
    {
     "data": {
      "text/plain": [
       "(889, 5)"
      ]
     },
     "metadata": {},
     "output_type": "display_data"
    },
    {
     "data": {
      "text/plain": [
       "Index(['Unnamed: 0', 'rev_id', 'sent_text', 'category', 'sentiment'], dtype='object')"
      ]
     },
     "metadata": {},
     "output_type": "display_data"
    },
    {
     "data": {
      "text/plain": [
       "Unnamed: 0     int64\n",
       "rev_id         int64\n",
       "sent_text     object\n",
       "category      object\n",
       "sentiment      int64\n",
       "dtype: object"
      ]
     },
     "metadata": {},
     "output_type": "display_data"
    },
    {
     "data": {
      "text/html": [
       "<div>\n",
       "<style scoped>\n",
       "    .dataframe tbody tr th:only-of-type {\n",
       "        vertical-align: middle;\n",
       "    }\n",
       "\n",
       "    .dataframe tbody tr th {\n",
       "        vertical-align: top;\n",
       "    }\n",
       "\n",
       "    .dataframe thead th {\n",
       "        text-align: right;\n",
       "    }\n",
       "</style>\n",
       "<table border=\"1\" class=\"dataframe\">\n",
       "  <thead>\n",
       "    <tr style=\"text-align: right;\">\n",
       "      <th></th>\n",
       "      <th>Unnamed: 0</th>\n",
       "      <th>rev_id</th>\n",
       "      <th>sent_text</th>\n",
       "      <th>category</th>\n",
       "      <th>sentiment</th>\n",
       "    </tr>\n",
       "  </thead>\n",
       "  <tbody>\n",
       "    <tr>\n",
       "      <th>0</th>\n",
       "      <td>3000</td>\n",
       "      <td>668105871</td>\n",
       "      <td>The view was breathtaking.</td>\n",
       "      <td>room</td>\n",
       "      <td>1</td>\n",
       "    </tr>\n",
       "    <tr>\n",
       "      <th>1</th>\n",
       "      <td>3001</td>\n",
       "      <td>668105871</td>\n",
       "      <td>Spagoo breakfast was delicious.</td>\n",
       "      <td>food</td>\n",
       "      <td>1</td>\n",
       "    </tr>\n",
       "    <tr>\n",
       "      <th>2</th>\n",
       "      <td>3003</td>\n",
       "      <td>668105871</td>\n",
       "      <td>The room is so spacious with complete premium ...</td>\n",
       "      <td>room</td>\n",
       "      <td>1</td>\n",
       "    </tr>\n",
       "    <tr>\n",
       "      <th>3</th>\n",
       "      <td>3004</td>\n",
       "      <td>668066471</td>\n",
       "      <td>As seasoned travellers we have visited many ho...</td>\n",
       "      <td>NaN</td>\n",
       "      <td>1</td>\n",
       "    </tr>\n",
       "    <tr>\n",
       "      <th>4</th>\n",
       "      <td>3005</td>\n",
       "      <td>668066471</td>\n",
       "      <td>On arrival our hotel voucher was checked and w...</td>\n",
       "      <td>service</td>\n",
       "      <td>0</td>\n",
       "    </tr>\n",
       "    <tr>\n",
       "      <th>5</th>\n",
       "      <td>3006</td>\n",
       "      <td>668066471</td>\n",
       "      <td>We stayed on the 7th floor which you would thi...</td>\n",
       "      <td>room</td>\n",
       "      <td>0</td>\n",
       "    </tr>\n",
       "    <tr>\n",
       "      <th>6</th>\n",
       "      <td>3007</td>\n",
       "      <td>668066471</td>\n",
       "      <td>The rooms are amazing - automatic opening of t...</td>\n",
       "      <td>room</td>\n",
       "      <td>1</td>\n",
       "    </tr>\n",
       "    <tr>\n",
       "      <th>7</th>\n",
       "      <td>3008</td>\n",
       "      <td>668066471</td>\n",
       "      <td>Lifts were efficient (only to be expected) and...</td>\n",
       "      <td>others</td>\n",
       "      <td>1</td>\n",
       "    </tr>\n",
       "    <tr>\n",
       "      <th>8</th>\n",
       "      <td>3009</td>\n",
       "      <td>668066471</td>\n",
       "      <td>Needing your room card - one for</td>\n",
       "      <td>NaN</td>\n",
       "      <td>0</td>\n",
       "    </tr>\n",
       "    <tr>\n",
       "      <th>9</th>\n",
       "      <td>3010</td>\n",
       "      <td>668025280</td>\n",
       "      <td>One of the best hotel in the world is Marina b...</td>\n",
       "      <td>food</td>\n",
       "      <td>1</td>\n",
       "    </tr>\n",
       "  </tbody>\n",
       "</table>\n",
       "</div>"
      ],
      "text/plain": [
       "   Unnamed: 0     rev_id                                          sent_text  \\\n",
       "0        3000  668105871                         The view was breathtaking.   \n",
       "1        3001  668105871                    Spagoo breakfast was delicious.   \n",
       "2        3003  668105871  The room is so spacious with complete premium ...   \n",
       "3        3004  668066471  As seasoned travellers we have visited many ho...   \n",
       "4        3005  668066471  On arrival our hotel voucher was checked and w...   \n",
       "5        3006  668066471  We stayed on the 7th floor which you would thi...   \n",
       "6        3007  668066471  The rooms are amazing - automatic opening of t...   \n",
       "7        3008  668066471  Lifts were efficient (only to be expected) and...   \n",
       "8        3009  668066471                   Needing your room card - one for   \n",
       "9        3010  668025280  One of the best hotel in the world is Marina b...   \n",
       "\n",
       "  category  sentiment  \n",
       "0     room          1  \n",
       "1     food          1  \n",
       "2     room          1  \n",
       "3      NaN          1  \n",
       "4  service          0  \n",
       "5     room          0  \n",
       "6     room          1  \n",
       "7   others          1  \n",
       "8      NaN          0  \n",
       "9     food          1  "
      ]
     },
     "metadata": {},
     "output_type": "display_data"
    }
   ],
   "source": [
    "df_study(train2)"
   ]
  },
  {
   "cell_type": "code",
   "execution_count": 11,
   "metadata": {},
   "outputs": [],
   "source": [
    "train2.rename(columns={\"Unnamed: 0\": \"sent_id\"}, inplace=True)\n",
    "train2.set_index('sent_id', inplace=True)"
   ]
  },
  {
   "cell_type": "code",
   "execution_count": 12,
   "metadata": {},
   "outputs": [
    {
     "data": {
      "text/plain": [
       "(843, 5)"
      ]
     },
     "metadata": {},
     "output_type": "display_data"
    },
    {
     "data": {
      "text/plain": [
       "Index(['Unnamed: 0', 'rev_id', 'sent_text', 'category', 'sentiment'], dtype='object')"
      ]
     },
     "metadata": {},
     "output_type": "display_data"
    },
    {
     "data": {
      "text/plain": [
       "Unnamed: 0     int64\n",
       "rev_id         int64\n",
       "sent_text     object\n",
       "category      object\n",
       "sentiment      int64\n",
       "dtype: object"
      ]
     },
     "metadata": {},
     "output_type": "display_data"
    },
    {
     "data": {
      "text/html": [
       "<div>\n",
       "<style scoped>\n",
       "    .dataframe tbody tr th:only-of-type {\n",
       "        vertical-align: middle;\n",
       "    }\n",
       "\n",
       "    .dataframe tbody tr th {\n",
       "        vertical-align: top;\n",
       "    }\n",
       "\n",
       "    .dataframe thead th {\n",
       "        text-align: right;\n",
       "    }\n",
       "</style>\n",
       "<table border=\"1\" class=\"dataframe\">\n",
       "  <thead>\n",
       "    <tr style=\"text-align: right;\">\n",
       "      <th></th>\n",
       "      <th>Unnamed: 0</th>\n",
       "      <th>rev_id</th>\n",
       "      <th>sent_text</th>\n",
       "      <th>category</th>\n",
       "      <th>sentiment</th>\n",
       "    </tr>\n",
       "  </thead>\n",
       "  <tbody>\n",
       "    <tr>\n",
       "      <th>0</th>\n",
       "      <td>5000</td>\n",
       "      <td>655152325</td>\n",
       "      <td>Received exactly what we booked, good sized ro...</td>\n",
       "      <td>room</td>\n",
       "      <td>1</td>\n",
       "    </tr>\n",
       "    <tr>\n",
       "      <th>1</th>\n",
       "      <td>5001</td>\n",
       "      <td>655152325</td>\n",
       "      <td>Bed is rock hard.</td>\n",
       "      <td>room</td>\n",
       "      <td>-1</td>\n",
       "    </tr>\n",
       "    <tr>\n",
       "      <th>2</th>\n",
       "      <td>5002</td>\n",
       "      <td>655152325</td>\n",
       "      <td>Pillows are very good, but the bed kills your ...</td>\n",
       "      <td>room</td>\n",
       "      <td>-1</td>\n",
       "    </tr>\n",
       "    <tr>\n",
       "      <th>3</th>\n",
       "      <td>5003</td>\n",
       "      <td>655152325</td>\n",
       "      <td>You are a number only at this hotel, it is a g...</td>\n",
       "      <td>service</td>\n",
       "      <td>-1</td>\n",
       "    </tr>\n",
       "    <tr>\n",
       "      <th>4</th>\n",
       "      <td>5004</td>\n",
       "      <td>655152325</td>\n",
       "      <td>We booked to use the club lounge and this was ...</td>\n",
       "      <td>service</td>\n",
       "      <td>1</td>\n",
       "    </tr>\n",
       "    <tr>\n",
       "      <th>5</th>\n",
       "      <td>5005</td>\n",
       "      <td>655152325</td>\n",
       "      <td>The club is large but it needs to be as many g...</td>\n",
       "      <td>service</td>\n",
       "      <td>0</td>\n",
       "    </tr>\n",
       "    <tr>\n",
       "      <th>6</th>\n",
       "      <td>5006</td>\n",
       "      <td>655152325</td>\n",
       "      <td>It has no feeling of exclusiveness, once full ...</td>\n",
       "      <td>food</td>\n",
       "      <td>-1</td>\n",
       "    </tr>\n",
       "    <tr>\n",
       "      <th>7</th>\n",
       "      <td>5007</td>\n",
       "      <td>655152325</td>\n",
       "      <td>There are kids everywhere, no control with the...</td>\n",
       "      <td>food</td>\n",
       "      <td>-1</td>\n",
       "    </tr>\n",
       "    <tr>\n",
       "      <th>8</th>\n",
       "      <td>5008</td>\n",
       "      <td>655152325</td>\n",
       "      <td>This was at multiple tables.</td>\n",
       "      <td>NaN</td>\n",
       "      <td>0</td>\n",
       "    </tr>\n",
       "    <tr>\n",
       "      <th>9</th>\n",
       "      <td>5009</td>\n",
       "      <td>655152325</td>\n",
       "      <td>Evening drinks should be drinks and</td>\n",
       "      <td>food</td>\n",
       "      <td>0</td>\n",
       "    </tr>\n",
       "  </tbody>\n",
       "</table>\n",
       "</div>"
      ],
      "text/plain": [
       "   Unnamed: 0     rev_id                                          sent_text  \\\n",
       "0        5000  655152325  Received exactly what we booked, good sized ro...   \n",
       "1        5001  655152325                                  Bed is rock hard.   \n",
       "2        5002  655152325  Pillows are very good, but the bed kills your ...   \n",
       "3        5003  655152325  You are a number only at this hotel, it is a g...   \n",
       "4        5004  655152325  We booked to use the club lounge and this was ...   \n",
       "5        5005  655152325  The club is large but it needs to be as many g...   \n",
       "6        5006  655152325  It has no feeling of exclusiveness, once full ...   \n",
       "7        5007  655152325  There are kids everywhere, no control with the...   \n",
       "8        5008  655152325                       This was at multiple tables.   \n",
       "9        5009  655152325                Evening drinks should be drinks and   \n",
       "\n",
       "  category  sentiment  \n",
       "0     room          1  \n",
       "1     room         -1  \n",
       "2     room         -1  \n",
       "3  service         -1  \n",
       "4  service          1  \n",
       "5  service          0  \n",
       "6     food         -1  \n",
       "7     food         -1  \n",
       "8      NaN          0  \n",
       "9     food          0  "
      ]
     },
     "metadata": {},
     "output_type": "display_data"
    }
   ],
   "source": [
    "df_study(train3)"
   ]
  },
  {
   "cell_type": "code",
   "execution_count": 13,
   "metadata": {},
   "outputs": [],
   "source": [
    "train3.rename(columns={\"Unnamed: 0\": \"sent_id\"}, inplace=True)\n",
    "train3.set_index('sent_id', inplace=True)"
   ]
  },
  {
   "cell_type": "code",
   "execution_count": 14,
   "metadata": {},
   "outputs": [],
   "source": [
    "remove_short_and_empty_sents(train1)\n",
    "remove_short_and_empty_sents(train2)\n",
    "remove_short_and_empty_sents(train3)\n",
    "remove_short_and_empty_sents(train4)"
   ]
  },
  {
   "cell_type": "code",
   "execution_count": 15,
   "metadata": {},
   "outputs": [
    {
     "data": {
      "text/plain": [
       "room       149\n",
       "service    116\n",
       "pool       102\n",
       "food        81\n",
       "others      74\n",
       "other        1\n",
       "Name: category, dtype: int64"
      ]
     },
     "execution_count": 15,
     "metadata": {},
     "output_type": "execute_result"
    }
   ],
   "source": [
    "train4['category'].value_counts()"
   ]
  },
  {
   "cell_type": "code",
   "execution_count": 16,
   "metadata": {
    "scrolled": true
   },
   "outputs": [],
   "source": [
    "train4['category'].replace({'others': 'other'}, inplace=True)"
   ]
  },
  {
   "cell_type": "code",
   "execution_count": 17,
   "metadata": {},
   "outputs": [],
   "source": [
    "train4['category'].fillna('none', inplace=True)"
   ]
  },
  {
   "cell_type": "code",
   "execution_count": 18,
   "metadata": {},
   "outputs": [],
   "source": [
    "train1['category'].fillna('none', inplace=True)"
   ]
  },
  {
   "cell_type": "code",
   "execution_count": 19,
   "metadata": {},
   "outputs": [
    {
     "data": {
      "text/plain": [
       "none       279\n",
       "service    157\n",
       "room       126\n",
       "pool       117\n",
       "food        77\n",
       "other       75\n",
       "others      11\n",
       "Name: category, dtype: int64"
      ]
     },
     "execution_count": 19,
     "metadata": {},
     "output_type": "execute_result"
    }
   ],
   "source": [
    "train1['category'].value_counts()"
   ]
  },
  {
   "cell_type": "code",
   "execution_count": 20,
   "metadata": {},
   "outputs": [],
   "source": [
    "train1['category'].replace({'others': 'other'}, inplace=True)"
   ]
  },
  {
   "cell_type": "code",
   "execution_count": 21,
   "metadata": {},
   "outputs": [
    {
     "data": {
      "text/plain": [
       "room        134\n",
       "service     132\n",
       "others       97\n",
       "pool         85\n",
       "food         81\n",
       "servivce      1\n",
       "othes         1\n",
       "Name: category, dtype: int64"
      ]
     },
     "execution_count": 21,
     "metadata": {},
     "output_type": "execute_result"
    }
   ],
   "source": [
    "train2['category'].value_counts()"
   ]
  },
  {
   "cell_type": "code",
   "execution_count": 22,
   "metadata": {},
   "outputs": [],
   "source": [
    "train2['category'].replace({'others': 'other', 'servivce': 'service', 'othes': 'other'}, inplace=True)"
   ]
  },
  {
   "cell_type": "code",
   "execution_count": 23,
   "metadata": {},
   "outputs": [
    {
     "data": {
      "text/plain": [
       "room       132\n",
       "service    122\n",
       "pool       118\n",
       "food        86\n",
       "others      69\n",
       "other        1\n",
       "             1\n",
       "Name: category, dtype: int64"
      ]
     },
     "execution_count": 23,
     "metadata": {},
     "output_type": "execute_result"
    }
   ],
   "source": [
    "train3['category'].value_counts()"
   ]
  },
  {
   "cell_type": "code",
   "execution_count": 24,
   "metadata": {},
   "outputs": [],
   "source": [
    "train3['category'].replace({'others': 'other'}, inplace=True)"
   ]
  },
  {
   "cell_type": "code",
   "execution_count": 25,
   "metadata": {},
   "outputs": [],
   "source": [
    "train2['category'].fillna('none', inplace=True)\n",
    "train3['category'].fillna('none', inplace=True)"
   ]
  },
  {
   "cell_type": "code",
   "execution_count": 26,
   "metadata": {},
   "outputs": [],
   "source": [
    "df = pd.concat([train1, train2, train3, train4], ignore_index=True)"
   ]
  },
  {
   "cell_type": "code",
   "execution_count": 27,
   "metadata": {},
   "outputs": [
    {
     "data": {
      "text/plain": [
       "(3395, 4)"
      ]
     },
     "metadata": {},
     "output_type": "display_data"
    },
    {
     "data": {
      "text/plain": [
       "Index(['rev_id', 'sent_text', 'category', 'sentiment'], dtype='object')"
      ]
     },
     "metadata": {},
     "output_type": "display_data"
    },
    {
     "data": {
      "text/plain": [
       "rev_id         int64\n",
       "sent_text     object\n",
       "category      object\n",
       "sentiment    float64\n",
       "dtype: object"
      ]
     },
     "metadata": {},
     "output_type": "display_data"
    },
    {
     "data": {
      "text/html": [
       "<div>\n",
       "<style scoped>\n",
       "    .dataframe tbody tr th:only-of-type {\n",
       "        vertical-align: middle;\n",
       "    }\n",
       "\n",
       "    .dataframe tbody tr th {\n",
       "        vertical-align: top;\n",
       "    }\n",
       "\n",
       "    .dataframe thead th {\n",
       "        text-align: right;\n",
       "    }\n",
       "</style>\n",
       "<table border=\"1\" class=\"dataframe\">\n",
       "  <thead>\n",
       "    <tr style=\"text-align: right;\">\n",
       "      <th></th>\n",
       "      <th>rev_id</th>\n",
       "      <th>sent_text</th>\n",
       "      <th>category</th>\n",
       "      <th>sentiment</th>\n",
       "    </tr>\n",
       "  </thead>\n",
       "  <tbody>\n",
       "    <tr>\n",
       "      <th>0</th>\n",
       "      <td>673847825</td>\n",
       "      <td>I was able to have a swim and take the photo b...</td>\n",
       "      <td>pool</td>\n",
       "      <td>-1.0</td>\n",
       "    </tr>\n",
       "    <tr>\n",
       "      <th>1</th>\n",
       "      <td>673847825</td>\n",
       "      <td>The lobby was super busy and I found that a li...</td>\n",
       "      <td>other</td>\n",
       "      <td>-1.0</td>\n",
       "    </tr>\n",
       "    <tr>\n",
       "      <th>2</th>\n",
       "      <td>673847825</td>\n",
       "      <td>But once I got to my room, it was very peaceful.</td>\n",
       "      <td>room</td>\n",
       "      <td>1.0</td>\n",
       "    </tr>\n",
       "    <tr>\n",
       "      <th>3</th>\n",
       "      <td>673847825</td>\n",
       "      <td>I'm glad I stayed here but not sure that I wou...</td>\n",
       "      <td>none</td>\n",
       "      <td>1.0</td>\n",
       "    </tr>\n",
       "    <tr>\n",
       "      <th>4</th>\n",
       "      <td>673838523</td>\n",
       "      <td>The hotel is amazingly stunning, from when you...</td>\n",
       "      <td>none</td>\n",
       "      <td>1.0</td>\n",
       "    </tr>\n",
       "    <tr>\n",
       "      <th>5</th>\n",
       "      <td>673838523</td>\n",
       "      <td>This is a must stay even for most one night to...</td>\n",
       "      <td>pool</td>\n",
       "      <td>1.0</td>\n",
       "    </tr>\n",
       "    <tr>\n",
       "      <th>6</th>\n",
       "      <td>673838523</td>\n",
       "      <td>We had a view of the gardens by the bay and wh...</td>\n",
       "      <td>other</td>\n",
       "      <td>1.0</td>\n",
       "    </tr>\n",
       "    <tr>\n",
       "      <th>7</th>\n",
       "      <td>673600522</td>\n",
       "      <td>Marina Bay Sands totally is the best part of S...</td>\n",
       "      <td>other</td>\n",
       "      <td>1.0</td>\n",
       "    </tr>\n",
       "    <tr>\n",
       "      <th>8</th>\n",
       "      <td>673600522</td>\n",
       "      <td>The hotel the science museum , garden by the b...</td>\n",
       "      <td>other</td>\n",
       "      <td>0.0</td>\n",
       "    </tr>\n",
       "    <tr>\n",
       "      <th>9</th>\n",
       "      <td>673600522</td>\n",
       "      <td>I think if you want to visit Singapore you sho...</td>\n",
       "      <td>none</td>\n",
       "      <td>1.0</td>\n",
       "    </tr>\n",
       "  </tbody>\n",
       "</table>\n",
       "</div>"
      ],
      "text/plain": [
       "      rev_id                                          sent_text category  \\\n",
       "0  673847825  I was able to have a swim and take the photo b...     pool   \n",
       "1  673847825  The lobby was super busy and I found that a li...    other   \n",
       "2  673847825   But once I got to my room, it was very peaceful.     room   \n",
       "3  673847825  I'm glad I stayed here but not sure that I wou...     none   \n",
       "4  673838523  The hotel is amazingly stunning, from when you...     none   \n",
       "5  673838523  This is a must stay even for most one night to...     pool   \n",
       "6  673838523  We had a view of the gardens by the bay and wh...    other   \n",
       "7  673600522  Marina Bay Sands totally is the best part of S...    other   \n",
       "8  673600522  The hotel the science museum , garden by the b...    other   \n",
       "9  673600522  I think if you want to visit Singapore you sho...     none   \n",
       "\n",
       "   sentiment  \n",
       "0       -1.0  \n",
       "1       -1.0  \n",
       "2        1.0  \n",
       "3        1.0  \n",
       "4        1.0  \n",
       "5        1.0  \n",
       "6        1.0  \n",
       "7        1.0  \n",
       "8        0.0  \n",
       "9        1.0  "
      ]
     },
     "metadata": {},
     "output_type": "display_data"
    }
   ],
   "source": [
    "df_study(df)"
   ]
  },
  {
   "cell_type": "code",
   "execution_count": 28,
   "metadata": {},
   "outputs": [],
   "source": [
    "# Our lemmatizing and stemmatizing function\n",
    "\n",
    "import nltk\n",
    "from nltk import pos_tag\n",
    "from nltk.stem import WordNetLemmatizer\n",
    "lemmatizer = WordNetLemmatizer()\n",
    "from nltk.corpus import stopwords, wordnet # Import the stopword list\n",
    "from nltk.tokenize import RegexpTokenizer\n",
    "tokenizer = RegexpTokenizer(r'\\w+')\n",
    "\n",
    "def nltk2wn_tag(nltk_tag):\n",
    "    '''\n",
    "    Function matches a tokenized word with its tag for more accurate lemmatization.\n",
    "    Returns word's tag.\n",
    "    '''\n",
    "    if nltk_tag.startswith('J'):\n",
    "        return wordnet.ADJ\n",
    "    elif nltk_tag.startswith('V'):\n",
    "        return wordnet.VERB\n",
    "    elif nltk_tag.startswith('N'):\n",
    "        return wordnet.NOUN\n",
    "    elif nltk_tag.startswith('R'):\n",
    "        return wordnet.ADV\n",
    "    else:                    \n",
    "        return None\n",
    "\n",
    "def convert_words(data_text):\n",
    "    '''\n",
    "    Function takes a text and either lemmatizes its content.\n",
    "    Returns a string of tokens if a token is not a stopword.\n",
    "    '''\n",
    "    nltk_tagged = pos_tag(tokenizer.tokenize(data_text.lower()))\n",
    "    wn_tagged = map(lambda x: (x[0], nltk2wn_tag(x[1])), nltk_tagged)\n",
    "    res_words = []\n",
    "    for word, tag in wn_tagged:\n",
    "        if tag is None:                        \n",
    "            res_words.append(word)\n",
    "        else:\n",
    "            res_words.append(lemmatizer.lemmatize(word, tag))\n",
    "    return \" \".join([word for word in res_words if word not in set(stopwords.words('english'))])"
   ]
  },
  {
   "cell_type": "code",
   "execution_count": 29,
   "metadata": {},
   "outputs": [],
   "source": [
    "df['sent_text_mod'] = df['sent_text'].map(lambda x: convert_words(x)) "
   ]
  },
  {
   "cell_type": "code",
   "execution_count": 30,
   "metadata": {},
   "outputs": [],
   "source": [
    "df['category'].fillna('none', inplace=True)"
   ]
  },
  {
   "cell_type": "code",
   "execution_count": 31,
   "metadata": {
    "scrolled": true
   },
   "outputs": [
    {
     "data": {
      "text/plain": [
       "none       1249\n",
       "room        541\n",
       "service     528\n",
       "pool        422\n",
       "other       329\n",
       "food        325\n",
       "              1\n",
       "Name: category, dtype: int64"
      ]
     },
     "execution_count": 31,
     "metadata": {},
     "output_type": "execute_result"
    }
   ],
   "source": [
    "df['category'].value_counts()"
   ]
  },
  {
   "cell_type": "code",
   "execution_count": 32,
   "metadata": {},
   "outputs": [],
   "source": [
    "df['category'].replace({'others': 'other'}, inplace=True)"
   ]
  },
  {
   "cell_type": "code",
   "execution_count": 33,
   "metadata": {},
   "outputs": [],
   "source": [
    "df['category'].replace({'  ': 'none'}, inplace=True)"
   ]
  },
  {
   "cell_type": "code",
   "execution_count": 34,
   "metadata": {},
   "outputs": [
    {
     "data": {
      "text/plain": [
       "none       1250\n",
       "room        541\n",
       "service     528\n",
       "pool        422\n",
       "other       329\n",
       "food        325\n",
       "Name: category, dtype: int64"
      ]
     },
     "execution_count": 34,
     "metadata": {},
     "output_type": "execute_result"
    }
   ],
   "source": [
    "df['category'].value_counts()"
   ]
  },
  {
   "cell_type": "code",
   "execution_count": 35,
   "metadata": {},
   "outputs": [],
   "source": [
    "map_category = {\n",
    "    'none': 0,\n",
    "    'service': 1,\n",
    "    'room': 2,\n",
    "    'pool': 3,\n",
    "    'food': 4,\n",
    "    'other': 5\n",
    "}"
   ]
  },
  {
   "cell_type": "code",
   "execution_count": 36,
   "metadata": {},
   "outputs": [],
   "source": [
    "df['category_mod'] = df['category'].map(map_category)"
   ]
  },
  {
   "cell_type": "code",
   "execution_count": 37,
   "metadata": {
    "scrolled": true
   },
   "outputs": [
    {
     "data": {
      "text/plain": [
       "0"
      ]
     },
     "execution_count": 37,
     "metadata": {},
     "output_type": "execute_result"
    }
   ],
   "source": [
    "df['category_mod'].isna().sum()"
   ]
  },
  {
   "cell_type": "code",
   "execution_count": 38,
   "metadata": {
    "scrolled": true
   },
   "outputs": [],
   "source": [
    "def get_gs_info(gs, X_test, y_test):\n",
    "    '''\n",
    "    Function prints and creates heatmap of important model metrics\n",
    "    '''\n",
    "    print(f'Best Estimator: \\n')\n",
    "    display(gs.best_estimator_)\n",
    "    y_pred = gs.predict(X_test)\n",
    "    print(f\"F1 Score (Micro): {f1_score(y_test, y_pred, average='micro')}\")\n",
    "    print(f\"F1 Score (Macro): {f1_score(y_test, y_pred, average='macro')}\")\n",
    "    print(f\"Precision Score (Micro) {precision_score(y_test, y_pred, average='micro')}\")\n",
    "    print(f\"Precision Score (Macro) {precision_score(y_test, y_pred, average='macro')}\")\n",
    "    print(f\"Recall Score (Micro) {recall_score(y_test, y_pred, average='micro')}\")\n",
    "    print(f\"Recall Score (Macro) {recall_score(y_test, y_pred, average='macro')}\")\n",
    "    conf_mat = confusion_matrix(y_test, y_pred)\n",
    "    fig, ax = plt.subplots(figsize=(10,10))\n",
    "    sns.heatmap(conf_mat, annot=True, fmt='d', cmap='coolwarm',\n",
    "                xticklabels=list(map_category.keys()), yticklabels=map_category.keys(), annot_kws={'size':16})\n",
    "    plt.ylabel('Actual', fontsize=20)\n",
    "    plt.xlabel('Predicted', fontsize=20)\n",
    "    plt.tick_params(labelsize=20)\n",
    "    plt.show()"
   ]
  },
  {
   "cell_type": "markdown",
   "metadata": {},
   "source": [
    "### Naive Bayes"
   ]
  },
  {
   "cell_type": "code",
   "execution_count": 39,
   "metadata": {},
   "outputs": [],
   "source": [
    "X = df['sent_text_mod']\n",
    "y = df['category_mod']"
   ]
  },
  {
   "cell_type": "code",
   "execution_count": 40,
   "metadata": {},
   "outputs": [],
   "source": [
    "X_train, X_test, y_train, y_test = train_test_split(X, y,\n",
    "                                                   test_size=.25,\n",
    "                                                    random_state = 42,\n",
    "                                                   stratify=y)"
   ]
  },
  {
   "cell_type": "code",
   "execution_count": 41,
   "metadata": {},
   "outputs": [
    {
     "data": {
      "text/plain": [
       "(2546,)"
      ]
     },
     "execution_count": 41,
     "metadata": {},
     "output_type": "execute_result"
    }
   ],
   "source": [
    "y_train.shape"
   ]
  },
  {
   "cell_type": "code",
   "execution_count": 42,
   "metadata": {},
   "outputs": [],
   "source": [
    "pipe = Pipeline([\n",
    "    ('vector', TfidfVectorizer(ngram_range=(1,3), stop_words='english')),\n",
    "    ('nb', MultinomialNB()),\n",
    "])"
   ]
  },
  {
   "cell_type": "code",
   "execution_count": 43,
   "metadata": {},
   "outputs": [],
   "source": [
    "pipe_params = {\n",
    "    'vector__max_features': [500, 750, 1000],\n",
    "    'vector__min_df': [4, 5, 6],\n",
    "    'vector__max_df': [.4, .45, .5],\n",
    "    'nb__alpha': [.4, .5, .6]\n",
    "}"
   ]
  },
  {
   "cell_type": "code",
   "execution_count": 44,
   "metadata": {},
   "outputs": [],
   "source": [
    "gs = GridSearchCV(pipe, \n",
    "                  pipe_params,\n",
    "                  cv=5,\n",
    "                  n_jobs=-1,\n",
    "                 )"
   ]
  },
  {
   "cell_type": "code",
   "execution_count": 45,
   "metadata": {},
   "outputs": [
    {
     "data": {
      "text/plain": [
       "GridSearchCV(cv=5,\n",
       "             estimator=Pipeline(steps=[('vector',\n",
       "                                        TfidfVectorizer(ngram_range=(1, 3),\n",
       "                                                        stop_words='english')),\n",
       "                                       ('nb', MultinomialNB())]),\n",
       "             n_jobs=-1,\n",
       "             param_grid={'nb__alpha': [0.4, 0.5, 0.6],\n",
       "                         'vector__max_df': [0.4, 0.45, 0.5],\n",
       "                         'vector__max_features': [500, 750, 1000],\n",
       "                         'vector__min_df': [4, 5, 6]})"
      ]
     },
     "execution_count": 45,
     "metadata": {},
     "output_type": "execute_result"
    }
   ],
   "source": [
    "gs.fit(X_train, y_train)"
   ]
  },
  {
   "cell_type": "code",
   "execution_count": 46,
   "metadata": {
    "scrolled": true
   },
   "outputs": [
    {
     "name": "stdout",
     "output_type": "stream",
     "text": [
      "Best Estimator: \n",
      "\n"
     ]
    },
    {
     "data": {
      "text/plain": [
       "Pipeline(steps=[('vector',\n",
       "                 TfidfVectorizer(max_df=0.4, max_features=750, min_df=5,\n",
       "                                 ngram_range=(1, 3), stop_words='english')),\n",
       "                ('nb', MultinomialNB(alpha=0.5))])"
      ]
     },
     "metadata": {},
     "output_type": "display_data"
    },
    {
     "name": "stdout",
     "output_type": "stream",
     "text": [
      "F1 Score (Micro): 0.7385159010600707\n",
      "F1 Score (Macro): 0.7158993923881479\n",
      "Precision Score (Micro) 0.7385159010600707\n",
      "Precision Score (Macro) 0.7745201189057491\n",
      "Recall Score (Micro) 0.7385159010600707\n",
      "Recall Score (Macro) 0.6839941785505103\n"
     ]
    },
    {
     "data": {
      "image/png": "[encoded data removed]",
      "text/plain": [
       "<Figure size 720x720 with 2 Axes>"
      ]
     },
     "metadata": {
      "needs_background": "light"
     },
     "output_type": "display_data"
    }
   ],
   "source": [
    "get_gs_info(gs, X_test, y_test)"
   ]
  },
  {
   "cell_type": "markdown",
   "metadata": {},
   "source": [
    "### Linear SVC"
   ]
  },
  {
   "cell_type": "code",
   "execution_count": 47,
   "metadata": {},
   "outputs": [],
   "source": [
    "pipe_svc = Pipeline([\n",
    "    ('vector', TfidfVectorizer(ngram_range=(1,3), stop_words='english')),\n",
    "    ('svc', SVC(kernel='linear', gamma='auto')),\n",
    "])"
   ]
  },
  {
   "cell_type": "code",
   "execution_count": 48,
   "metadata": {},
   "outputs": [],
   "source": [
    "pipe_params_svc = {\n",
    "    'vector__max_features': [500, 750, 1000],\n",
    "    'vector__min_df': [4, 5, 6],\n",
    "    'vector__max_df': [.3, .35, .4],\n",
    "    'svc__C': [.8, .9, 1.0],\n",
    "    'svc__degree': [3],\n",
    "    'svc__gamma': [.0001, .001, .01],\n",
    "}"
   ]
  },
  {
   "cell_type": "code",
   "execution_count": 49,
   "metadata": {},
   "outputs": [],
   "source": [
    "gs_svc = GridSearchCV(pipe_svc, \n",
    "                  pipe_params_svc,\n",
    "                  cv=5,\n",
    "                  n_jobs=-1,\n",
    "                 )"
   ]
  },
  {
   "cell_type": "code",
   "execution_count": 50,
   "metadata": {
    "scrolled": true
   },
   "outputs": [
    {
     "data": {
      "text/plain": [
       "GridSearchCV(cv=5,\n",
       "             estimator=Pipeline(steps=[('vector',\n",
       "                                        TfidfVectorizer(ngram_range=(1, 3),\n",
       "                                                        stop_words='english')),\n",
       "                                       ('svc',\n",
       "                                        SVC(gamma='auto', kernel='linear'))]),\n",
       "             n_jobs=-1,\n",
       "             param_grid={'svc__C': [0.8, 0.9, 1.0], 'svc__degree': [3],\n",
       "                         'svc__gamma': [0.0001, 0.001, 0.01],\n",
       "                         'vector__max_df': [0.3, 0.35, 0.4],\n",
       "                         'vector__max_features': [500, 750, 1000],\n",
       "                         'vector__min_df': [4, 5, 6]})"
      ]
     },
     "execution_count": 50,
     "metadata": {},
     "output_type": "execute_result"
    }
   ],
   "source": [
    "gs_svc.fit(X_train, y_train)"
   ]
  },
  {
   "cell_type": "code",
   "execution_count": 51,
   "metadata": {},
   "outputs": [
    {
     "data": {
      "text/plain": [
       "dict_keys(['none', 'service', 'room', 'pool', 'food', 'other'])"
      ]
     },
     "execution_count": 51,
     "metadata": {},
     "output_type": "execute_result"
    }
   ],
   "source": [
    "map_category.keys()"
   ]
  },
  {
   "cell_type": "code",
   "execution_count": 52,
   "metadata": {
    "scrolled": false
   },
   "outputs": [
    {
     "name": "stdout",
     "output_type": "stream",
     "text": [
      "Best Estimator: \n",
      "\n"
     ]
    },
    {
     "data": {
      "text/plain": [
       "Pipeline(steps=[('vector',\n",
       "                 TfidfVectorizer(max_df=0.3, max_features=750, min_df=5,\n",
       "                                 ngram_range=(1, 3), stop_words='english')),\n",
       "                ('svc', SVC(C=0.9, gamma=0.0001, kernel='linear'))])"
      ]
     },
     "metadata": {},
     "output_type": "display_data"
    },
    {
     "name": "stdout",
     "output_type": "stream",
     "text": [
      "F1 Score (Micro): 0.7985865724381626\n",
      "F1 Score (Macro): 0.7863356809225196\n",
      "Precision Score (Micro) 0.7985865724381626\n",
      "Precision Score (Macro) 0.8225593477974998\n",
      "Recall Score (Micro) 0.7985865724381626\n",
      "Recall Score (Macro) 0.7621935601991728\n"
     ]
    },
    {
     "data": {
      "image/png": "[encoded data removed]",
      "text/plain": [
       "<Figure size 720x720 with 2 Axes>"
      ]
     },
     "metadata": {
      "needs_background": "light"
     },
     "output_type": "display_data"
    }
   ],
   "source": [
    "get_gs_info(gs_svc, X_test, y_test)"
   ]
  },
  {
   "cell_type": "markdown",
   "metadata": {},
   "source": [
    "### Random Forest"
   ]
  },
  {
   "cell_type": "code",
   "execution_count": 53,
   "metadata": {},
   "outputs": [],
   "source": [
    "pipe_rf = Pipeline([\n",
    "    ('vector', TfidfVectorizer(ngram_range=(1,3), stop_words='english')),\n",
    "    ('rf', RandomForestClassifier(class_weight = 'balanced')),\n",
    "])"
   ]
  },
  {
   "cell_type": "code",
   "execution_count": 54,
   "metadata": {},
   "outputs": [],
   "source": [
    "pipe_params_rf = {\n",
    "    'vector__max_features': [1750, 2000, 2250],\n",
    "    'vector__min_df': [1, 2,3],\n",
    "    'vector__max_df': [.25, .3, .35],\n",
    "    'rf__n_estimators': [120, 140, 160],\n",
    "    'rf__max_depth':[8],\n",
    "}"
   ]
  },
  {
   "cell_type": "code",
   "execution_count": 55,
   "metadata": {},
   "outputs": [],
   "source": [
    "gs_rf = GridSearchCV(pipe_rf, \n",
    "                  pipe_params_rf,\n",
    "                  cv=5,\n",
    "                  n_jobs=-1,\n",
    "                 )"
   ]
  },
  {
   "cell_type": "code",
   "execution_count": 56,
   "metadata": {},
   "outputs": [
    {
     "data": {
      "text/plain": [
       "GridSearchCV(cv=5,\n",
       "             estimator=Pipeline(steps=[('vector',\n",
       "                                        TfidfVectorizer(ngram_range=(1, 3),\n",
       "                                                        stop_words='english')),\n",
       "                                       ('rf',\n",
       "                                        RandomForestClassifier(class_weight='balanced'))]),\n",
       "             n_jobs=-1,\n",
       "             param_grid={'rf__max_depth': [8],\n",
       "                         'rf__n_estimators': [120, 140, 160],\n",
       "                         'vector__max_df': [0.25, 0.3, 0.35],\n",
       "                         'vector__max_features': [1750, 2000, 2250],\n",
       "                         'vector__min_df': [1, 2, 3]})"
      ]
     },
     "execution_count": 56,
     "metadata": {},
     "output_type": "execute_result"
    }
   ],
   "source": [
    "gs_rf.fit(X_train, y_train)"
   ]
  },
  {
   "cell_type": "code",
   "execution_count": 57,
   "metadata": {
    "scrolled": false
   },
   "outputs": [
    {
     "name": "stdout",
     "output_type": "stream",
     "text": [
      "Best Estimator: \n",
      "\n"
     ]
    },
    {
     "data": {
      "text/plain": [
       "Pipeline(steps=[('vector',\n",
       "                 TfidfVectorizer(max_df=0.3, max_features=2250,\n",
       "                                 ngram_range=(1, 3), stop_words='english')),\n",
       "                ('rf',\n",
       "                 RandomForestClassifier(class_weight='balanced', max_depth=8,\n",
       "                                        n_estimators=160))])"
      ]
     },
     "metadata": {},
     "output_type": "display_data"
    },
    {
     "name": "stdout",
     "output_type": "stream",
     "text": [
      "F1 Score (Micro): 0.7809187279151943\n",
      "F1 Score (Macro): 0.7694538447844951\n",
      "Precision Score (Micro) 0.7809187279151943\n",
      "Precision Score (Macro) 0.7904663105454101\n",
      "Recall Score (Micro) 0.7809187279151943\n",
      "Recall Score (Macro) 0.7562120956241011\n"
     ]
    },
    {
     "data": {
      "image/png": "[encoded data removed]",
      "text/plain": [
       "<Figure size 720x720 with 2 Axes>"
      ]
     },
     "metadata": {
      "needs_background": "light"
     },
     "output_type": "display_data"
    }
   ],
   "source": [
    "get_gs_info(gs_rf, X_test, y_test)"
   ]
  },
  {
   "cell_type": "markdown",
   "metadata": {},
   "source": [
    "### Ada Boost"
   ]
  },
  {
   "cell_type": "code",
   "execution_count": 58,
   "metadata": {},
   "outputs": [],
   "source": [
    "pipe_ada = Pipeline([\n",
    "    ('vector', TfidfVectorizer(ngram_range=(1,3), stop_words='english')),\n",
    "    ('ada', AdaBoostClassifier()),\n",
    "])"
   ]
  },
  {
   "cell_type": "code",
   "execution_count": 59,
   "metadata": {},
   "outputs": [],
   "source": [
    "pipe_params_ada = {\n",
    "    'vector__max_features': [2250, 2500, 2750, 3000, 3520],\n",
    "    'vector__min_df': [1, 2, 3],\n",
    "    'vector__max_df': [.65, .7, .75],\n",
    "    'ada__learning_rate': [.7, .8, .9],\n",
    "    'ada__n_estimators': [80, 90, 100],\n",
    "    }"
   ]
  },
  {
   "cell_type": "code",
   "execution_count": 60,
   "metadata": {},
   "outputs": [],
   "source": [
    "gs_ada = GridSearchCV(pipe_ada, \n",
    "                  pipe_params_ada,\n",
    "                  cv=5,\n",
    "                  n_jobs=-1,\n",
    "                 )"
   ]
  },
  {
   "cell_type": "code",
   "execution_count": 61,
   "metadata": {},
   "outputs": [
    {
     "data": {
      "text/plain": [
       "GridSearchCV(cv=5,\n",
       "             estimator=Pipeline(steps=[('vector',\n",
       "                                        TfidfVectorizer(ngram_range=(1, 3),\n",
       "                                                        stop_words='english')),\n",
       "                                       ('ada', AdaBoostClassifier())]),\n",
       "             n_jobs=-1,\n",
       "             param_grid={'ada__learning_rate': [0.7, 0.8, 0.9],\n",
       "                         'ada__n_estimators': [80, 90, 100],\n",
       "                         'vector__max_df': [0.65, 0.7, 0.75],\n",
       "                         'vector__max_features': [2250, 2500, 2750, 3000, 3520],\n",
       "                         'vector__min_df': [1, 2, 3]})"
      ]
     },
     "execution_count": 61,
     "metadata": {},
     "output_type": "execute_result"
    }
   ],
   "source": [
    "gs_ada.fit(X_train, y_train)"
   ]
  },
  {
   "cell_type": "code",
   "execution_count": 62,
   "metadata": {},
   "outputs": [
    {
     "name": "stdout",
     "output_type": "stream",
     "text": [
      "Best Estimator: \n",
      "\n"
     ]
    },
    {
     "data": {
      "text/plain": [
       "Pipeline(steps=[('vector',\n",
       "                 TfidfVectorizer(max_df=0.65, max_features=2750,\n",
       "                                 ngram_range=(1, 3), stop_words='english')),\n",
       "                ('ada',\n",
       "                 AdaBoostClassifier(learning_rate=0.8, n_estimators=90))])"
      ]
     },
     "metadata": {},
     "output_type": "display_data"
    },
    {
     "name": "stdout",
     "output_type": "stream",
     "text": [
      "F1 Score (Micro): 0.7491166077738517\n",
      "F1 Score (Macro): 0.7049352964725636\n",
      "Precision Score (Micro) 0.7491166077738516\n",
      "Precision Score (Macro) 0.765965818310248\n",
      "Recall Score (Micro) 0.7491166077738516\n",
      "Recall Score (Macro) 0.6800060980371758\n"
     ]
    },
    {
     "data": {
      "image/png": "[encoded data removed]",
      "text/plain": [
       "<Figure size 720x720 with 2 Axes>"
      ]
     },
     "metadata": {
      "needs_background": "light"
     },
     "output_type": "display_data"
    }
   ],
   "source": [
    "get_gs_info(gs_ada, X_test, y_test)"
   ]
  },
  {
   "cell_type": "markdown",
   "metadata": {},
   "source": [
    "### Evaluate Misclassified Sentences\n",
    "\n",
    "We will evaluate our misclassified sentences from our Random Forest Classifier."
   ]
  },
  {
   "cell_type": "code",
   "execution_count": 63,
   "metadata": {},
   "outputs": [],
   "source": [
    "df_rf = pd.DataFrame(index=X_test.index, data=X_test)"
   ]
  },
  {
   "cell_type": "code",
   "execution_count": 64,
   "metadata": {},
   "outputs": [],
   "source": [
    "df_rf['category'] = y_test\n",
    "df_rf['preds'] = gs_rf.predict(X_test)"
   ]
  },
  {
   "cell_type": "code",
   "execution_count": 65,
   "metadata": {},
   "outputs": [],
   "source": [
    "df_rf_incorrect = df_rf.loc[df_rf['category'] != df_rf['preds']]"
   ]
  },
  {
   "cell_type": "code",
   "execution_count": 66,
   "metadata": {},
   "outputs": [],
   "source": [
    "inv_map_category = {v: k for k, v in map_category.items()}"
   ]
  },
  {
   "cell_type": "code",
   "execution_count": 67,
   "metadata": {},
   "outputs": [
    {
     "data": {
      "text/plain": [
       "{0: 'none', 1: 'service', 2: 'room', 3: 'pool', 4: 'food', 5: 'other'}"
      ]
     },
     "execution_count": 67,
     "metadata": {},
     "output_type": "execute_result"
    }
   ],
   "source": [
    "inv_map_category"
   ]
  },
  {
   "cell_type": "code",
   "execution_count": 68,
   "metadata": {},
   "outputs": [
    {
     "data": {
      "text/html": [
       "<div>\n",
       "<style scoped>\n",
       "    .dataframe tbody tr th:only-of-type {\n",
       "        vertical-align: middle;\n",
       "    }\n",
       "\n",
       "    .dataframe tbody tr th {\n",
       "        vertical-align: top;\n",
       "    }\n",
       "\n",
       "    .dataframe thead th {\n",
       "        text-align: right;\n",
       "    }\n",
       "</style>\n",
       "<table border=\"1\" class=\"dataframe\">\n",
       "  <thead>\n",
       "    <tr style=\"text-align: right;\">\n",
       "      <th></th>\n",
       "      <th>sent_text_mod</th>\n",
       "      <th>category</th>\n",
       "      <th>preds</th>\n",
       "    </tr>\n",
       "  </thead>\n",
       "  <tbody>\n",
       "    <tr>\n",
       "      <th>994</th>\n",
       "      <td>one thing highlight could able marina bay ligh...</td>\n",
       "      <td>0</td>\n",
       "      <td>2</td>\n",
       "    </tr>\n",
       "    <tr>\n",
       "      <th>1977</th>\n",
       "      <td>go observation deck price step bar</td>\n",
       "      <td>5</td>\n",
       "      <td>4</td>\n",
       "    </tr>\n",
       "    <tr>\n",
       "      <th>379</th>\n",
       "      <td>get cheap room possible</td>\n",
       "      <td>0</td>\n",
       "      <td>2</td>\n",
       "    </tr>\n",
       "    <tr>\n",
       "      <th>1951</th>\n",
       "      <td>offer free wheelchair helpful</td>\n",
       "      <td>0</td>\n",
       "      <td>1</td>\n",
       "    </tr>\n",
       "    <tr>\n",
       "      <th>2505</th>\n",
       "      <td>bath tub amaze</td>\n",
       "      <td>2</td>\n",
       "      <td>0</td>\n",
       "    </tr>\n",
       "    <tr>\n",
       "      <th>...</th>\n",
       "      <td>...</td>\n",
       "      <td>...</td>\n",
       "      <td>...</td>\n",
       "    </tr>\n",
       "    <tr>\n",
       "      <th>1360</th>\n",
       "      <td>really ought lift hotel guest</td>\n",
       "      <td>5</td>\n",
       "      <td>0</td>\n",
       "    </tr>\n",
       "    <tr>\n",
       "      <th>2401</th>\n",
       "      <td>definitely take walk around hotel outside look...</td>\n",
       "      <td>0</td>\n",
       "      <td>5</td>\n",
       "    </tr>\n",
       "    <tr>\n",
       "      <th>400</th>\n",
       "      <td>flight leave singapore late night able store l...</td>\n",
       "      <td>1</td>\n",
       "      <td>2</td>\n",
       "    </tr>\n",
       "    <tr>\n",
       "      <th>1206</th>\n",
       "      <td>view breathtaking also two jacuzzi relax</td>\n",
       "      <td>3</td>\n",
       "      <td>2</td>\n",
       "    </tr>\n",
       "    <tr>\n",
       "      <th>1316</th>\n",
       "      <td>great view crowd</td>\n",
       "      <td>0</td>\n",
       "      <td>2</td>\n",
       "    </tr>\n",
       "  </tbody>\n",
       "</table>\n",
       "<p>186 rows × 3 columns</p>\n",
       "</div>"
      ],
      "text/plain": [
       "                                          sent_text_mod  category  preds\n",
       "994   one thing highlight could able marina bay ligh...         0      2\n",
       "1977                 go observation deck price step bar         5      4\n",
       "379                             get cheap room possible         0      2\n",
       "1951                      offer free wheelchair helpful         0      1\n",
       "2505                                     bath tub amaze         2      0\n",
       "...                                                 ...       ...    ...\n",
       "1360                      really ought lift hotel guest         5      0\n",
       "2401  definitely take walk around hotel outside look...         0      5\n",
       "400   flight leave singapore late night able store l...         1      2\n",
       "1206           view breathtaking also two jacuzzi relax         3      2\n",
       "1316                                   great view crowd         0      2\n",
       "\n",
       "[186 rows x 3 columns]"
      ]
     },
     "execution_count": 68,
     "metadata": {},
     "output_type": "execute_result"
    }
   ],
   "source": [
    "df_rf_incorrect"
   ]
  },
  {
   "cell_type": "code",
   "execution_count": 69,
   "metadata": {},
   "outputs": [
    {
     "name": "stderr",
     "output_type": "stream",
     "text": [
      "<ipython-input-69-488de1a656e8>:1: SettingWithCopyWarning: \n",
      "A value is trying to be set on a copy of a slice from a DataFrame.\n",
      "Try using .loc[row_indexer,col_indexer] = value instead\n",
      "\n",
      "See the caveats in the documentation: https://pandas.pydata.org/pandas-docs/stable/user_guide/indexing.html#returning-a-view-versus-a-copy\n",
      "  df_rf_incorrect['category'] = reverse_map_categories(df_rf_incorrect['category'])\n",
      "<ipython-input-69-488de1a656e8>:2: SettingWithCopyWarning: \n",
      "A value is trying to be set on a copy of a slice from a DataFrame.\n",
      "Try using .loc[row_indexer,col_indexer] = value instead\n",
      "\n",
      "See the caveats in the documentation: https://pandas.pydata.org/pandas-docs/stable/user_guide/indexing.html#returning-a-view-versus-a-copy\n",
      "  df_rf_incorrect['preds'] = reverse_map_categories(df_rf_incorrect['preds'])\n"
     ]
    }
   ],
   "source": [
    "df_rf_incorrect['category'] = reverse_map_categories(df_rf_incorrect['category'])\n",
    "df_rf_incorrect['preds'] = reverse_map_categories(df_rf_incorrect['preds'])"
   ]
  },
  {
   "cell_type": "code",
   "execution_count": 70,
   "metadata": {},
   "outputs": [
    {
     "data": {
      "text/html": [
       "<div>\n",
       "<style scoped>\n",
       "    .dataframe tbody tr th:only-of-type {\n",
       "        vertical-align: middle;\n",
       "    }\n",
       "\n",
       "    .dataframe tbody tr th {\n",
       "        vertical-align: top;\n",
       "    }\n",
       "\n",
       "    .dataframe thead th {\n",
       "        text-align: right;\n",
       "    }\n",
       "</style>\n",
       "<table border=\"1\" class=\"dataframe\">\n",
       "  <thead>\n",
       "    <tr style=\"text-align: right;\">\n",
       "      <th></th>\n",
       "      <th>sent_text_mod</th>\n",
       "      <th>category</th>\n",
       "      <th>preds</th>\n",
       "    </tr>\n",
       "  </thead>\n",
       "  <tbody>\n",
       "    <tr>\n",
       "      <th>994</th>\n",
       "      <td>one thing highlight could able marina bay ligh...</td>\n",
       "      <td>none</td>\n",
       "      <td>room</td>\n",
       "    </tr>\n",
       "    <tr>\n",
       "      <th>1977</th>\n",
       "      <td>go observation deck price step bar</td>\n",
       "      <td>other</td>\n",
       "      <td>food</td>\n",
       "    </tr>\n",
       "    <tr>\n",
       "      <th>379</th>\n",
       "      <td>get cheap room possible</td>\n",
       "      <td>none</td>\n",
       "      <td>room</td>\n",
       "    </tr>\n",
       "    <tr>\n",
       "      <th>1951</th>\n",
       "      <td>offer free wheelchair helpful</td>\n",
       "      <td>none</td>\n",
       "      <td>service</td>\n",
       "    </tr>\n",
       "    <tr>\n",
       "      <th>2505</th>\n",
       "      <td>bath tub amaze</td>\n",
       "      <td>room</td>\n",
       "      <td>none</td>\n",
       "    </tr>\n",
       "    <tr>\n",
       "      <th>...</th>\n",
       "      <td>...</td>\n",
       "      <td>...</td>\n",
       "      <td>...</td>\n",
       "    </tr>\n",
       "    <tr>\n",
       "      <th>1360</th>\n",
       "      <td>really ought lift hotel guest</td>\n",
       "      <td>other</td>\n",
       "      <td>none</td>\n",
       "    </tr>\n",
       "    <tr>\n",
       "      <th>2401</th>\n",
       "      <td>definitely take walk around hotel outside look...</td>\n",
       "      <td>none</td>\n",
       "      <td>other</td>\n",
       "    </tr>\n",
       "    <tr>\n",
       "      <th>400</th>\n",
       "      <td>flight leave singapore late night able store l...</td>\n",
       "      <td>service</td>\n",
       "      <td>room</td>\n",
       "    </tr>\n",
       "    <tr>\n",
       "      <th>1206</th>\n",
       "      <td>view breathtaking also two jacuzzi relax</td>\n",
       "      <td>pool</td>\n",
       "      <td>room</td>\n",
       "    </tr>\n",
       "    <tr>\n",
       "      <th>1316</th>\n",
       "      <td>great view crowd</td>\n",
       "      <td>none</td>\n",
       "      <td>room</td>\n",
       "    </tr>\n",
       "  </tbody>\n",
       "</table>\n",
       "<p>186 rows × 3 columns</p>\n",
       "</div>"
      ],
      "text/plain": [
       "                                          sent_text_mod category    preds\n",
       "994   one thing highlight could able marina bay ligh...     none     room\n",
       "1977                 go observation deck price step bar    other     food\n",
       "379                             get cheap room possible     none     room\n",
       "1951                      offer free wheelchair helpful     none  service\n",
       "2505                                     bath tub amaze     room     none\n",
       "...                                                 ...      ...      ...\n",
       "1360                      really ought lift hotel guest    other     none\n",
       "2401  definitely take walk around hotel outside look...     none    other\n",
       "400   flight leave singapore late night able store l...  service     room\n",
       "1206           view breathtaking also two jacuzzi relax     pool     room\n",
       "1316                                   great view crowd     none     room\n",
       "\n",
       "[186 rows x 3 columns]"
      ]
     },
     "execution_count": 70,
     "metadata": {},
     "output_type": "execute_result"
    }
   ],
   "source": [
    "df_rf_incorrect"
   ]
  },
  {
   "cell_type": "code",
   "execution_count": 72,
   "metadata": {},
   "outputs": [],
   "source": [
    "df_rf_incorrect.to_csv('../datasets/review/gs_rf_incorrect.csv')"
   ]
  },
  {
   "cell_type": "markdown",
   "metadata": {},
   "source": [
    "**Upon Analysis**: Unfortunately, there was not an obvious pattern for incorrectly predicted data. The one most obvious creator of mispredicted data were spelling mistakes/typoes which threw the classifier off. Other than that, it appears that the classifier simply required more data to function optimally. This was an observation from boolegging as well, as a larger train set produced more and more accurate category predictions."
   ]
  },
  {
   "cell_type": "markdown",
   "metadata": {},
   "source": [
    "## Sentiment Analysis\n",
    "\n",
    "For Sentiment Analysis, we compared:\n",
    "1. Pre-trained NLTK VADER\n",
    "2. Pre-trained TextBlob\n",
    "\n",
    "With  \n",
    "3. Random Forest\n",
    "\n",
    "As the benchmark."
   ]
  },
  {
   "cell_type": "code",
   "execution_count": 73,
   "metadata": {},
   "outputs": [],
   "source": [
    "from nltk.corpus import subjectivity\n",
    "from nltk.sentiment import SentimentIntensityAnalyzer\n",
    "from nltk.sentiment.util import *\n",
    "from textblob import TextBlob"
   ]
  },
  {
   "cell_type": "code",
   "execution_count": 74,
   "metadata": {},
   "outputs": [],
   "source": [
    "X_sent = df['sent_text']\n",
    "y_sent = df['sentiment']\n",
    "sid = SentimentIntensityAnalyzer()"
   ]
  },
  {
   "cell_type": "code",
   "execution_count": 75,
   "metadata": {},
   "outputs": [
    {
     "data": {
      "text/plain": [
       " 1.0    1858\n",
       " 0.0    1117\n",
       "-1.0     404\n",
       " 6.0       1\n",
       "Name: sentiment, dtype: int64"
      ]
     },
     "execution_count": 75,
     "metadata": {},
     "output_type": "execute_result"
    }
   ],
   "source": [
    "df['sentiment'].value_counts()"
   ]
  },
  {
   "cell_type": "code",
   "execution_count": 76,
   "metadata": {},
   "outputs": [],
   "source": [
    "df.loc[df['sentiment'] == 6.0, 'sentiment'] = 1.0"
   ]
  },
  {
   "cell_type": "code",
   "execution_count": 77,
   "metadata": {},
   "outputs": [
    {
     "name": "stdout",
     "output_type": "stream",
     "text": [
      "VADER Sentiment Score Untokenized: 0.759941089837997\n",
      "VADER Sentiment Score Tokenized: 0.727540500736377\n"
     ]
    }
   ],
   "source": [
    "for index, row in df.iterrows():\n",
    "    ss = sid.polarity_scores(row['sent_text'])\n",
    "    ss2 = sid.polarity_scores(row['sent_text_mod'])\n",
    "\n",
    "    if ss['compound'] > 0.0:\n",
    "        df.loc[index, 'sentiment_pred_vader'] = 1\n",
    "    elif ss['compound'] == 0.0 :\n",
    "        df.loc[index, 'sentiment_pred_vader'] = 0\n",
    "    elif ss['compound'] < 0.0:\n",
    "        df.loc[index, 'sentiment_pred_vader'] = -1\n",
    "        \n",
    "    if ss2['compound'] > 0.0:\n",
    "        df.loc[index, 'sentiment_pred_vader_token'] = 1\n",
    "    elif ss2['compound'] == 0.0 :\n",
    "        df.loc[index, 'sentiment_pred_vader_token'] = 0\n",
    "    elif ss2['compound'] < 0.0:\n",
    "        df.loc[index, 'sentiment_pred_vader_token'] = -1\n",
    "\n",
    "matches = matches_token = 0\n",
    "for index, row in df.iterrows():\n",
    "    if row['sentiment'] == row['sentiment_pred_vader']:\n",
    "        matches += 1\n",
    "    if row['sentiment'] == row['sentiment_pred_vader_token']:\n",
    "        matches_token += 1\n",
    "        \n",
    "sentiment_score_untokenized = matches/len(df) \n",
    "sentiment_score_tokenized = matches_token/len(df) \n",
    "print(f'VADER Sentiment Score Untokenized: {sentiment_score_untokenized}')\n",
    "print(f'VADER Sentiment Score Tokenized: {sentiment_score_tokenized}')"
   ]
  },
  {
   "cell_type": "code",
   "execution_count": 78,
   "metadata": {},
   "outputs": [
    {
     "name": "stdout",
     "output_type": "stream",
     "text": [
      "TextBlob Sentiment Score Untokenized: 0.6703976435935198\n",
      "TextBlob Sentiment Score Tokenized: 0.646539027982327\n"
     ]
    }
   ],
   "source": [
    "for index, row in df.iterrows():\n",
    "    blob = TextBlob(row['sent_text'])\n",
    "    blob_token = TextBlob(row['sent_text_mod'])\n",
    "    \n",
    "    if blob.sentiment[0] > 0:\n",
    "        df.loc[index, 'sentiment_pred_textblob'] = 1\n",
    "    elif blob.sentiment[0] == 0:\n",
    "        df.loc[index, 'sentiment_pred_textblob'] = 0\n",
    "    elif blob.sentiment[0] < 0:\n",
    "        df.loc[index, 'sentiment_pred_textblob'] = -1\n",
    "        \n",
    "    if blob_token.sentiment[0] > 0:\n",
    "        df.loc[index, 'sentiment_pred_textblob_token'] = 1\n",
    "    elif blob_token.sentiment[0] == 0:\n",
    "        df.loc[index, 'sentiment_pred_textblob_token'] = 0\n",
    "    elif blob_token.sentiment[0] < 0:\n",
    "        df.loc[index, 'sentiment_pred_textblob_token'] = -1\n",
    "        \n",
    "\n",
    "matches = matches_token = 0\n",
    "for index, row in df.iterrows():\n",
    "    if row['sentiment'] == row['sentiment_pred_textblob']:\n",
    "        matches += 1\n",
    "    if row['sentiment'] == row['sentiment_pred_textblob_token']:\n",
    "        matches_token += 1\n",
    "        \n",
    "sentiment_score_untokenized = matches/len(df) \n",
    "sentiment_score_tokenized = matches_token/len(df) \n",
    "print(f'TextBlob Sentiment Score Untokenized: {sentiment_score_untokenized}')\n",
    "print(f'TextBlob Sentiment Score Tokenized: {sentiment_score_tokenized}')"
   ]
  },
  {
   "cell_type": "markdown",
   "metadata": {},
   "source": [
    "How well do each of the pre-trained algorithms do in comparison to the annotated results?"
   ]
  },
  {
   "cell_type": "code",
   "execution_count": 79,
   "metadata": {},
   "outputs": [],
   "source": [
    "def create_comparison_plot_df(df, result_name, pred_name, pred2_name):\n",
    "    df_sentiment = pd.DataFrame()\n",
    "    for index, row in df.iterrows():\n",
    "        df_sentiment.loc[index, 'type'] = df[result_name].name\n",
    "        df_sentiment.loc[index, 'result'] = row[result_name]\n",
    "        \n",
    "    for index, row in df.iterrows():\n",
    "        df_sentiment.loc[index+len(df), 'type'] = df[pred_name].name\n",
    "        df_sentiment.loc[index+len(df), 'result'] = row[pred_name]\n",
    "    \n",
    "    for index, row in df.iterrows():\n",
    "        df_sentiment.loc[index+len(df)+len(df), 'type'] = df[pred2_name].name\n",
    "        df_sentiment.loc[index+len(df)+len(df), 'result'] = row[pred2_name]\n",
    "        \n",
    "    return df_sentiment"
   ]
  },
  {
   "cell_type": "code",
   "execution_count": 80,
   "metadata": {},
   "outputs": [],
   "source": [
    "vader_sent_df = create_comparison_plot_df(df, 'sentiment', 'sentiment_pred_vader', 'sentiment_pred_textblob')"
   ]
  },
  {
   "cell_type": "code",
   "execution_count": 81,
   "metadata": {},
   "outputs": [
    {
     "data": {
      "text/plain": [
       "Text(0, 0.5, 'Sentiment')"
      ]
     },
     "execution_count": 81,
     "metadata": {},
     "output_type": "execute_result"
    },
    {
     "data": {
      "image/png": "[encoded data removed]",
      "text/plain": [
       "<Figure size 720x864 with 1 Axes>"
      ]
     },
     "metadata": {
      "needs_background": "light"
     },
     "output_type": "display_data"
    }
   ],
   "source": [
    "plt.figure(figsize=(10,12))\n",
    "ax = sns.countplot(y=\"result\", hue=\"type\", data=vader_sent_df)\n",
    "ax.tick_params(labelsize=20)\n",
    "ax.set_title(\"Sentiment Analysis Comparison\",fontsize=15)\n",
    "ax.set_xlabel(\"Count\",fontsize=20)\n",
    "ax.set_ylabel(\"Sentiment\",fontsize=20)"
   ]
  },
  {
   "cell_type": "markdown",
   "metadata": {},
   "source": [
    "From the above graph, we see that both VADER and Textblob predicted more positive results (1.0) than the other two classes. This is understandable as positive is the majority class. That said, the results are not very different."
   ]
  },
  {
   "cell_type": "markdown",
   "metadata": {},
   "source": [
    "Can we adjust VADER to predict the scores more accurately? Let's take a look at what mistakes are common and if we may fix them through a rules-matching approach"
   ]
  },
  {
   "cell_type": "code",
   "execution_count": 84,
   "metadata": {},
   "outputs": [],
   "source": [
    "df.loc[(df['sentiment'] != df['sentiment_pred_vader']), ['sent_text', 'sentiment', 'sentiment_pred_vader']].to_csv('../datasets/review/df_sentiment.csv')"
   ]
  },
  {
   "cell_type": "markdown",
   "metadata": {},
   "source": [
    "Again, no obvious patterns for mis-predicted rows could be found."
   ]
  },
  {
   "cell_type": "markdown",
   "metadata": {},
   "source": [
    "### Using TF-IDF and Classifiers"
   ]
  },
  {
   "cell_type": "code",
   "execution_count": 90,
   "metadata": {
    "scrolled": true
   },
   "outputs": [
    {
     "data": {
      "text/plain": [
       "0"
      ]
     },
     "execution_count": 90,
     "metadata": {},
     "output_type": "execute_result"
    }
   ],
   "source": [
    "df['sentiment'].isna().sum()"
   ]
  },
  {
   "cell_type": "code",
   "execution_count": 91,
   "metadata": {},
   "outputs": [],
   "source": [
    "df.dropna(subset=['sentiment'], inplace=True)"
   ]
  },
  {
   "cell_type": "code",
   "execution_count": 92,
   "metadata": {},
   "outputs": [],
   "source": [
    "X = df['sent_text_mod']\n",
    "y = df['sentiment']"
   ]
  },
  {
   "cell_type": "code",
   "execution_count": 93,
   "metadata": {},
   "outputs": [],
   "source": [
    "X_train_sent, X_test_sent, y_train_sent, y_test_sent = train_test_split(X, y,\n",
    "                                                   test_size=.25,\n",
    "                                                    random_state = 42,\n",
    "                                                   stratify=y)"
   ]
  },
  {
   "cell_type": "code",
   "execution_count": 94,
   "metadata": {},
   "outputs": [],
   "source": [
    "pipe_params_rf_sent = {\n",
    "    'vector__max_features': [2250, 2500, 2750],\n",
    "    'vector__min_df': [1, 2, 3],\n",
    "    'vector__max_df': [.25, .3, .35],\n",
    "    'rf__n_estimators': [120, 140, 160],\n",
    "    'rf__max_depth':[7],\n",
    "}"
   ]
  },
  {
   "cell_type": "code",
   "execution_count": 95,
   "metadata": {},
   "outputs": [],
   "source": [
    "gs_rf_sent = GridSearchCV(pipe_rf, \n",
    "                  pipe_params_rf_sent,\n",
    "                  cv=5,\n",
    "                  n_jobs=-1,\n",
    "                 )"
   ]
  },
  {
   "cell_type": "code",
   "execution_count": 96,
   "metadata": {},
   "outputs": [
    {
     "data": {
      "text/plain": [
       "GridSearchCV(cv=5,\n",
       "             estimator=Pipeline(steps=[('vector',\n",
       "                                        TfidfVectorizer(ngram_range=(1, 3),\n",
       "                                                        stop_words='english')),\n",
       "                                       ('rf',\n",
       "                                        RandomForestClassifier(class_weight='balanced'))]),\n",
       "             n_jobs=-1,\n",
       "             param_grid={'rf__max_depth': [7],\n",
       "                         'rf__n_estimators': [120, 140, 160],\n",
       "                         'vector__max_df': [0.25, 0.3, 0.35],\n",
       "                         'vector__max_features': [2250, 2500, 2750],\n",
       "                         'vector__min_df': [1, 2, 3]})"
      ]
     },
     "execution_count": 96,
     "metadata": {},
     "output_type": "execute_result"
    }
   ],
   "source": [
    "gs_rf_sent.fit(X_train_sent, y_train_sent)"
   ]
  },
  {
   "cell_type": "code",
   "execution_count": null,
   "metadata": {},
   "outputs": [],
   "source": []
  },
  {
   "cell_type": "code",
   "execution_count": 97,
   "metadata": {},
   "outputs": [],
   "source": [
    "def get_gs_info_sent(gs, X_test, y_test):\n",
    "    '''\n",
    "    Function prints and creates heatmap of important model metrics\n",
    "    '''\n",
    "    print(f'Best Estimator: \\n')\n",
    "    display(gs.best_estimator_)\n",
    "    y_pred = gs.predict(X_test)\n",
    "    print(f\"F1 Score (Micro): {f1_score(y_test, y_pred, average='micro')}\")\n",
    "    print(f\"F1 Score (Macro): {f1_score(y_test, y_pred, average='macro')}\")\n",
    "    print(f\"Precision Score (Micro) {precision_score(y_test, y_pred, average='micro')}\")\n",
    "    print(f\"Precision Score (Macro) {precision_score(y_test, y_pred, average='macro')}\")\n",
    "    print(f\"Recall Score (Micro) {recall_score(y_test, y_pred, average='micro')}\")\n",
    "    print(f\"Recall Score (Macro) {recall_score(y_test, y_pred, average='macro')}\")\n",
    "    conf_mat = confusion_matrix(y_test, y_pred)\n",
    "    fig, ax = plt.subplots(figsize=(10,10))\n",
    "    sns.heatmap(conf_mat, annot=True, fmt='d', cmap='coolwarm',\n",
    "                xticklabels=[-1, 0, 1], yticklabels=[-1, 0, 1], annot_kws={'size':16})\n",
    "    plt.ylabel('Actual', fontsize=20)\n",
    "    plt.xlabel('Predicted', fontsize=20)\n",
    "    plt.tick_params(labelsize=20)\n",
    "    plt.show()"
   ]
  },
  {
   "cell_type": "code",
   "execution_count": 98,
   "metadata": {
    "scrolled": true
   },
   "outputs": [
    {
     "name": "stdout",
     "output_type": "stream",
     "text": [
      "Best Estimator: \n",
      "\n"
     ]
    },
    {
     "data": {
      "text/plain": [
       "Pipeline(steps=[('vector',\n",
       "                 TfidfVectorizer(max_df=0.25, max_features=2750,\n",
       "                                 ngram_range=(1, 3), stop_words='english')),\n",
       "                ('rf',\n",
       "                 RandomForestClassifier(class_weight='balanced', max_depth=7,\n",
       "                                        n_estimators=160))])"
      ]
     },
     "metadata": {},
     "output_type": "display_data"
    },
    {
     "name": "stdout",
     "output_type": "stream",
     "text": [
      "F1 Score (Micro): 0.5976331360946746\n",
      "F1 Score (Macro): 0.55038258689637\n",
      "Precision Score (Micro) 0.5976331360946746\n",
      "Precision Score (Macro) 0.5595467079864486\n",
      "Recall Score (Micro) 0.5976331360946746\n",
      "Recall Score (Macro) 0.5703041271869123\n"
     ]
    },
    {
     "data": {
      "image/png": "[encoded data removed]",
      "text/plain": [
       "<Figure size 720x720 with 2 Axes>"
      ]
     },
     "metadata": {
      "needs_background": "light"
     },
     "output_type": "display_data"
    }
   ],
   "source": [
    "get_gs_info_sent(gs_rf_sent, X_test_sent, y_test_sent)"
   ]
  },
  {
   "cell_type": "markdown",
   "metadata": {},
   "source": [
    "The model performs much worse than the pre-trained algorithms. This was expected given the general nature of sentiment (positive and negative sentiment in all context will share a similar but broad vocabulary. That said, performance is expected to improve with more data provided."
   ]
  },
  {
   "cell_type": "markdown",
   "metadata": {},
   "source": [
    "## Fullerton Data\n",
    "\n",
    "Using our MBS models, we will bootstrap annotate and then subsequently predict our annotated Fullerton data on our MBS trained models Linear SVC and Random Forest models."
   ]
  },
  {
   "cell_type": "code",
   "execution_count": 99,
   "metadata": {},
   "outputs": [],
   "source": [
    "full_df = pd.read_csv('../datasets/sentencized/test_df_210426.csv')"
   ]
  },
  {
   "cell_type": "code",
   "execution_count": 100,
   "metadata": {},
   "outputs": [
    {
     "data": {
      "text/html": [
       "<div>\n",
       "<style scoped>\n",
       "    .dataframe tbody tr th:only-of-type {\n",
       "        vertical-align: middle;\n",
       "    }\n",
       "\n",
       "    .dataframe tbody tr th {\n",
       "        vertical-align: top;\n",
       "    }\n",
       "\n",
       "    .dataframe thead th {\n",
       "        text-align: right;\n",
       "    }\n",
       "</style>\n",
       "<table border=\"1\" class=\"dataframe\">\n",
       "  <thead>\n",
       "    <tr style=\"text-align: right;\">\n",
       "      <th></th>\n",
       "      <th>Unnamed: 0</th>\n",
       "      <th>rev_id</th>\n",
       "      <th>sent_text</th>\n",
       "      <th>objects</th>\n",
       "      <th>descriptive</th>\n",
       "      <th>vader_neg</th>\n",
       "      <th>vader_neu</th>\n",
       "      <th>vader_pos</th>\n",
       "      <th>vader_comp</th>\n",
       "      <th>category</th>\n",
       "      <th>sentiment</th>\n",
       "      <th>batch_date</th>\n",
       "    </tr>\n",
       "  </thead>\n",
       "  <tbody>\n",
       "    <tr>\n",
       "      <th>0</th>\n",
       "      <td>0</td>\n",
       "      <td>689620611</td>\n",
       "      <td>Our suite overlooked the Singapore River and s...</td>\n",
       "      <td>suite, River, we, views</td>\n",
       "      <td>amazing</td>\n",
       "      <td>0.073</td>\n",
       "      <td>0.659</td>\n",
       "      <td>0.268</td>\n",
       "      <td>0.6077</td>\n",
       "      <td>NaN</td>\n",
       "      <td>1.0</td>\n",
       "      <td>210426</td>\n",
       "    </tr>\n",
       "    <tr>\n",
       "      <th>1</th>\n",
       "      <td>1</td>\n",
       "      <td>689620611</td>\n",
       "      <td>Its located within easy walk of many attractio...</td>\n",
       "      <td>walk, attractions, others, Island</td>\n",
       "      <td>easy, many, worst</td>\n",
       "      <td>0.153</td>\n",
       "      <td>0.634</td>\n",
       "      <td>0.213</td>\n",
       "      <td>0.1531</td>\n",
       "      <td>NaN</td>\n",
       "      <td>1.0</td>\n",
       "      <td>210426</td>\n",
       "    </tr>\n",
       "    <tr>\n",
       "      <th>2</th>\n",
       "      <td>2</td>\n",
       "      <td>689620611</td>\n",
       "      <td>Our check-in was swift and friendly.</td>\n",
       "      <td>check</td>\n",
       "      <td>swift, friendly</td>\n",
       "      <td>0.000</td>\n",
       "      <td>0.444</td>\n",
       "      <td>0.556</td>\n",
       "      <td>0.6124</td>\n",
       "      <td>NaN</td>\n",
       "      <td>1.0</td>\n",
       "      <td>210426</td>\n",
       "    </tr>\n",
       "    <tr>\n",
       "      <th>3</th>\n",
       "      <td>3</td>\n",
       "      <td>689620611</td>\n",
       "      <td>Staff were welcoming at all times and most spo...</td>\n",
       "      <td>Staff, times, English, us</td>\n",
       "      <td>most</td>\n",
       "      <td>0.000</td>\n",
       "      <td>0.642</td>\n",
       "      <td>0.358</td>\n",
       "      <td>0.8104</td>\n",
       "      <td>NaN</td>\n",
       "      <td>1.0</td>\n",
       "      <td>210426</td>\n",
       "    </tr>\n",
       "    <tr>\n",
       "      <th>4</th>\n",
       "      <td>4</td>\n",
       "      <td>689620611</td>\n",
       "      <td>Breakfast was of high caliber and of considera...</td>\n",
       "      <td>Breakfast, caliber, variety</td>\n",
       "      <td>high, considerable</td>\n",
       "      <td>0.000</td>\n",
       "      <td>1.000</td>\n",
       "      <td>0.000</td>\n",
       "      <td>0.0000</td>\n",
       "      <td>NaN</td>\n",
       "      <td>0.0</td>\n",
       "      <td>210426</td>\n",
       "    </tr>\n",
       "    <tr>\n",
       "      <th>...</th>\n",
       "      <td>...</td>\n",
       "      <td>...</td>\n",
       "      <td>...</td>\n",
       "      <td>...</td>\n",
       "      <td>...</td>\n",
       "      <td>...</td>\n",
       "      <td>...</td>\n",
       "      <td>...</td>\n",
       "      <td>...</td>\n",
       "      <td>...</td>\n",
       "      <td>...</td>\n",
       "      <td>...</td>\n",
       "    </tr>\n",
       "    <tr>\n",
       "      <th>3001</th>\n",
       "      <td>3001</td>\n",
       "      <td>660976489</td>\n",
       "      <td>Service was superb at all touch points as wel...</td>\n",
       "      <td>Service, points</td>\n",
       "      <td>superb</td>\n",
       "      <td>0.000</td>\n",
       "      <td>0.530</td>\n",
       "      <td>0.470</td>\n",
       "      <td>0.7351</td>\n",
       "      <td>NaN</td>\n",
       "      <td>1.0</td>\n",
       "      <td>210426</td>\n",
       "    </tr>\n",
       "    <tr>\n",
       "      <th>3002</th>\n",
       "      <td>3002</td>\n",
       "      <td>660976489</td>\n",
       "      <td>We will definitely stay at the Fullerton</td>\n",
       "      <td>We, Fullerton</td>\n",
       "      <td>NaN</td>\n",
       "      <td>0.000</td>\n",
       "      <td>0.690</td>\n",
       "      <td>0.310</td>\n",
       "      <td>0.4019</td>\n",
       "      <td>NaN</td>\n",
       "      <td>1.0</td>\n",
       "      <td>210426</td>\n",
       "    </tr>\n",
       "    <tr>\n",
       "      <th>3003</th>\n",
       "      <td>3003</td>\n",
       "      <td>660929915</td>\n",
       "      <td>From precheck in welcoming email,  our stay at...</td>\n",
       "      <td>precheck, email,  , stay, hotel, nothing, staf...</td>\n",
       "      <td>beautiful, too much, relaxed</td>\n",
       "      <td>0.000</td>\n",
       "      <td>0.783</td>\n",
       "      <td>0.217</td>\n",
       "      <td>0.8750</td>\n",
       "      <td>NaN</td>\n",
       "      <td>1.0</td>\n",
       "      <td>210426</td>\n",
       "    </tr>\n",
       "    <tr>\n",
       "      <th>3004</th>\n",
       "      <td>3004</td>\n",
       "      <td>660929915</td>\n",
       "      <td>Very very comfortable beds felt like I was sle...</td>\n",
       "      <td>beds, I, cloud, flight, delays, this</td>\n",
       "      <td>Very very comfortable, long, welcome</td>\n",
       "      <td>0.000</td>\n",
       "      <td>0.615</td>\n",
       "      <td>0.385</td>\n",
       "      <td>0.8545</td>\n",
       "      <td>NaN</td>\n",
       "      <td>1.0</td>\n",
       "      <td>210426</td>\n",
       "    </tr>\n",
       "    <tr>\n",
       "      <th>3005</th>\n",
       "      <td>3005</td>\n",
       "      <td>660929915</td>\n",
       "      <td>Will definitely come back again.</td>\n",
       "      <td>NaN</td>\n",
       "      <td>NaN</td>\n",
       "      <td>0.000</td>\n",
       "      <td>0.597</td>\n",
       "      <td>0.403</td>\n",
       "      <td>0.4019</td>\n",
       "      <td>NaN</td>\n",
       "      <td>1.0</td>\n",
       "      <td>210426</td>\n",
       "    </tr>\n",
       "  </tbody>\n",
       "</table>\n",
       "<p>3006 rows × 12 columns</p>\n",
       "</div>"
      ],
      "text/plain": [
       "      Unnamed: 0     rev_id  \\\n",
       "0              0  689620611   \n",
       "1              1  689620611   \n",
       "2              2  689620611   \n",
       "3              3  689620611   \n",
       "4              4  689620611   \n",
       "...          ...        ...   \n",
       "3001        3001  660976489   \n",
       "3002        3002  660976489   \n",
       "3003        3003  660929915   \n",
       "3004        3004  660929915   \n",
       "3005        3005  660929915   \n",
       "\n",
       "                                              sent_text  \\\n",
       "0     Our suite overlooked the Singapore River and s...   \n",
       "1     Its located within easy walk of many attractio...   \n",
       "2                  Our check-in was swift and friendly.   \n",
       "3     Staff were welcoming at all times and most spo...   \n",
       "4     Breakfast was of high caliber and of considera...   \n",
       "...                                                 ...   \n",
       "3001   Service was superb at all touch points as wel...   \n",
       "3002           We will definitely stay at the Fullerton   \n",
       "3003  From precheck in welcoming email,  our stay at...   \n",
       "3004  Very very comfortable beds felt like I was sle...   \n",
       "3005                   Will definitely come back again.   \n",
       "\n",
       "                                                objects  \\\n",
       "0                               suite, River, we, views   \n",
       "1                     walk, attractions, others, Island   \n",
       "2                                                 check   \n",
       "3                             Staff, times, English, us   \n",
       "4                           Breakfast, caliber, variety   \n",
       "...                                                 ...   \n",
       "3001                                    Service, points   \n",
       "3002                                      We, Fullerton   \n",
       "3003  precheck, email,  , stay, hotel, nothing, staf...   \n",
       "3004               beds, I, cloud, flight, delays, this   \n",
       "3005                                                NaN   \n",
       "\n",
       "                               descriptive  vader_neg  vader_neu  vader_pos  \\\n",
       "0                                  amazing      0.073      0.659      0.268   \n",
       "1                        easy, many, worst      0.153      0.634      0.213   \n",
       "2                          swift, friendly      0.000      0.444      0.556   \n",
       "3                                     most      0.000      0.642      0.358   \n",
       "4                       high, considerable      0.000      1.000      0.000   \n",
       "...                                    ...        ...        ...        ...   \n",
       "3001                                superb      0.000      0.530      0.470   \n",
       "3002                                   NaN      0.000      0.690      0.310   \n",
       "3003          beautiful, too much, relaxed      0.000      0.783      0.217   \n",
       "3004  Very very comfortable, long, welcome      0.000      0.615      0.385   \n",
       "3005                                   NaN      0.000      0.597      0.403   \n",
       "\n",
       "      vader_comp  category  sentiment  batch_date  \n",
       "0         0.6077       NaN        1.0      210426  \n",
       "1         0.1531       NaN        1.0      210426  \n",
       "2         0.6124       NaN        1.0      210426  \n",
       "3         0.8104       NaN        1.0      210426  \n",
       "4         0.0000       NaN        0.0      210426  \n",
       "...          ...       ...        ...         ...  \n",
       "3001      0.7351       NaN        1.0      210426  \n",
       "3002      0.4019       NaN        1.0      210426  \n",
       "3003      0.8750       NaN        1.0      210426  \n",
       "3004      0.8545       NaN        1.0      210426  \n",
       "3005      0.4019       NaN        1.0      210426  \n",
       "\n",
       "[3006 rows x 12 columns]"
      ]
     },
     "execution_count": 100,
     "metadata": {},
     "output_type": "execute_result"
    }
   ],
   "source": [
    "full_df"
   ]
  },
  {
   "cell_type": "code",
   "execution_count": 101,
   "metadata": {},
   "outputs": [],
   "source": [
    "full_df.rename(columns={\"Unnamed: 3\": \"category\", \"Unnamed: 0\": \"sent_id\"}, inplace=True)"
   ]
  },
  {
   "cell_type": "code",
   "execution_count": 102,
   "metadata": {},
   "outputs": [],
   "source": [
    "full_df.set_index('sent_id', inplace=True)"
   ]
  },
  {
   "cell_type": "code",
   "execution_count": 103,
   "metadata": {},
   "outputs": [],
   "source": [
    "remove_short_and_empty_sents(full_df)"
   ]
  },
  {
   "cell_type": "code",
   "execution_count": 104,
   "metadata": {
    "scrolled": true
   },
   "outputs": [
    {
     "data": {
      "text/plain": [
       "(2603, 11)"
      ]
     },
     "metadata": {},
     "output_type": "display_data"
    },
    {
     "data": {
      "text/plain": [
       "Index(['rev_id', 'sent_text', 'objects', 'descriptive', 'vader_neg',\n",
       "       'vader_neu', 'vader_pos', 'vader_comp', 'category', 'sentiment',\n",
       "       'batch_date'],\n",
       "      dtype='object')"
      ]
     },
     "metadata": {},
     "output_type": "display_data"
    },
    {
     "data": {
      "text/plain": [
       "rev_id           int64\n",
       "sent_text       object\n",
       "objects         object\n",
       "descriptive     object\n",
       "vader_neg      float64\n",
       "vader_neu      float64\n",
       "vader_pos      float64\n",
       "vader_comp     float64\n",
       "category       float64\n",
       "sentiment      float64\n",
       "batch_date       int64\n",
       "dtype: object"
      ]
     },
     "metadata": {},
     "output_type": "display_data"
    },
    {
     "data": {
      "text/html": [
       "<div>\n",
       "<style scoped>\n",
       "    .dataframe tbody tr th:only-of-type {\n",
       "        vertical-align: middle;\n",
       "    }\n",
       "\n",
       "    .dataframe tbody tr th {\n",
       "        vertical-align: top;\n",
       "    }\n",
       "\n",
       "    .dataframe thead th {\n",
       "        text-align: right;\n",
       "    }\n",
       "</style>\n",
       "<table border=\"1\" class=\"dataframe\">\n",
       "  <thead>\n",
       "    <tr style=\"text-align: right;\">\n",
       "      <th></th>\n",
       "      <th>rev_id</th>\n",
       "      <th>sent_text</th>\n",
       "      <th>objects</th>\n",
       "      <th>descriptive</th>\n",
       "      <th>vader_neg</th>\n",
       "      <th>vader_neu</th>\n",
       "      <th>vader_pos</th>\n",
       "      <th>vader_comp</th>\n",
       "      <th>category</th>\n",
       "      <th>sentiment</th>\n",
       "      <th>batch_date</th>\n",
       "    </tr>\n",
       "    <tr>\n",
       "      <th>sent_id</th>\n",
       "      <th></th>\n",
       "      <th></th>\n",
       "      <th></th>\n",
       "      <th></th>\n",
       "      <th></th>\n",
       "      <th></th>\n",
       "      <th></th>\n",
       "      <th></th>\n",
       "      <th></th>\n",
       "      <th></th>\n",
       "      <th></th>\n",
       "    </tr>\n",
       "  </thead>\n",
       "  <tbody>\n",
       "    <tr>\n",
       "      <th>0</th>\n",
       "      <td>689620611</td>\n",
       "      <td>Our suite overlooked the Singapore River and s...</td>\n",
       "      <td>suite, River, we, views</td>\n",
       "      <td>amazing</td>\n",
       "      <td>0.073</td>\n",
       "      <td>0.659</td>\n",
       "      <td>0.268</td>\n",
       "      <td>0.6077</td>\n",
       "      <td>NaN</td>\n",
       "      <td>1.0</td>\n",
       "      <td>210426</td>\n",
       "    </tr>\n",
       "    <tr>\n",
       "      <th>1</th>\n",
       "      <td>689620611</td>\n",
       "      <td>Its located within easy walk of many attractio...</td>\n",
       "      <td>walk, attractions, others, Island</td>\n",
       "      <td>easy, many, worst</td>\n",
       "      <td>0.153</td>\n",
       "      <td>0.634</td>\n",
       "      <td>0.213</td>\n",
       "      <td>0.1531</td>\n",
       "      <td>NaN</td>\n",
       "      <td>1.0</td>\n",
       "      <td>210426</td>\n",
       "    </tr>\n",
       "    <tr>\n",
       "      <th>2</th>\n",
       "      <td>689620611</td>\n",
       "      <td>Our check-in was swift and friendly.</td>\n",
       "      <td>check</td>\n",
       "      <td>swift, friendly</td>\n",
       "      <td>0.000</td>\n",
       "      <td>0.444</td>\n",
       "      <td>0.556</td>\n",
       "      <td>0.6124</td>\n",
       "      <td>NaN</td>\n",
       "      <td>1.0</td>\n",
       "      <td>210426</td>\n",
       "    </tr>\n",
       "    <tr>\n",
       "      <th>3</th>\n",
       "      <td>689620611</td>\n",
       "      <td>Staff were welcoming at all times and most spo...</td>\n",
       "      <td>Staff, times, English, us</td>\n",
       "      <td>most</td>\n",
       "      <td>0.000</td>\n",
       "      <td>0.642</td>\n",
       "      <td>0.358</td>\n",
       "      <td>0.8104</td>\n",
       "      <td>NaN</td>\n",
       "      <td>1.0</td>\n",
       "      <td>210426</td>\n",
       "    </tr>\n",
       "    <tr>\n",
       "      <th>4</th>\n",
       "      <td>689620611</td>\n",
       "      <td>Breakfast was of high caliber and of considera...</td>\n",
       "      <td>Breakfast, caliber, variety</td>\n",
       "      <td>high, considerable</td>\n",
       "      <td>0.000</td>\n",
       "      <td>1.000</td>\n",
       "      <td>0.000</td>\n",
       "      <td>0.0000</td>\n",
       "      <td>NaN</td>\n",
       "      <td>0.0</td>\n",
       "      <td>210426</td>\n",
       "    </tr>\n",
       "    <tr>\n",
       "      <th>5</th>\n",
       "      <td>689620611</td>\n",
       "      <td>Our suite was of high standard in cleanliness ...</td>\n",
       "      <td>suite, standard, cleanliness</td>\n",
       "      <td>high</td>\n",
       "      <td>0.000</td>\n",
       "      <td>1.000</td>\n",
       "      <td>0.000</td>\n",
       "      <td>0.0000</td>\n",
       "      <td>NaN</td>\n",
       "      <td>0.0</td>\n",
       "      <td>210426</td>\n",
       "    </tr>\n",
       "    <tr>\n",
       "      <th>6</th>\n",
       "      <td>689620611</td>\n",
       "      <td>Planning to bring the family here next year an...</td>\n",
       "      <td>family, most, establishment</td>\n",
       "      <td>next, most</td>\n",
       "      <td>0.000</td>\n",
       "      <td>0.842</td>\n",
       "      <td>0.158</td>\n",
       "      <td>0.4576</td>\n",
       "      <td>NaN</td>\n",
       "      <td>1.0</td>\n",
       "      <td>210426</td>\n",
       "    </tr>\n",
       "    <tr>\n",
       "      <th>7</th>\n",
       "      <td>689620611</td>\n",
       "      <td>Highly Recommend this hotel.</td>\n",
       "      <td>hotel</td>\n",
       "      <td>NaN</td>\n",
       "      <td>0.000</td>\n",
       "      <td>0.518</td>\n",
       "      <td>0.482</td>\n",
       "      <td>0.4201</td>\n",
       "      <td>NaN</td>\n",
       "      <td>1.0</td>\n",
       "      <td>210426</td>\n",
       "    </tr>\n",
       "    <tr>\n",
       "      <th>8</th>\n",
       "      <td>689494350</td>\n",
       "      <td>Thank you Giri and Ian for this experience at ...</td>\n",
       "      <td>you, experience, Bar, Hotel</td>\n",
       "      <td>NaN</td>\n",
       "      <td>0.000</td>\n",
       "      <td>0.857</td>\n",
       "      <td>0.143</td>\n",
       "      <td>0.3612</td>\n",
       "      <td>NaN</td>\n",
       "      <td>1.0</td>\n",
       "      <td>210426</td>\n",
       "    </tr>\n",
       "    <tr>\n",
       "      <th>9</th>\n",
       "      <td>689494350</td>\n",
       "      <td>Great view and tasty cocktails...</td>\n",
       "      <td>NaN</td>\n",
       "      <td>Great, tasty</td>\n",
       "      <td>0.000</td>\n",
       "      <td>0.494</td>\n",
       "      <td>0.506</td>\n",
       "      <td>0.6249</td>\n",
       "      <td>NaN</td>\n",
       "      <td>1.0</td>\n",
       "      <td>210426</td>\n",
       "    </tr>\n",
       "  </tbody>\n",
       "</table>\n",
       "</div>"
      ],
      "text/plain": [
       "            rev_id                                          sent_text  \\\n",
       "sent_id                                                                 \n",
       "0        689620611  Our suite overlooked the Singapore River and s...   \n",
       "1        689620611  Its located within easy walk of many attractio...   \n",
       "2        689620611               Our check-in was swift and friendly.   \n",
       "3        689620611  Staff were welcoming at all times and most spo...   \n",
       "4        689620611  Breakfast was of high caliber and of considera...   \n",
       "5        689620611  Our suite was of high standard in cleanliness ...   \n",
       "6        689620611  Planning to bring the family here next year an...   \n",
       "7        689620611                       Highly Recommend this hotel.   \n",
       "8        689494350  Thank you Giri and Ian for this experience at ...   \n",
       "9        689494350                  Great view and tasty cocktails...   \n",
       "\n",
       "                                   objects         descriptive  vader_neg  \\\n",
       "sent_id                                                                     \n",
       "0                  suite, River, we, views             amazing      0.073   \n",
       "1        walk, attractions, others, Island   easy, many, worst      0.153   \n",
       "2                                    check     swift, friendly      0.000   \n",
       "3                Staff, times, English, us                most      0.000   \n",
       "4              Breakfast, caliber, variety  high, considerable      0.000   \n",
       "5             suite, standard, cleanliness                high      0.000   \n",
       "6              family, most, establishment          next, most      0.000   \n",
       "7                                    hotel                 NaN      0.000   \n",
       "8              you, experience, Bar, Hotel                 NaN      0.000   \n",
       "9                                      NaN        Great, tasty      0.000   \n",
       "\n",
       "         vader_neu  vader_pos  vader_comp  category  sentiment  batch_date  \n",
       "sent_id                                                                     \n",
       "0            0.659      0.268      0.6077       NaN        1.0      210426  \n",
       "1            0.634      0.213      0.1531       NaN        1.0      210426  \n",
       "2            0.444      0.556      0.6124       NaN        1.0      210426  \n",
       "3            0.642      0.358      0.8104       NaN        1.0      210426  \n",
       "4            1.000      0.000      0.0000       NaN        0.0      210426  \n",
       "5            1.000      0.000      0.0000       NaN        0.0      210426  \n",
       "6            0.842      0.158      0.4576       NaN        1.0      210426  \n",
       "7            0.518      0.482      0.4201       NaN        1.0      210426  \n",
       "8            0.857      0.143      0.3612       NaN        1.0      210426  \n",
       "9            0.494      0.506      0.6249       NaN        1.0      210426  "
      ]
     },
     "metadata": {},
     "output_type": "display_data"
    }
   ],
   "source": [
    "df_study(full_df)"
   ]
  },
  {
   "cell_type": "code",
   "execution_count": 105,
   "metadata": {},
   "outputs": [],
   "source": [
    "full_df['sent_text_mod'] = full_df['sent_text'].map(lambda x: convert_words(x)) "
   ]
  },
  {
   "cell_type": "code",
   "execution_count": 106,
   "metadata": {},
   "outputs": [],
   "source": [
    "X_full = full_df['sent_text_mod']"
   ]
  },
  {
   "cell_type": "code",
   "execution_count": 107,
   "metadata": {},
   "outputs": [],
   "source": [
    "full_df['category'] = gs_rf.best_estimator_.predict(X_full)"
   ]
  },
  {
   "cell_type": "code",
   "execution_count": 108,
   "metadata": {},
   "outputs": [],
   "source": [
    "full_df['category'] = reverse_map_categories(full_df['category'])"
   ]
  },
  {
   "cell_type": "code",
   "execution_count": 109,
   "metadata": {},
   "outputs": [
    {
     "data": {
      "text/plain": [
       "Index(['rev_id', 'sent_text', 'objects', 'descriptive', 'vader_neg',\n",
       "       'vader_neu', 'vader_pos', 'vader_comp', 'category', 'sentiment',\n",
       "       'batch_date', 'sent_text_mod'],\n",
       "      dtype='object')"
      ]
     },
     "execution_count": 109,
     "metadata": {},
     "output_type": "execute_result"
    }
   ],
   "source": [
    "full_df.columns"
   ]
  },
  {
   "cell_type": "code",
   "execution_count": 110,
   "metadata": {},
   "outputs": [],
   "source": [
    "# full_df[['rev_id', 'sent_text', 'category', 'sentiment']].to_csv('../prepped_data/full_data_210426.csv')"
   ]
  },
  {
   "cell_type": "markdown",
   "metadata": {},
   "source": [
    "### After Processing\n",
    "\n",
    "**Evaluation of Fullerton Data**\n",
    "\n",
    "The Fullerton data was generally a lot more positive than MBS data, with a lot of praise for individual service members. There was also a large proportion of reviews focused fully on food, and mentioning individual menu items as well. Let us see how our model trained on only MBS data performs on Fullerton data."
   ]
  },
  {
   "cell_type": "code",
   "execution_count": 111,
   "metadata": {},
   "outputs": [],
   "source": [
    "full_train = pd.read_csv('../datasets/annotated/full_data_210427.csv')"
   ]
  },
  {
   "cell_type": "code",
   "execution_count": 112,
   "metadata": {},
   "outputs": [],
   "source": [
    "full_train = full_train[:1100]"
   ]
  },
  {
   "cell_type": "code",
   "execution_count": 113,
   "metadata": {},
   "outputs": [
    {
     "data": {
      "text/plain": [
       "sent_id        0\n",
       "rev_id         0\n",
       "sent_text      0\n",
       "category     332\n",
       "sentiment      0\n",
       "dtype: int64"
      ]
     },
     "execution_count": 113,
     "metadata": {},
     "output_type": "execute_result"
    }
   ],
   "source": [
    "full_train.isna().sum()"
   ]
  },
  {
   "cell_type": "code",
   "execution_count": 114,
   "metadata": {},
   "outputs": [],
   "source": [
    "full_train['category'].fillna('none', inplace=True)"
   ]
  },
  {
   "cell_type": "code",
   "execution_count": 115,
   "metadata": {},
   "outputs": [],
   "source": [
    "full_train['category'].replace({'others': 'other'}, inplace=True)"
   ]
  },
  {
   "cell_type": "code",
   "execution_count": 116,
   "metadata": {},
   "outputs": [
    {
     "data": {
      "text/plain": [
       "0          room\n",
       "1         other\n",
       "2       service\n",
       "3       service\n",
       "4          food\n",
       "         ...   \n",
       "1094       none\n",
       "1095       food\n",
       "1096    service\n",
       "1097    service\n",
       "1098    service\n",
       "Name: category, Length: 1099, dtype: object"
      ]
     },
     "execution_count": 116,
     "metadata": {},
     "output_type": "execute_result"
    }
   ],
   "source": [
    "full_train['category']"
   ]
  },
  {
   "cell_type": "code",
   "execution_count": 117,
   "metadata": {},
   "outputs": [],
   "source": [
    "full_train['category_mod'] = full_train['category'].map(map_category)"
   ]
  },
  {
   "cell_type": "code",
   "execution_count": 118,
   "metadata": {},
   "outputs": [
    {
     "data": {
      "text/plain": [
       "0       2\n",
       "1       5\n",
       "2       1\n",
       "3       1\n",
       "4       4\n",
       "       ..\n",
       "1094    0\n",
       "1095    4\n",
       "1096    1\n",
       "1097    1\n",
       "1098    1\n",
       "Name: category_mod, Length: 1099, dtype: int64"
      ]
     },
     "execution_count": 118,
     "metadata": {},
     "output_type": "execute_result"
    }
   ],
   "source": [
    "full_train['category_mod']"
   ]
  },
  {
   "cell_type": "code",
   "execution_count": 119,
   "metadata": {},
   "outputs": [],
   "source": [
    "X_full = full_train['category_mod']"
   ]
  },
  {
   "cell_type": "code",
   "execution_count": 120,
   "metadata": {},
   "outputs": [],
   "source": [
    "full_train['sent_text_mod'] = full_train['sent_text'].map(lambda x: convert_words(x)) "
   ]
  },
  {
   "cell_type": "code",
   "execution_count": 121,
   "metadata": {},
   "outputs": [
    {
     "name": "stdout",
     "output_type": "stream",
     "text": [
      "Best Estimator: \n",
      "\n"
     ]
    },
    {
     "data": {
      "text/plain": [
       "Pipeline(steps=[('vector',\n",
       "                 TfidfVectorizer(max_df=0.3, max_features=750, min_df=5,\n",
       "                                 ngram_range=(1, 3), stop_words='english')),\n",
       "                ('svc', SVC(C=0.9, gamma=0.0001, kernel='linear'))])"
      ]
     },
     "metadata": {},
     "output_type": "display_data"
    },
    {
     "name": "stdout",
     "output_type": "stream",
     "text": [
      "F1 Score (Micro): 0.7634212920837125\n",
      "F1 Score (Macro): 0.7376000534027671\n",
      "Precision Score (Micro) 0.7634212920837125\n",
      "Precision Score (Macro) 0.8172054054952791\n",
      "Recall Score (Micro) 0.7634212920837125\n",
      "Recall Score (Macro) 0.724578350945467\n"
     ]
    },
    {
     "data": {
      "image/png": "[encoded data removed]",
      "text/plain": [
       "<Figure size 720x720 with 2 Axes>"
      ]
     },
     "metadata": {
      "needs_background": "light"
     },
     "output_type": "display_data"
    }
   ],
   "source": [
    "get_gs_info(gs_svc, full_train['sent_text_mod'], X_full)"
   ]
  },
  {
   "cell_type": "markdown",
   "metadata": {},
   "source": [
    "As expected, many of the 'others' and 'food' category data was misclassified by the MBS Linear SVC and Random Forest models. This is due to the nature of the bag-of-words algorithms which accounts only for specific words and not the relationship between said specific words to each other, and how they are otherwise semantically related!"
   ]
  },
  {
   "cell_type": "markdown",
   "metadata": {},
   "source": [
    "## Comparison of Marina Bay Sands and Fullerton Data"
   ]
  },
  {
   "cell_type": "code",
   "execution_count": 122,
   "metadata": {},
   "outputs": [
    {
     "data": {
      "text/plain": [
       "0        pool\n",
       "1       other\n",
       "2        room\n",
       "3        none\n",
       "4        none\n",
       "        ...  \n",
       "3390     pool\n",
       "3391     food\n",
       "3392    other\n",
       "3393     none\n",
       "3394     none\n",
       "Name: category, Length: 3380, dtype: object"
      ]
     },
     "execution_count": 122,
     "metadata": {},
     "output_type": "execute_result"
    }
   ],
   "source": [
    "df['category']"
   ]
  },
  {
   "cell_type": "code",
   "execution_count": 123,
   "metadata": {
    "scrolled": true
   },
   "outputs": [
    {
     "data": {
      "text/plain": [
       "none       0.365680\n",
       "room       0.160059\n",
       "service    0.156213\n",
       "pool       0.124852\n",
       "other      0.097041\n",
       "food       0.096154\n",
       "Name: category, dtype: float64"
      ]
     },
     "execution_count": 123,
     "metadata": {},
     "output_type": "execute_result"
    }
   ],
   "source": [
    "df['category'].value_counts(normalize=True)"
   ]
  },
  {
   "cell_type": "code",
   "execution_count": 124,
   "metadata": {},
   "outputs": [],
   "source": [
    "df_cat = df.groupby(['category', 'sentiment']).count()"
   ]
  },
  {
   "cell_type": "code",
   "execution_count": 125,
   "metadata": {},
   "outputs": [
    {
     "data": {
      "text/html": [
       "<div>\n",
       "<style scoped>\n",
       "    .dataframe tbody tr th:only-of-type {\n",
       "        vertical-align: middle;\n",
       "    }\n",
       "\n",
       "    .dataframe tbody tr th {\n",
       "        vertical-align: top;\n",
       "    }\n",
       "\n",
       "    .dataframe thead th {\n",
       "        text-align: right;\n",
       "    }\n",
       "</style>\n",
       "<table border=\"1\" class=\"dataframe\">\n",
       "  <thead>\n",
       "    <tr style=\"text-align: right;\">\n",
       "      <th></th>\n",
       "      <th></th>\n",
       "      <th>rev_id</th>\n",
       "      <th>sent_text</th>\n",
       "      <th>sent_text_mod</th>\n",
       "      <th>category_mod</th>\n",
       "      <th>sentiment_pred_vader</th>\n",
       "      <th>sentiment_pred_vader_token</th>\n",
       "      <th>sentiment_pred_textblob</th>\n",
       "      <th>sentiment_pred_textblob_token</th>\n",
       "    </tr>\n",
       "    <tr>\n",
       "      <th>category</th>\n",
       "      <th>sentiment</th>\n",
       "      <th></th>\n",
       "      <th></th>\n",
       "      <th></th>\n",
       "      <th></th>\n",
       "      <th></th>\n",
       "      <th></th>\n",
       "      <th></th>\n",
       "      <th></th>\n",
       "    </tr>\n",
       "  </thead>\n",
       "  <tbody>\n",
       "    <tr>\n",
       "      <th rowspan=\"3\" valign=\"top\">food</th>\n",
       "      <th>-1.0</th>\n",
       "      <td>33</td>\n",
       "      <td>33</td>\n",
       "      <td>33</td>\n",
       "      <td>33</td>\n",
       "      <td>33</td>\n",
       "      <td>33</td>\n",
       "      <td>33</td>\n",
       "      <td>33</td>\n",
       "    </tr>\n",
       "    <tr>\n",
       "      <th>0.0</th>\n",
       "      <td>105</td>\n",
       "      <td>105</td>\n",
       "      <td>105</td>\n",
       "      <td>105</td>\n",
       "      <td>105</td>\n",
       "      <td>105</td>\n",
       "      <td>105</td>\n",
       "      <td>105</td>\n",
       "    </tr>\n",
       "    <tr>\n",
       "      <th>1.0</th>\n",
       "      <td>187</td>\n",
       "      <td>187</td>\n",
       "      <td>187</td>\n",
       "      <td>187</td>\n",
       "      <td>187</td>\n",
       "      <td>187</td>\n",
       "      <td>187</td>\n",
       "      <td>187</td>\n",
       "    </tr>\n",
       "    <tr>\n",
       "      <th rowspan=\"3\" valign=\"top\">none</th>\n",
       "      <th>-1.0</th>\n",
       "      <td>104</td>\n",
       "      <td>104</td>\n",
       "      <td>104</td>\n",
       "      <td>104</td>\n",
       "      <td>104</td>\n",
       "      <td>104</td>\n",
       "      <td>104</td>\n",
       "      <td>104</td>\n",
       "    </tr>\n",
       "    <tr>\n",
       "      <th>0.0</th>\n",
       "      <td>623</td>\n",
       "      <td>623</td>\n",
       "      <td>623</td>\n",
       "      <td>623</td>\n",
       "      <td>623</td>\n",
       "      <td>623</td>\n",
       "      <td>623</td>\n",
       "      <td>623</td>\n",
       "    </tr>\n",
       "    <tr>\n",
       "      <th>1.0</th>\n",
       "      <td>509</td>\n",
       "      <td>509</td>\n",
       "      <td>509</td>\n",
       "      <td>509</td>\n",
       "      <td>509</td>\n",
       "      <td>509</td>\n",
       "      <td>509</td>\n",
       "      <td>509</td>\n",
       "    </tr>\n",
       "    <tr>\n",
       "      <th rowspan=\"3\" valign=\"top\">other</th>\n",
       "      <th>-1.0</th>\n",
       "      <td>29</td>\n",
       "      <td>29</td>\n",
       "      <td>29</td>\n",
       "      <td>29</td>\n",
       "      <td>29</td>\n",
       "      <td>29</td>\n",
       "      <td>29</td>\n",
       "      <td>29</td>\n",
       "    </tr>\n",
       "    <tr>\n",
       "      <th>0.0</th>\n",
       "      <td>100</td>\n",
       "      <td>100</td>\n",
       "      <td>100</td>\n",
       "      <td>100</td>\n",
       "      <td>100</td>\n",
       "      <td>100</td>\n",
       "      <td>100</td>\n",
       "      <td>100</td>\n",
       "    </tr>\n",
       "    <tr>\n",
       "      <th>1.0</th>\n",
       "      <td>199</td>\n",
       "      <td>199</td>\n",
       "      <td>199</td>\n",
       "      <td>199</td>\n",
       "      <td>199</td>\n",
       "      <td>199</td>\n",
       "      <td>199</td>\n",
       "      <td>199</td>\n",
       "    </tr>\n",
       "    <tr>\n",
       "      <th rowspan=\"3\" valign=\"top\">pool</th>\n",
       "      <th>-1.0</th>\n",
       "      <td>58</td>\n",
       "      <td>58</td>\n",
       "      <td>58</td>\n",
       "      <td>58</td>\n",
       "      <td>58</td>\n",
       "      <td>58</td>\n",
       "      <td>58</td>\n",
       "      <td>58</td>\n",
       "    </tr>\n",
       "    <tr>\n",
       "      <th>0.0</th>\n",
       "      <td>89</td>\n",
       "      <td>89</td>\n",
       "      <td>89</td>\n",
       "      <td>89</td>\n",
       "      <td>89</td>\n",
       "      <td>89</td>\n",
       "      <td>89</td>\n",
       "      <td>89</td>\n",
       "    </tr>\n",
       "    <tr>\n",
       "      <th>1.0</th>\n",
       "      <td>275</td>\n",
       "      <td>275</td>\n",
       "      <td>275</td>\n",
       "      <td>275</td>\n",
       "      <td>275</td>\n",
       "      <td>275</td>\n",
       "      <td>275</td>\n",
       "      <td>275</td>\n",
       "    </tr>\n",
       "    <tr>\n",
       "      <th rowspan=\"3\" valign=\"top\">room</th>\n",
       "      <th>-1.0</th>\n",
       "      <td>70</td>\n",
       "      <td>70</td>\n",
       "      <td>70</td>\n",
       "      <td>70</td>\n",
       "      <td>70</td>\n",
       "      <td>70</td>\n",
       "      <td>70</td>\n",
       "      <td>70</td>\n",
       "    </tr>\n",
       "    <tr>\n",
       "      <th>0.0</th>\n",
       "      <td>119</td>\n",
       "      <td>119</td>\n",
       "      <td>119</td>\n",
       "      <td>119</td>\n",
       "      <td>119</td>\n",
       "      <td>119</td>\n",
       "      <td>119</td>\n",
       "      <td>119</td>\n",
       "    </tr>\n",
       "    <tr>\n",
       "      <th>1.0</th>\n",
       "      <td>352</td>\n",
       "      <td>352</td>\n",
       "      <td>352</td>\n",
       "      <td>352</td>\n",
       "      <td>352</td>\n",
       "      <td>352</td>\n",
       "      <td>352</td>\n",
       "      <td>352</td>\n",
       "    </tr>\n",
       "    <tr>\n",
       "      <th rowspan=\"3\" valign=\"top\">service</th>\n",
       "      <th>-1.0</th>\n",
       "      <td>110</td>\n",
       "      <td>110</td>\n",
       "      <td>110</td>\n",
       "      <td>110</td>\n",
       "      <td>110</td>\n",
       "      <td>110</td>\n",
       "      <td>110</td>\n",
       "      <td>110</td>\n",
       "    </tr>\n",
       "    <tr>\n",
       "      <th>0.0</th>\n",
       "      <td>81</td>\n",
       "      <td>81</td>\n",
       "      <td>81</td>\n",
       "      <td>81</td>\n",
       "      <td>81</td>\n",
       "      <td>81</td>\n",
       "      <td>81</td>\n",
       "      <td>81</td>\n",
       "    </tr>\n",
       "    <tr>\n",
       "      <th>1.0</th>\n",
       "      <td>337</td>\n",
       "      <td>337</td>\n",
       "      <td>337</td>\n",
       "      <td>337</td>\n",
       "      <td>337</td>\n",
       "      <td>337</td>\n",
       "      <td>337</td>\n",
       "      <td>337</td>\n",
       "    </tr>\n",
       "  </tbody>\n",
       "</table>\n",
       "</div>"
      ],
      "text/plain": [
       "                    rev_id  sent_text  sent_text_mod  category_mod  \\\n",
       "category sentiment                                                   \n",
       "food     -1.0           33         33             33            33   \n",
       "          0.0          105        105            105           105   \n",
       "          1.0          187        187            187           187   \n",
       "none     -1.0          104        104            104           104   \n",
       "          0.0          623        623            623           623   \n",
       "          1.0          509        509            509           509   \n",
       "other    -1.0           29         29             29            29   \n",
       "          0.0          100        100            100           100   \n",
       "          1.0          199        199            199           199   \n",
       "pool     -1.0           58         58             58            58   \n",
       "          0.0           89         89             89            89   \n",
       "          1.0          275        275            275           275   \n",
       "room     -1.0           70         70             70            70   \n",
       "          0.0          119        119            119           119   \n",
       "          1.0          352        352            352           352   \n",
       "service  -1.0          110        110            110           110   \n",
       "          0.0           81         81             81            81   \n",
       "          1.0          337        337            337           337   \n",
       "\n",
       "                    sentiment_pred_vader  sentiment_pred_vader_token  \\\n",
       "category sentiment                                                     \n",
       "food     -1.0                         33                          33   \n",
       "          0.0                        105                         105   \n",
       "          1.0                        187                         187   \n",
       "none     -1.0                        104                         104   \n",
       "          0.0                        623                         623   \n",
       "          1.0                        509                         509   \n",
       "other    -1.0                         29                          29   \n",
       "          0.0                        100                         100   \n",
       "          1.0                        199                         199   \n",
       "pool     -1.0                         58                          58   \n",
       "          0.0                         89                          89   \n",
       "          1.0                        275                         275   \n",
       "room     -1.0                         70                          70   \n",
       "          0.0                        119                         119   \n",
       "          1.0                        352                         352   \n",
       "service  -1.0                        110                         110   \n",
       "          0.0                         81                          81   \n",
       "          1.0                        337                         337   \n",
       "\n",
       "                    sentiment_pred_textblob  sentiment_pred_textblob_token  \n",
       "category sentiment                                                          \n",
       "food     -1.0                            33                             33  \n",
       "          0.0                           105                            105  \n",
       "          1.0                           187                            187  \n",
       "none     -1.0                           104                            104  \n",
       "          0.0                           623                            623  \n",
       "          1.0                           509                            509  \n",
       "other    -1.0                            29                             29  \n",
       "          0.0                           100                            100  \n",
       "          1.0                           199                            199  \n",
       "pool     -1.0                            58                             58  \n",
       "          0.0                            89                             89  \n",
       "          1.0                           275                            275  \n",
       "room     -1.0                            70                             70  \n",
       "          0.0                           119                            119  \n",
       "          1.0                           352                            352  \n",
       "service  -1.0                           110                            110  \n",
       "          0.0                            81                             81  \n",
       "          1.0                           337                            337  "
      ]
     },
     "execution_count": 125,
     "metadata": {},
     "output_type": "execute_result"
    }
   ],
   "source": [
    "df_cat"
   ]
  },
  {
   "cell_type": "code",
   "execution_count": 126,
   "metadata": {},
   "outputs": [
    {
     "data": {
      "text/plain": [
       "<matplotlib.legend.Legend at 0x252ec20e250>"
      ]
     },
     "execution_count": 126,
     "metadata": {},
     "output_type": "execute_result"
    },
    {
     "data": {
      "image/png": "[encoded data removed]",
      "text/plain": [
       "<Figure size 720x864 with 1 Axes>"
      ]
     },
     "metadata": {
      "needs_background": "light"
     },
     "output_type": "display_data"
    }
   ],
   "source": [
    "plt.figure(figsize=(10,12))\n",
    "ax = sns.countplot(y=\"category\", hue=\"sentiment\", data=df, order = df['category'].value_counts().index)\n",
    "ax.tick_params(labelsize=20)\n",
    "ax.set_title(\"MBS Aspect-Based Sentiment Analysis Comparison\",fontsize=20)\n",
    "ax.set_xlabel(\"Count\",fontsize=20)\n",
    "ax.set_ylabel(\"Aspect\",fontsize=20)\n",
    "plt.legend(title='Sentiment', loc=7, prop={'size': 15})"
   ]
  },
  {
   "cell_type": "code",
   "execution_count": 127,
   "metadata": {},
   "outputs": [
    {
     "data": {
      "text/plain": [
       "<matplotlib.legend.Legend at 0x252ea329d90>"
      ]
     },
     "execution_count": 127,
     "metadata": {},
     "output_type": "execute_result"
    },
    {
     "data": {
      "image/png": "[encoded data removed]",
      "text/plain": [
       "<Figure size 720x864 with 1 Axes>"
      ]
     },
     "metadata": {
      "needs_background": "light"
     },
     "output_type": "display_data"
    }
   ],
   "source": [
    "plt.figure(figsize=(10,12))\n",
    "ax = sns.countplot(y=\"category\", hue=\"sentiment\", data = full_train, order = full_train['category'].value_counts().index)\n",
    "ax.tick_params(labelsize=20)\n",
    "ax.set_title(\"Fullerton Aspect-Based Sentiment Analysis Comparison\",fontsize=20)\n",
    "ax.set_xlabel(\"Count\",fontsize=20)\n",
    "ax.set_ylabel(\"Aspect\",fontsize=20)\n",
    "plt.legend(title='Sentiment', loc=7, prop={'size': 15})"
   ]
  },
  {
   "cell_type": "code",
   "execution_count": 128,
   "metadata": {},
   "outputs": [
    {
     "data": {
      "text/plain": [
       "none       0.494045\n",
       "service    0.204380\n",
       "food       0.189397\n",
       "room       0.078755\n",
       "other      0.016904\n",
       "pool       0.016519\n",
       "Name: category, dtype: float64"
      ]
     },
     "execution_count": 128,
     "metadata": {},
     "output_type": "execute_result"
    }
   ],
   "source": [
    "full_df['category'].value_counts(normalize=True)"
   ]
  },
  {
   "cell_type": "markdown",
   "metadata": {},
   "source": [
    "From empirical observation, we see that Fullerton based data is a lot more overwhelmingly positive than MBS ones. This is especially obvious with regards to service, for which MBS data has a larger proportion of negative to neutral sentiment aspects."
   ]
  },
  {
   "cell_type": "markdown",
   "metadata": {},
   "source": [
    "## Conclusion\n",
    "\n"
   ]
  },
  {
   "cell_type": "markdown",
   "metadata": {},
   "source": [
    "In this project, we attempted to create a model which was able to extract hotel aspects from online review data and assign a sentiment classification to each of them. Doing so using a bag-of-words model utilizing the TF-IDF Vectorizer and various multiclassification algorithms allowed us to obtain a highest Micro F1 score of around 0.79 from 3300+ rows of manually annotated data from the MBS.\n",
    "\n",
    "This model is used to find aspects and predict aspects on another hotel, the Fullerton Hotel. Doing so gives us a F1 Micro score of around 0.76. Notably, the model often mis-predicted data which belonged to the 'food' category. This was due to the highly specific nature of the Fullerton's reviews when talking about food.\n",
    "\n",
    "Sentiment analysis was done using pre-trained NLTK VADER and Textblob models, the former of which had a 0.75 accuracy. However, looking at the proportions of each sentiment category (negative, neutral and positive), each category was still very much in proportion to the annotated sentiment labels, showing that the pre-trained models did not simply predict only the majority class (positive) and was still doing a good job on minority classes. A classifier model trained only on data in the MBS train set performed poorly."
   ]
  },
  {
   "cell_type": "markdown",
   "metadata": {},
   "source": [
    "## Recommendations"
   ]
  },
  {
   "cell_type": "markdown",
   "metadata": {},
   "source": [
    "This project has shown several limitations of a bag-of-word model in multiclass classification of hotel aspects. There were several problems identified which included:\n",
    "1. Many sentences having more than one aspect, or a compounded comment ('the food and room were good but the service was not!'). We attempted to mitigate this by cutting sentences on the appearance of the word 'but' but the issues of aspects being compounded continues to persist. An algorithm able to handle multiclass classification will have to be found in future work.\n",
    "2. The model could not handle semantic meanings of words well. For example, 'the cupcakes were good' could not be detected to be talking about food if 'cupcake' was not found in the train set and labeled to the category 'food'. A method of matching disparate nouns and verbs to categories would have to be found in future work."
   ]
  },
  {
   "cell_type": "code",
   "execution_count": null,
   "metadata": {},
   "outputs": [],
   "source": []
  }
 ],
 "metadata": {
  "kernelspec": {
   "display_name": "Python 3",
   "language": "python",
   "name": "python3"
  },
  "language_info": {
   "codemirror_mode": {
    "name": "ipython",
    "version": 3
   },
   "file_extension": ".py",
   "mimetype": "text/x-python",
   "name": "python",
   "nbconvert_exporter": "python",
   "pygments_lexer": "ipython3",
   "version": "3.8.5"
  },
  "toc": {
   "base_numbering": 1,
   "nav_menu": {},
   "number_sections": true,
   "sideBar": true,
   "skip_h1_title": true,
   "title_cell": "Table of Contents",
   "title_sidebar": "Contents",
   "toc_cell": true,
   "toc_position": {
    "height": "calc(100% - 180px)",
    "left": "10px",
    "top": "150px",
    "width": "341.306px"
   },
   "toc_section_display": true,
   "toc_window_display": true
  }
 },
 "nbformat": 4,
 "nbformat_minor": 4
}
