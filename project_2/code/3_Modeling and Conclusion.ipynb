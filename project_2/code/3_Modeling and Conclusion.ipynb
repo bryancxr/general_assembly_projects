{
 "cells": [
  {
   "cell_type": "markdown",
   "metadata": {
    "toc": true
   },
   "source": [
    "<h1>Table of Contents<span class=\"tocSkip\"></span></h1>\n",
    "<div class=\"toc\"><ul class=\"toc-item\"><li><ul class=\"toc-item\"><li><span><a href=\"#Model-Creation-and-Selection\" data-toc-modified-id=\"Model-Creation-and-Selection-4.1\"><span class=\"toc-item-num\">4.1&nbsp;&nbsp;</span>Model Creation and Selection</a></span><ul class=\"toc-item\"><li><span><a href=\"#Modeling-on-all-columns\" data-toc-modified-id=\"Modeling-on-all-columns-4.1.1\"><span class=\"toc-item-num\">4.1.1&nbsp;&nbsp;</span>Modeling on all columns</a></span><ul class=\"toc-item\"><li><span><a href=\"#Creation-of-Validation-Set-from-train\" data-toc-modified-id=\"Creation-of-Validation-Set-from-train-4.1.1.1\"><span class=\"toc-item-num\">4.1.1.1&nbsp;&nbsp;</span>Creation of Validation Set from train</a></span></li><li><span><a href=\"#Standardizing-X_train-and-X_test\" data-toc-modified-id=\"Standardizing-X_train-and-X_test-4.1.1.2\"><span class=\"toc-item-num\">4.1.1.2&nbsp;&nbsp;</span>Standardizing X_train and X_test</a></span></li><li><span><a href=\"#Linear-Regression\" data-toc-modified-id=\"Linear-Regression-4.1.1.3\"><span class=\"toc-item-num\">4.1.1.3&nbsp;&nbsp;</span>Linear Regression</a></span></li><li><span><a href=\"#Ridge-Regression\" data-toc-modified-id=\"Ridge-Regression-4.1.1.4\"><span class=\"toc-item-num\">4.1.1.4&nbsp;&nbsp;</span>Ridge Regression</a></span></li><li><span><a href=\"#Lasso-Regression\" data-toc-modified-id=\"Lasso-Regression-4.1.1.5\"><span class=\"toc-item-num\">4.1.1.5&nbsp;&nbsp;</span>Lasso Regression</a></span></li></ul></li><li><span><a href=\"#Aggregated-Variables-removed\" data-toc-modified-id=\"Aggregated-Variables-removed-4.1.2\"><span class=\"toc-item-num\">4.1.2&nbsp;&nbsp;</span>Aggregated Variables removed</a></span><ul class=\"toc-item\"><li><span><a href=\"#Creation-of-Validation-Set-from-train\" data-toc-modified-id=\"Creation-of-Validation-Set-from-train-4.1.2.1\"><span class=\"toc-item-num\">4.1.2.1&nbsp;&nbsp;</span>Creation of Validation Set from train</a></span></li><li><span><a href=\"#Standardizing-X_train-and-X_test\" data-toc-modified-id=\"Standardizing-X_train-and-X_test-4.1.2.2\"><span class=\"toc-item-num\">4.1.2.2&nbsp;&nbsp;</span>Standardizing X_train and X_test</a></span></li><li><span><a href=\"#Linear-Regression\" data-toc-modified-id=\"Linear-Regression-4.1.2.3\"><span class=\"toc-item-num\">4.1.2.3&nbsp;&nbsp;</span>Linear Regression</a></span></li><li><span><a href=\"#Ridge-Regression\" data-toc-modified-id=\"Ridge-Regression-4.1.2.4\"><span class=\"toc-item-num\">4.1.2.4&nbsp;&nbsp;</span>Ridge Regression</a></span></li><li><span><a href=\"#Lasso-Regression\" data-toc-modified-id=\"Lasso-Regression-4.1.2.5\"><span class=\"toc-item-num\">4.1.2.5&nbsp;&nbsp;</span>Lasso Regression</a></span></li></ul></li><li><span><a href=\"#Individual-Variables-removed\" data-toc-modified-id=\"Individual-Variables-removed-4.1.3\"><span class=\"toc-item-num\">4.1.3&nbsp;&nbsp;</span>Individual Variables removed</a></span><ul class=\"toc-item\"><li><span><a href=\"#Creation-of-Validation-Set-from-train\" data-toc-modified-id=\"Creation-of-Validation-Set-from-train-4.1.3.1\"><span class=\"toc-item-num\">4.1.3.1&nbsp;&nbsp;</span>Creation of Validation Set from train</a></span></li><li><span><a href=\"#Standardizing-X_train-and-X_test\" data-toc-modified-id=\"Standardizing-X_train-and-X_test-4.1.3.2\"><span class=\"toc-item-num\">4.1.3.2&nbsp;&nbsp;</span>Standardizing X_train and X_test</a></span></li><li><span><a href=\"#Linear-Regression\" data-toc-modified-id=\"Linear-Regression-4.1.3.3\"><span class=\"toc-item-num\">4.1.3.3&nbsp;&nbsp;</span>Linear Regression</a></span></li><li><span><a href=\"#Ridge-Regression\" data-toc-modified-id=\"Ridge-Regression-4.1.3.4\"><span class=\"toc-item-num\">4.1.3.4&nbsp;&nbsp;</span>Ridge Regression</a></span></li><li><span><a href=\"#Lasso-Regression\" data-toc-modified-id=\"Lasso-Regression-4.1.3.5\"><span class=\"toc-item-num\">4.1.3.5&nbsp;&nbsp;</span>Lasso Regression</a></span></li></ul></li><li><span><a href=\"#Hybrid-Set----Quality-is-aggregated,-but-physical-features-are-individual\" data-toc-modified-id=\"Hybrid-Set----Quality-is-aggregated,-but-physical-features-are-individual-4.1.4\"><span class=\"toc-item-num\">4.1.4&nbsp;&nbsp;</span>Hybrid Set -- Quality is aggregated, but physical features are individual</a></span><ul class=\"toc-item\"><li><span><a href=\"#Creation-of-Validation-Set-from-train\" data-toc-modified-id=\"Creation-of-Validation-Set-from-train-4.1.4.1\"><span class=\"toc-item-num\">4.1.4.1&nbsp;&nbsp;</span>Creation of Validation Set from train</a></span></li><li><span><a href=\"#Standardizing-X_train-and-X_test\" data-toc-modified-id=\"Standardizing-X_train-and-X_test-4.1.4.2\"><span class=\"toc-item-num\">4.1.4.2&nbsp;&nbsp;</span>Standardizing X_train and X_test</a></span></li><li><span><a href=\"#Linear-Regression\" data-toc-modified-id=\"Linear-Regression-4.1.4.3\"><span class=\"toc-item-num\">4.1.4.3&nbsp;&nbsp;</span>Linear Regression</a></span></li><li><span><a href=\"#Ridge-Regression\" data-toc-modified-id=\"Ridge-Regression-4.1.4.4\"><span class=\"toc-item-num\">4.1.4.4&nbsp;&nbsp;</span>Ridge Regression</a></span></li><li><span><a href=\"#Lasso-Regression\" data-toc-modified-id=\"Lasso-Regression-4.1.4.5\"><span class=\"toc-item-num\">4.1.4.5&nbsp;&nbsp;</span>Lasso Regression</a></span></li></ul></li><li><span><a href=\"#Test-set-vs-whole-train-set-for-submission\" data-toc-modified-id=\"Test-set-vs-whole-train-set-for-submission-4.1.5\"><span class=\"toc-item-num\">4.1.5&nbsp;&nbsp;</span>Test set vs whole train set for submission</a></span><ul class=\"toc-item\"><li><span><a href=\"#Linear-Regression\" data-toc-modified-id=\"Linear-Regression-4.1.5.1\"><span class=\"toc-item-num\">4.1.5.1&nbsp;&nbsp;</span>Linear Regression</a></span></li><li><span><a href=\"#Ridge-Regression\" data-toc-modified-id=\"Ridge-Regression-4.1.5.2\"><span class=\"toc-item-num\">4.1.5.2&nbsp;&nbsp;</span>Ridge Regression</a></span></li><li><span><a href=\"#Lasso-Regression\" data-toc-modified-id=\"Lasso-Regression-4.1.5.3\"><span class=\"toc-item-num\">4.1.5.3&nbsp;&nbsp;</span>Lasso Regression</a></span></li></ul></li></ul></li></ul></li><li><span><a href=\"#Conclusion\" data-toc-modified-id=\"Conclusion-5\"><span class=\"toc-item-num\">5&nbsp;&nbsp;</span>Conclusion</a></span><ul class=\"toc-item\"><li><span><a href=\"#Recommendations-and-Further-Work\" data-toc-modified-id=\"Recommendations-and-Further-Work-5.1\"><span class=\"toc-item-num\">5.1&nbsp;&nbsp;</span>Recommendations and Further Work</a></span></li></ul></li></ul></div>"
   ]
  },
  {
   "cell_type": "markdown",
   "metadata": {},
   "source": [
    "### Model Creation and Selection\n",
    "\n",
    "In this section, we determine which regression type produces the best results for our data sets via trial and error. We also note that there are possible co-linearities between variables selected in the final datasets and address them here.\n",
    "\n",
    "We perform our model choosing by first creating validation sets from the test set and doing cross validation scores on model results. There after, we recombine our train set and use the test set for our final model.\n",
    "\n",
    "We will determine our score via each model's root mean squared error (RMSE)"
   ]
  },
  {
   "cell_type": "code",
   "execution_count": 1,
   "metadata": {},
   "outputs": [],
   "source": [
    "# Import necessary APIs\n",
    "import pandas as pd\n",
    "import numpy as np\n",
    "import matplotlib.pyplot as plt\n",
    "import seaborn as sns\n",
    "\n",
    "pd.set_option(\"display.max_rows\", 101)\n",
    "\n",
    "%matplotlib inline\n",
    "# modeling imports\n",
    "from sklearn.linear_model import LinearRegression, Ridge, RidgeCV, Lasso, LassoCV\n",
    "from sklearn.model_selection import cross_val_score, train_test_split\n",
    "from sklearn.preprocessing import StandardScaler"
   ]
  },
  {
   "cell_type": "code",
   "execution_count": 2,
   "metadata": {},
   "outputs": [],
   "source": [
    "train = pd.read_csv('../datasets/train_final.csv')\n",
    "test = pd.read_csv('../datasets/test_final.csv')"
   ]
  },
  {
   "cell_type": "markdown",
   "metadata": {},
   "source": [
    "#### Modeling on all columns"
   ]
  },
  {
   "cell_type": "markdown",
   "metadata": {},
   "source": [
    "##### Creation of Validation Set from train\n",
    "\n",
    "We will now perform a validation result on the train dataset using train_test_split.\n",
    "\n",
    "This will give us a testing set and a 'test' set from the original train dataset."
   ]
  },
  {
   "cell_type": "code",
   "execution_count": 3,
   "metadata": {
    "scrolled": true
   },
   "outputs": [
    {
     "data": {
      "text/html": [
       "<div>\n",
       "<style scoped>\n",
       "    .dataframe tbody tr th:only-of-type {\n",
       "        vertical-align: middle;\n",
       "    }\n",
       "\n",
       "    .dataframe tbody tr th {\n",
       "        vertical-align: top;\n",
       "    }\n",
       "\n",
       "    .dataframe thead th {\n",
       "        text-align: right;\n",
       "    }\n",
       "</style>\n",
       "<table border=\"1\" class=\"dataframe\">\n",
       "  <thead>\n",
       "    <tr style=\"text-align: right;\">\n",
       "      <th></th>\n",
       "      <th>lot_frontage</th>\n",
       "      <th>overall_qual</th>\n",
       "      <th>mas_vnr_area</th>\n",
       "      <th>exter_qual</th>\n",
       "      <th>bsmt_qual</th>\n",
       "      <th>bsmt_cond</th>\n",
       "      <th>bsmt_exposure</th>\n",
       "      <th>bsmtfin_type_1</th>\n",
       "      <th>bsmtfin_sf_1</th>\n",
       "      <th>total_bsmt_sf</th>\n",
       "      <th>...</th>\n",
       "      <th>foundation_pconc</th>\n",
       "      <th>foundation_others</th>\n",
       "      <th>ms_subclass_30</th>\n",
       "      <th>ms_subclass_50</th>\n",
       "      <th>ms_subclass_60</th>\n",
       "      <th>ms_subclass_70</th>\n",
       "      <th>ms_subclass_80</th>\n",
       "      <th>ms_subclass_120</th>\n",
       "      <th>ms_subclass_160</th>\n",
       "      <th>ms_subclass_others</th>\n",
       "    </tr>\n",
       "  </thead>\n",
       "  <tbody>\n",
       "    <tr>\n",
       "      <th>0</th>\n",
       "      <td>82.540696</td>\n",
       "      <td>6</td>\n",
       "      <td>289.0</td>\n",
       "      <td>4</td>\n",
       "      <td>3</td>\n",
       "      <td>3</td>\n",
       "      <td>1</td>\n",
       "      <td>6</td>\n",
       "      <td>533.0</td>\n",
       "      <td>725.0</td>\n",
       "      <td>...</td>\n",
       "      <td>0</td>\n",
       "      <td>0</td>\n",
       "      <td>0</td>\n",
       "      <td>0</td>\n",
       "      <td>1</td>\n",
       "      <td>0</td>\n",
       "      <td>0</td>\n",
       "      <td>0</td>\n",
       "      <td>0</td>\n",
       "      <td>0</td>\n",
       "    </tr>\n",
       "    <tr>\n",
       "      <th>1</th>\n",
       "      <td>43.000000</td>\n",
       "      <td>7</td>\n",
       "      <td>132.0</td>\n",
       "      <td>4</td>\n",
       "      <td>4</td>\n",
       "      <td>3</td>\n",
       "      <td>1</td>\n",
       "      <td>6</td>\n",
       "      <td>637.0</td>\n",
       "      <td>913.0</td>\n",
       "      <td>...</td>\n",
       "      <td>1</td>\n",
       "      <td>0</td>\n",
       "      <td>0</td>\n",
       "      <td>0</td>\n",
       "      <td>1</td>\n",
       "      <td>0</td>\n",
       "      <td>0</td>\n",
       "      <td>0</td>\n",
       "      <td>0</td>\n",
       "      <td>0</td>\n",
       "    </tr>\n",
       "    <tr>\n",
       "      <th>2</th>\n",
       "      <td>68.000000</td>\n",
       "      <td>5</td>\n",
       "      <td>0.0</td>\n",
       "      <td>3</td>\n",
       "      <td>3</td>\n",
       "      <td>3</td>\n",
       "      <td>1</td>\n",
       "      <td>6</td>\n",
       "      <td>731.0</td>\n",
       "      <td>1057.0</td>\n",
       "      <td>...</td>\n",
       "      <td>0</td>\n",
       "      <td>0</td>\n",
       "      <td>0</td>\n",
       "      <td>0</td>\n",
       "      <td>0</td>\n",
       "      <td>0</td>\n",
       "      <td>0</td>\n",
       "      <td>0</td>\n",
       "      <td>0</td>\n",
       "      <td>0</td>\n",
       "    </tr>\n",
       "    <tr>\n",
       "      <th>3</th>\n",
       "      <td>73.000000</td>\n",
       "      <td>5</td>\n",
       "      <td>0.0</td>\n",
       "      <td>3</td>\n",
       "      <td>4</td>\n",
       "      <td>3</td>\n",
       "      <td>1</td>\n",
       "      <td>1</td>\n",
       "      <td>0.0</td>\n",
       "      <td>384.0</td>\n",
       "      <td>...</td>\n",
       "      <td>1</td>\n",
       "      <td>0</td>\n",
       "      <td>0</td>\n",
       "      <td>0</td>\n",
       "      <td>1</td>\n",
       "      <td>0</td>\n",
       "      <td>0</td>\n",
       "      <td>0</td>\n",
       "      <td>0</td>\n",
       "      <td>0</td>\n",
       "    </tr>\n",
       "    <tr>\n",
       "      <th>4</th>\n",
       "      <td>82.000000</td>\n",
       "      <td>6</td>\n",
       "      <td>0.0</td>\n",
       "      <td>3</td>\n",
       "      <td>2</td>\n",
       "      <td>4</td>\n",
       "      <td>1</td>\n",
       "      <td>1</td>\n",
       "      <td>0.0</td>\n",
       "      <td>676.0</td>\n",
       "      <td>...</td>\n",
       "      <td>1</td>\n",
       "      <td>0</td>\n",
       "      <td>0</td>\n",
       "      <td>1</td>\n",
       "      <td>0</td>\n",
       "      <td>0</td>\n",
       "      <td>0</td>\n",
       "      <td>0</td>\n",
       "      <td>0</td>\n",
       "      <td>0</td>\n",
       "    </tr>\n",
       "  </tbody>\n",
       "</table>\n",
       "<p>5 rows × 75 columns</p>\n",
       "</div>"
      ],
      "text/plain": [
       "   lot_frontage  overall_qual  mas_vnr_area  exter_qual  bsmt_qual  bsmt_cond  \\\n",
       "0     82.540696             6         289.0           4          3          3   \n",
       "1     43.000000             7         132.0           4          4          3   \n",
       "2     68.000000             5           0.0           3          3          3   \n",
       "3     73.000000             5           0.0           3          4          3   \n",
       "4     82.000000             6           0.0           3          2          4   \n",
       "\n",
       "   bsmt_exposure  bsmtfin_type_1  bsmtfin_sf_1  total_bsmt_sf  ...  \\\n",
       "0              1               6         533.0          725.0  ...   \n",
       "1              1               6         637.0          913.0  ...   \n",
       "2              1               6         731.0         1057.0  ...   \n",
       "3              1               1           0.0          384.0  ...   \n",
       "4              1               1           0.0          676.0  ...   \n",
       "\n",
       "   foundation_pconc  foundation_others  ms_subclass_30  ms_subclass_50  \\\n",
       "0                 0                  0               0               0   \n",
       "1                 1                  0               0               0   \n",
       "2                 0                  0               0               0   \n",
       "3                 1                  0               0               0   \n",
       "4                 1                  0               0               1   \n",
       "\n",
       "   ms_subclass_60  ms_subclass_70  ms_subclass_80  ms_subclass_120  \\\n",
       "0               1               0               0                0   \n",
       "1               1               0               0                0   \n",
       "2               0               0               0                0   \n",
       "3               1               0               0                0   \n",
       "4               0               0               0                0   \n",
       "\n",
       "   ms_subclass_160  ms_subclass_others  \n",
       "0                0                   0  \n",
       "1                0                   0  \n",
       "2                0                   0  \n",
       "3                0                   0  \n",
       "4                0                   0  \n",
       "\n",
       "[5 rows x 75 columns]"
      ]
     },
     "execution_count": 3,
     "metadata": {},
     "output_type": "execute_result"
    }
   ],
   "source": [
    "train.head()"
   ]
  },
  {
   "cell_type": "code",
   "execution_count": 4,
   "metadata": {},
   "outputs": [
    {
     "data": {
      "text/plain": [
       "{'id', 'log_saleprice'}"
      ]
     },
     "execution_count": 4,
     "metadata": {},
     "output_type": "execute_result"
    }
   ],
   "source": [
    "set(train.columns).symmetric_difference(set(test.columns))"
   ]
  },
  {
   "cell_type": "code",
   "execution_count": 5,
   "metadata": {},
   "outputs": [],
   "source": [
    "train['saleprice'] = np.exp(train['log_saleprice'])\n",
    "# Return log_saleprice to its un-logged form moving forward"
   ]
  },
  {
   "cell_type": "code",
   "execution_count": 6,
   "metadata": {},
   "outputs": [],
   "source": [
    "train = train.drop('log_saleprice', axis=1)"
   ]
  },
  {
   "cell_type": "code",
   "execution_count": 7,
   "metadata": {
    "scrolled": false
   },
   "outputs": [],
   "source": [
    "X = train[[column for column in train.columns if column != 'saleprice']]\n",
    "y = train['saleprice']"
   ]
  },
  {
   "cell_type": "code",
   "execution_count": 8,
   "metadata": {},
   "outputs": [
    {
     "data": {
      "text/plain": [
       "{'id'}"
      ]
     },
     "execution_count": 8,
     "metadata": {},
     "output_type": "execute_result"
    }
   ],
   "source": [
    "set(X.columns).symmetric_difference(set(test.columns))\n",
    "# Check to ensure shapes of train and test columns are still compatible"
   ]
  },
  {
   "cell_type": "code",
   "execution_count": 9,
   "metadata": {},
   "outputs": [],
   "source": [
    "X_train, X_test, y_train, y_test = train_test_split(\n",
    "                                    X, y,\n",
    "                                    test_size = .33,\n",
    "                                     random_state = 42, #ensure parity across tests\n",
    ")\n",
    "# Create validation set"
   ]
  },
  {
   "cell_type": "markdown",
   "metadata": {},
   "source": [
    "##### Standardizing X_train and X_test\n",
    "\n",
    "We will do so with StandardScaler()"
   ]
  },
  {
   "cell_type": "code",
   "execution_count": 10,
   "metadata": {},
   "outputs": [],
   "source": [
    "ss = StandardScaler()\n",
    "# Standard scale our data to make it ready for regulaization\n",
    "X_train_ss = ss.fit_transform(X_train)\n",
    "X_test_ss = ss.transform(X_test)\n",
    "\n",
    "X_train_ss = pd.DataFrame(X_train_ss)\n",
    "X_test_ss = pd.DataFrame(X_test_ss)\n",
    "\n",
    "X_train_ss.columns = X_train.columns\n",
    "X_test_ss.columns = X_test.columns"
   ]
  },
  {
   "cell_type": "code",
   "execution_count": 11,
   "metadata": {},
   "outputs": [
    {
     "data": {
      "text/plain": [
       "(1369, 74)"
      ]
     },
     "execution_count": 11,
     "metadata": {},
     "output_type": "execute_result"
    }
   ],
   "source": [
    "X_train_ss.shape"
   ]
  },
  {
   "cell_type": "code",
   "execution_count": 12,
   "metadata": {},
   "outputs": [
    {
     "data": {
      "text/plain": [
       "(675, 74)"
      ]
     },
     "execution_count": 12,
     "metadata": {},
     "output_type": "execute_result"
    }
   ],
   "source": [
    "X_test_ss.shape\n",
    "# Ensure shapes of train and vailidity sets are compatible."
   ]
  },
  {
   "cell_type": "markdown",
   "metadata": {},
   "source": [
    "##### Linear Regression"
   ]
  },
  {
   "cell_type": "code",
   "execution_count": 13,
   "metadata": {},
   "outputs": [
    {
     "data": {
      "text/plain": [
       "LinearRegression()"
      ]
     },
     "execution_count": 13,
     "metadata": {},
     "output_type": "execute_result"
    }
   ],
   "source": [
    "lr = LinearRegression()\n",
    "lr.fit(X_train_ss, y_train)"
   ]
  },
  {
   "cell_type": "code",
   "execution_count": 14,
   "metadata": {},
   "outputs": [
    {
     "data": {
      "text/plain": [
       "26435.304469196028"
      ]
     },
     "execution_count": 14,
     "metadata": {},
     "output_type": "execute_result"
    }
   ],
   "source": [
    "(-cross_val_score(lr, X_train_ss, y_train, cv=5, scoring='neg_mean_squared_error').mean())**.5\n",
    "# Determine RMSE of training set"
   ]
  },
  {
   "cell_type": "code",
   "execution_count": 15,
   "metadata": {},
   "outputs": [
    {
     "data": {
      "text/plain": [
       "25040.687874861997"
      ]
     },
     "execution_count": 15,
     "metadata": {},
     "output_type": "execute_result"
    }
   ],
   "source": [
    "(-cross_val_score(lr, X_test_ss, y_test, cv=5, scoring='neg_mean_squared_error').mean())**.5\n",
    "# Determine RMSE of validation set"
   ]
  },
  {
   "cell_type": "code",
   "execution_count": 16,
   "metadata": {},
   "outputs": [],
   "source": [
    "preds = lr.predict(X_test_ss)"
   ]
  },
  {
   "cell_type": "code",
   "execution_count": 17,
   "metadata": {},
   "outputs": [
    {
     "data": {
      "text/plain": [
       "<matplotlib.collections.PathCollection at 0x2321a7d46a0>"
      ]
     },
     "execution_count": 17,
     "metadata": {},
     "output_type": "execute_result"
    },
    {
     "data": {
      "image/png": "[encoded data removed]",
      "text/plain": [
       "<Figure size 432x288 with 1 Axes>"
      ]
     },
     "metadata": {
      "needs_background": "light"
     },
     "output_type": "display_data"
    }
   ],
   "source": [
    "plt.scatter(preds, y_test)"
   ]
  },
  {
   "cell_type": "markdown",
   "metadata": {},
   "source": [
    "##### Ridge Regression"
   ]
  },
  {
   "cell_type": "code",
   "execution_count": 18,
   "metadata": {},
   "outputs": [
    {
     "data": {
      "text/plain": [
       "40.5546073584083"
      ]
     },
     "execution_count": 18,
     "metadata": {},
     "output_type": "execute_result"
    }
   ],
   "source": [
    "r_alphas = np.logspace(0, 5, 200) # Remember to T&E alpha on a log scale\n",
    "ridge_cv = RidgeCV(alphas=r_alphas, store_cv_values=True)\n",
    "ridge_cv.fit(X_train_ss, y_train)\n",
    "ridge_cv.alpha_"
   ]
  },
  {
   "cell_type": "code",
   "execution_count": 19,
   "metadata": {},
   "outputs": [
    {
     "data": {
      "text/plain": [
       "26325.994371892328"
      ]
     },
     "execution_count": 19,
     "metadata": {},
     "output_type": "execute_result"
    }
   ],
   "source": [
    "ridge_new = Ridge(alpha=ridge_cv.alpha_)\n",
    "ridge_new.fit(X_train_ss, y_train)\n",
    "(-(cross_val_score(ridge_new, X_train_ss, y_train, cv=5, scoring='neg_mean_squared_error').mean()))**.5"
   ]
  },
  {
   "cell_type": "code",
   "execution_count": 20,
   "metadata": {},
   "outputs": [
    {
     "data": {
      "text/plain": [
       "24049.95589947335"
      ]
     },
     "execution_count": 20,
     "metadata": {},
     "output_type": "execute_result"
    }
   ],
   "source": [
    "(-(cross_val_score(ridge_new, X_test_ss, y_test, cv=5, scoring='neg_mean_squared_error').mean()))**.5"
   ]
  },
  {
   "cell_type": "code",
   "execution_count": 21,
   "metadata": {},
   "outputs": [
    {
     "data": {
      "text/plain": [
       "<matplotlib.collections.PathCollection at 0x2321aad2f10>"
      ]
     },
     "execution_count": 21,
     "metadata": {},
     "output_type": "execute_result"
    },
    {
     "data": {
      "image/png": "[encoded data removed]",
      "text/plain": [
       "<Figure size 432x288 with 1 Axes>"
      ]
     },
     "metadata": {
      "needs_background": "light"
     },
     "output_type": "display_data"
    }
   ],
   "source": [
    "preds = ridge_new.predict(X_test_ss)\n",
    "\n",
    "plt.scatter(preds, y_test)"
   ]
  },
  {
   "cell_type": "markdown",
   "metadata": {},
   "source": [
    "##### Lasso Regression"
   ]
  },
  {
   "cell_type": "code",
   "execution_count": 22,
   "metadata": {},
   "outputs": [
    {
     "data": {
      "text/plain": [
       "150.0"
      ]
     },
     "execution_count": 22,
     "metadata": {},
     "output_type": "execute_result"
    }
   ],
   "source": [
    "l_alphas = np.arange(150, 200, .01)\n",
    "\n",
    "lasso_cv = LassoCV(alphas = l_alphas, cv = 5, max_iter=10000)\n",
    "lasso_cv.fit(X_train_ss, y_train)\n",
    "lasso_cv.alpha_"
   ]
  },
  {
   "cell_type": "code",
   "execution_count": 23,
   "metadata": {},
   "outputs": [
    {
     "data": {
      "text/plain": [
       "26454.02432511932"
      ]
     },
     "execution_count": 23,
     "metadata": {},
     "output_type": "execute_result"
    }
   ],
   "source": [
    "lasso_new = Lasso(alpha=lasso_cv.alpha_)\n",
    "lasso_new.fit(X_train_ss, y_train)\n",
    "(-(cross_val_score(lasso_new, X_train_ss, y_train, cv=5, scoring='neg_mean_squared_error').mean()))**.5"
   ]
  },
  {
   "cell_type": "code",
   "execution_count": 24,
   "metadata": {},
   "outputs": [
    {
     "data": {
      "text/plain": [
       "23895.288502441275"
      ]
     },
     "execution_count": 24,
     "metadata": {},
     "output_type": "execute_result"
    }
   ],
   "source": [
    "(-(cross_val_score(lasso_new, X_test_ss, y_test, cv=5, scoring='neg_mean_squared_error').mean()))**.5"
   ]
  },
  {
   "cell_type": "code",
   "execution_count": 25,
   "metadata": {
    "scrolled": false
   },
   "outputs": [
    {
     "data": {
      "text/plain": [
       "<matplotlib.collections.PathCollection at 0x2321ab1e8e0>"
      ]
     },
     "execution_count": 25,
     "metadata": {},
     "output_type": "execute_result"
    },
    {
     "data": {
      "image/png": "[encoded data removed]",
      "text/plain": [
       "<Figure size 432x288 with 1 Axes>"
      ]
     },
     "metadata": {
      "needs_background": "light"
     },
     "output_type": "display_data"
    }
   ],
   "source": [
    "preds = lasso_new.predict(X_test_ss)\n",
    "\n",
    "plt.scatter(preds, y_test)"
   ]
  },
  {
   "cell_type": "markdown",
   "metadata": {},
   "source": [
    "RMSE results on all models are within expectations. "
   ]
  },
  {
   "cell_type": "markdown",
   "metadata": {},
   "source": [
    "#### Aggregated Variables removed\n",
    "\n",
    "In our Feature Engineering section, we noticed how some variables may be aggregates of other columns. This could present a collinearlity problem. We will take a look at using our available variables without aggregated columns."
   ]
  },
  {
   "cell_type": "markdown",
   "metadata": {},
   "source": [
    "##### Creation of Validation Set from train"
   ]
  },
  {
   "cell_type": "code",
   "execution_count": 26,
   "metadata": {},
   "outputs": [],
   "source": [
    "agg_columns = ['overall_qual', 'gr_liv_area']"
   ]
  },
  {
   "cell_type": "code",
   "execution_count": 27,
   "metadata": {},
   "outputs": [],
   "source": [
    "train_no_agg = train[[column for column in train.columns if column not in agg_columns]]"
   ]
  },
  {
   "cell_type": "code",
   "execution_count": 28,
   "metadata": {
    "scrolled": false
   },
   "outputs": [],
   "source": [
    "X_no_agg = train_no_agg[[column for column in train_no_agg.columns if column != 'saleprice']]\n",
    "y = train['saleprice']"
   ]
  },
  {
   "cell_type": "code",
   "execution_count": 29,
   "metadata": {},
   "outputs": [],
   "source": [
    "X_train, X_test, y_train, y_test = train_test_split(\n",
    "                                    X_no_agg, y,\n",
    "                                    test_size = .33,\n",
    "                                    random_state = 42, #ensure parity across tests\n",
    ")"
   ]
  },
  {
   "cell_type": "markdown",
   "metadata": {},
   "source": [
    "##### Standardizing X_train and X_test\n",
    "\n",
    "We will do so with StandardScaler()"
   ]
  },
  {
   "cell_type": "code",
   "execution_count": 30,
   "metadata": {},
   "outputs": [],
   "source": [
    "ss = StandardScaler()\n",
    "\n",
    "X_train_ss = ss.fit_transform(X_train)\n",
    "X_test_ss = ss.transform(X_test)\n",
    "\n",
    "X_train_ss = pd.DataFrame(X_train_ss)\n",
    "X_test_ss = pd.DataFrame(X_test_ss)"
   ]
  },
  {
   "cell_type": "code",
   "execution_count": 31,
   "metadata": {},
   "outputs": [
    {
     "data": {
      "text/plain": [
       "(1369, 72)"
      ]
     },
     "execution_count": 31,
     "metadata": {},
     "output_type": "execute_result"
    }
   ],
   "source": [
    "X_train_ss.shape"
   ]
  },
  {
   "cell_type": "code",
   "execution_count": 32,
   "metadata": {},
   "outputs": [
    {
     "data": {
      "text/plain": [
       "(675, 72)"
      ]
     },
     "execution_count": 32,
     "metadata": {},
     "output_type": "execute_result"
    }
   ],
   "source": [
    "X_test_ss.shape"
   ]
  },
  {
   "cell_type": "markdown",
   "metadata": {},
   "source": [
    "##### Linear Regression"
   ]
  },
  {
   "cell_type": "code",
   "execution_count": 33,
   "metadata": {},
   "outputs": [
    {
     "data": {
      "text/plain": [
       "LinearRegression()"
      ]
     },
     "execution_count": 33,
     "metadata": {},
     "output_type": "execute_result"
    }
   ],
   "source": [
    "lr = LinearRegression()\n",
    "lr.fit(X_train_ss, y_train)"
   ]
  },
  {
   "cell_type": "code",
   "execution_count": 34,
   "metadata": {},
   "outputs": [
    {
     "data": {
      "text/plain": [
       "27444.22798680476"
      ]
     },
     "execution_count": 34,
     "metadata": {},
     "output_type": "execute_result"
    }
   ],
   "source": [
    "(-cross_val_score(lr, X_train_ss, y_train, cv=5, scoring='neg_mean_squared_error').mean())**.5"
   ]
  },
  {
   "cell_type": "code",
   "execution_count": 35,
   "metadata": {},
   "outputs": [
    {
     "data": {
      "text/plain": [
       "26283.05089474428"
      ]
     },
     "execution_count": 35,
     "metadata": {},
     "output_type": "execute_result"
    }
   ],
   "source": [
    "(-cross_val_score(lr, X_test_ss, y_test, cv=5, scoring='neg_mean_squared_error').mean())**.5"
   ]
  },
  {
   "cell_type": "code",
   "execution_count": 36,
   "metadata": {},
   "outputs": [],
   "source": [
    "preds = lr.predict(X_test_ss)"
   ]
  },
  {
   "cell_type": "code",
   "execution_count": 37,
   "metadata": {},
   "outputs": [
    {
     "data": {
      "text/plain": [
       "<matplotlib.collections.PathCollection at 0x2321ae88eb0>"
      ]
     },
     "execution_count": 37,
     "metadata": {},
     "output_type": "execute_result"
    },
    {
     "data": {
      "image/png": "[encoded data removed]",
      "text/plain": [
       "<Figure size 432x288 with 1 Axes>"
      ]
     },
     "metadata": {
      "needs_background": "light"
     },
     "output_type": "display_data"
    }
   ],
   "source": [
    "plt.scatter(preds, y_test)"
   ]
  },
  {
   "cell_type": "markdown",
   "metadata": {},
   "source": [
    "##### Ridge Regression"
   ]
  },
  {
   "cell_type": "code",
   "execution_count": 38,
   "metadata": {},
   "outputs": [
    {
     "data": {
      "text/plain": [
       "18.041864093920726"
      ]
     },
     "execution_count": 38,
     "metadata": {},
     "output_type": "execute_result"
    }
   ],
   "source": [
    "r_alphas = np.logspace(0, 5, 200) # Remember to T&E alpha on a log scale\n",
    "ridge_cv = RidgeCV(alphas=r_alphas, store_cv_values=True)\n",
    "ridge_cv.fit(X_train_ss, y_train)\n",
    "ridge_cv.alpha_"
   ]
  },
  {
   "cell_type": "code",
   "execution_count": 39,
   "metadata": {},
   "outputs": [
    {
     "data": {
      "text/plain": [
       "27389.068901909955"
      ]
     },
     "execution_count": 39,
     "metadata": {},
     "output_type": "execute_result"
    }
   ],
   "source": [
    "ridge_new = Ridge(alpha=ridge_cv.alpha_)\n",
    "ridge_new.fit(X_train_ss, y_train)\n",
    "(-(cross_val_score(ridge_new, X_train_ss, y_train, cv=5, scoring='neg_mean_squared_error').mean()))**.5"
   ]
  },
  {
   "cell_type": "code",
   "execution_count": 40,
   "metadata": {},
   "outputs": [
    {
     "data": {
      "text/plain": [
       "25972.978168934267"
      ]
     },
     "execution_count": 40,
     "metadata": {},
     "output_type": "execute_result"
    }
   ],
   "source": [
    "(-(cross_val_score(ridge_new, X_test_ss, y_test, cv=5, scoring='neg_mean_squared_error').mean()))**.5"
   ]
  },
  {
   "cell_type": "code",
   "execution_count": 41,
   "metadata": {},
   "outputs": [
    {
     "data": {
      "text/plain": [
       "<matplotlib.collections.PathCollection at 0x2321c3d0a30>"
      ]
     },
     "execution_count": 41,
     "metadata": {},
     "output_type": "execute_result"
    },
    {
     "data": {
      "image/png": "[encoded data removed]",
      "text/plain": [
       "<Figure size 432x288 with 1 Axes>"
      ]
     },
     "metadata": {
      "needs_background": "light"
     },
     "output_type": "display_data"
    }
   ],
   "source": [
    "preds = ridge_new.predict(X_test_ss)\n",
    "\n",
    "plt.scatter(preds, y_test)"
   ]
  },
  {
   "cell_type": "markdown",
   "metadata": {},
   "source": [
    "##### Lasso Regression"
   ]
  },
  {
   "cell_type": "code",
   "execution_count": 42,
   "metadata": {},
   "outputs": [
    {
     "data": {
      "text/plain": [
       "187.08999999996627"
      ]
     },
     "execution_count": 42,
     "metadata": {},
     "output_type": "execute_result"
    }
   ],
   "source": [
    "l_alphas = np.arange(150, 200, .01)\n",
    "\n",
    "lasso_cv = LassoCV(alphas = l_alphas, cv = 5, max_iter=10000)\n",
    "lasso_cv.fit(X_train_ss, y_train)\n",
    "lasso_cv.alpha_"
   ]
  },
  {
   "cell_type": "code",
   "execution_count": 43,
   "metadata": {},
   "outputs": [
    {
     "data": {
      "text/plain": [
       "27316.815372314053"
      ]
     },
     "execution_count": 43,
     "metadata": {},
     "output_type": "execute_result"
    }
   ],
   "source": [
    "lasso_new = Lasso(alpha=lasso_cv.alpha_)\n",
    "lasso_new.fit(X_train_ss, y_train)\n",
    "(-(cross_val_score(lasso_new, X_train_ss, y_train, cv=5, scoring='neg_mean_squared_error').mean()))**.5"
   ]
  },
  {
   "cell_type": "code",
   "execution_count": 44,
   "metadata": {},
   "outputs": [
    {
     "data": {
      "text/plain": [
       "25891.687273705895"
      ]
     },
     "execution_count": 44,
     "metadata": {},
     "output_type": "execute_result"
    }
   ],
   "source": [
    "(-(cross_val_score(lasso_new, X_test_ss, y_test, cv=5, scoring='neg_mean_squared_error').mean()))**.5"
   ]
  },
  {
   "cell_type": "code",
   "execution_count": 45,
   "metadata": {
    "scrolled": false
   },
   "outputs": [
    {
     "data": {
      "text/plain": [
       "<matplotlib.collections.PathCollection at 0x2321b1e7be0>"
      ]
     },
     "execution_count": 45,
     "metadata": {},
     "output_type": "execute_result"
    },
    {
     "data": {
      "image/png": "[encoded data removed]",
      "text/plain": [
       "<Figure size 432x288 with 1 Axes>"
      ]
     },
     "metadata": {
      "needs_background": "light"
     },
     "output_type": "display_data"
    }
   ],
   "source": [
    "preds = lasso_new.predict(X_test_ss)\n",
    "\n",
    "plt.scatter(preds, y_test)"
   ]
  },
  {
   "cell_type": "markdown",
   "metadata": {},
   "source": [
    "No significant differences from the model on all columns could be found."
   ]
  },
  {
   "cell_type": "markdown",
   "metadata": {},
   "source": [
    "#### Individual Variables removed\n",
    "\n",
    "We will now do the same with individual variables which are already represented by aggregated variables."
   ]
  },
  {
   "cell_type": "markdown",
   "metadata": {},
   "source": [
    "##### Creation of Validation Set from train"
   ]
  },
  {
   "cell_type": "code",
   "execution_count": 46,
   "metadata": {},
   "outputs": [
    {
     "data": {
      "text/plain": [
       "Index(['lot_frontage', 'overall_qual', 'mas_vnr_area', 'exter_qual',\n",
       "       'bsmt_qual', 'bsmt_cond', 'bsmt_exposure', 'bsmtfin_type_1',\n",
       "       'bsmtfin_sf_1', 'total_bsmt_sf', 'heating_qc', 'central_air',\n",
       "       '1st_flr_sf', '2nd_flr_sf', 'gr_liv_area', 'bsmt_full_bath',\n",
       "       'full_bath', 'half_bath', 'kitchen_qual', 'totrms_abvgrd', 'fireplaces',\n",
       "       'garage_type', 'garage_finish', 'garage_cars', 'paved_drive',\n",
       "       'wood_deck_sf', 'open_porch_sf', 'enclosed_porch', 'fence',\n",
       "       'yrs_since_year_remod_add', 'yrs_since_year_built', 'log_lot_area',\n",
       "       'ms_zoning_rm', 'ms_zoning_others', 'lot_shape_reg', 'lot_shape_others',\n",
       "       'neighborhood_collgcr', 'neighborhood_crawfor', 'neighborhood_edwards',\n",
       "       'neighborhood_gilbert', 'neighborhood_idotrr', 'neighborhood_mitchel',\n",
       "       'neighborhood_names', 'neighborhood_nwames', 'neighborhood_noridge',\n",
       "       'neighborhood_nridght', 'neighborhood_oldtown', 'neighborhood_sawyer',\n",
       "       'neighborhood_sawyerw', 'neighborhood_somerst', 'neighborhood_stonebr',\n",
       "       'neighborhood_timber', 'neighborhood_others', 'roof_style_hip',\n",
       "       'roof_style_others', 'exterior_1st_hdboard', 'exterior_1st_metalsd',\n",
       "       'exterior_1st_plywood', 'exterior_1st_vinylsd', 'exterior_1st_wd_sdng',\n",
       "       'exterior_1st_others', 'mas_vnr_type_none', 'mas_vnr_type_others',\n",
       "       'foundation_cblock', 'foundation_pconc', 'foundation_others',\n",
       "       'ms_subclass_30', 'ms_subclass_50', 'ms_subclass_60', 'ms_subclass_70',\n",
       "       'ms_subclass_80', 'ms_subclass_120', 'ms_subclass_160',\n",
       "       'ms_subclass_others', 'saleprice'],\n",
       "      dtype='object')"
      ]
     },
     "execution_count": 46,
     "metadata": {},
     "output_type": "execute_result"
    }
   ],
   "source": [
    "train.columns"
   ]
  },
  {
   "cell_type": "code",
   "execution_count": 47,
   "metadata": {},
   "outputs": [],
   "source": [
    "indiv_columns = ['exter_qual', 'bsmt_qual', 'heating_qc', 'kitchen_qual', '1st_flr_sf', '2nd_flr_sf']"
   ]
  },
  {
   "cell_type": "code",
   "execution_count": 48,
   "metadata": {},
   "outputs": [],
   "source": [
    "train_no_indiv = train[[column for column in train.columns if column not in indiv_columns]]"
   ]
  },
  {
   "cell_type": "code",
   "execution_count": 49,
   "metadata": {
    "scrolled": false
   },
   "outputs": [],
   "source": [
    "X_no_indiv = train_no_indiv[[column for column in train_no_indiv.columns if column != 'saleprice']]\n",
    "y = train['saleprice']"
   ]
  },
  {
   "cell_type": "code",
   "execution_count": 50,
   "metadata": {},
   "outputs": [],
   "source": [
    "X_train, X_test, y_train, y_test = train_test_split(\n",
    "                                    X_no_indiv, y,\n",
    "                                    test_size = .33,\n",
    "                                     random_state = 42, #ensure parity across tests\n",
    ")"
   ]
  },
  {
   "cell_type": "markdown",
   "metadata": {},
   "source": [
    "##### Standardizing X_train and X_test\n",
    "\n",
    "We will do so with StandardScaler()"
   ]
  },
  {
   "cell_type": "code",
   "execution_count": 51,
   "metadata": {},
   "outputs": [],
   "source": [
    "ss = StandardScaler()\n",
    "\n",
    "X_train_ss = ss.fit_transform(X_train)\n",
    "X_test_ss = ss.transform(X_test)\n",
    "\n",
    "X_train_ss = pd.DataFrame(X_train_ss)\n",
    "X_test_ss = pd.DataFrame(X_test_ss)"
   ]
  },
  {
   "cell_type": "code",
   "execution_count": 52,
   "metadata": {},
   "outputs": [
    {
     "data": {
      "text/plain": [
       "(1369, 68)"
      ]
     },
     "execution_count": 52,
     "metadata": {},
     "output_type": "execute_result"
    }
   ],
   "source": [
    "X_train_ss.shape"
   ]
  },
  {
   "cell_type": "code",
   "execution_count": 53,
   "metadata": {},
   "outputs": [
    {
     "data": {
      "text/plain": [
       "(675, 68)"
      ]
     },
     "execution_count": 53,
     "metadata": {},
     "output_type": "execute_result"
    }
   ],
   "source": [
    "X_test_ss.shape"
   ]
  },
  {
   "cell_type": "markdown",
   "metadata": {},
   "source": [
    "##### Linear Regression"
   ]
  },
  {
   "cell_type": "code",
   "execution_count": 54,
   "metadata": {},
   "outputs": [
    {
     "data": {
      "text/plain": [
       "LinearRegression()"
      ]
     },
     "execution_count": 54,
     "metadata": {},
     "output_type": "execute_result"
    }
   ],
   "source": [
    "lr = LinearRegression()\n",
    "lr.fit(X_train_ss, y_train)"
   ]
  },
  {
   "cell_type": "code",
   "execution_count": 55,
   "metadata": {},
   "outputs": [
    {
     "data": {
      "text/plain": [
       "27119.73362739694"
      ]
     },
     "execution_count": 55,
     "metadata": {},
     "output_type": "execute_result"
    }
   ],
   "source": [
    "(-cross_val_score(lr, X_train_ss, y_train, cv=5, scoring='neg_mean_squared_error').mean())**.5"
   ]
  },
  {
   "cell_type": "code",
   "execution_count": 56,
   "metadata": {},
   "outputs": [
    {
     "data": {
      "text/plain": [
       "25017.139820092612"
      ]
     },
     "execution_count": 56,
     "metadata": {},
     "output_type": "execute_result"
    }
   ],
   "source": [
    "(-cross_val_score(lr, X_test_ss, y_test, cv=5, scoring='neg_mean_squared_error').mean())**.5"
   ]
  },
  {
   "cell_type": "code",
   "execution_count": 57,
   "metadata": {},
   "outputs": [],
   "source": [
    "preds = lr.predict(X_test_ss)"
   ]
  },
  {
   "cell_type": "code",
   "execution_count": 58,
   "metadata": {},
   "outputs": [
    {
     "data": {
      "text/plain": [
       "<matplotlib.collections.PathCollection at 0x2321b18f130>"
      ]
     },
     "execution_count": 58,
     "metadata": {},
     "output_type": "execute_result"
    },
    {
     "data": {
      "image/png": "[encoded data removed]",
      "text/plain": [
       "<Figure size 432x288 with 1 Axes>"
      ]
     },
     "metadata": {
      "needs_background": "light"
     },
     "output_type": "display_data"
    }
   ],
   "source": [
    "plt.scatter(preds, y_test)"
   ]
  },
  {
   "cell_type": "markdown",
   "metadata": {},
   "source": [
    "##### Ridge Regression"
   ]
  },
  {
   "cell_type": "code",
   "execution_count": 59,
   "metadata": {},
   "outputs": [
    {
     "data": {
      "text/plain": [
       "15.167168884709232"
      ]
     },
     "execution_count": 59,
     "metadata": {},
     "output_type": "execute_result"
    }
   ],
   "source": [
    "r_alphas = np.logspace(0, 5, 200) # Remember to T&E alpha on a log scale\n",
    "ridge_cv = RidgeCV(alphas=r_alphas, store_cv_values=True)\n",
    "ridge_cv.fit(X_train_ss, y_train)\n",
    "ridge_cv.alpha_"
   ]
  },
  {
   "cell_type": "code",
   "execution_count": 60,
   "metadata": {},
   "outputs": [
    {
     "data": {
      "text/plain": [
       "27093.527125985547"
      ]
     },
     "execution_count": 60,
     "metadata": {},
     "output_type": "execute_result"
    }
   ],
   "source": [
    "ridge_new = Ridge(alpha=ridge_cv.alpha_)\n",
    "ridge_new.fit(X_train_ss, y_train)\n",
    "(-(cross_val_score(ridge_new, X_train_ss, y_train, cv=5, scoring='neg_mean_squared_error').mean()))**.5"
   ]
  },
  {
   "cell_type": "code",
   "execution_count": 61,
   "metadata": {},
   "outputs": [
    {
     "data": {
      "text/plain": [
       "24676.11511264605"
      ]
     },
     "execution_count": 61,
     "metadata": {},
     "output_type": "execute_result"
    }
   ],
   "source": [
    "(-(cross_val_score(ridge_new, X_test_ss, y_test, cv=5, scoring='neg_mean_squared_error').mean()))**.5"
   ]
  },
  {
   "cell_type": "code",
   "execution_count": 62,
   "metadata": {},
   "outputs": [
    {
     "data": {
      "text/plain": [
       "<matplotlib.collections.PathCollection at 0x2321b17e2e0>"
      ]
     },
     "execution_count": 62,
     "metadata": {},
     "output_type": "execute_result"
    },
    {
     "data": {
      "image/png": "[encoded data removed]",
      "text/plain": [
       "<Figure size 432x288 with 1 Axes>"
      ]
     },
     "metadata": {
      "needs_background": "light"
     },
     "output_type": "display_data"
    }
   ],
   "source": [
    "preds = ridge_new.predict(X_test_ss)\n",
    "\n",
    "plt.scatter(preds, y_test)"
   ]
  },
  {
   "cell_type": "markdown",
   "metadata": {},
   "source": [
    "##### Lasso Regression"
   ]
  },
  {
   "cell_type": "code",
   "execution_count": 63,
   "metadata": {},
   "outputs": [
    {
     "data": {
      "text/plain": [
       "53.33999999999908"
      ]
     },
     "execution_count": 63,
     "metadata": {},
     "output_type": "execute_result"
    }
   ],
   "source": [
    "l_alphas = np.arange(10, 60, .01)\n",
    "\n",
    "lasso_cv = LassoCV(alphas = l_alphas, cv = 5, max_iter=10000)\n",
    "lasso_cv.fit(X_train_ss, y_train)\n",
    "lasso_cv.alpha_"
   ]
  },
  {
   "cell_type": "code",
   "execution_count": 64,
   "metadata": {},
   "outputs": [
    {
     "data": {
      "text/plain": [
       "27107.324605363625"
      ]
     },
     "execution_count": 64,
     "metadata": {},
     "output_type": "execute_result"
    }
   ],
   "source": [
    "lasso_new = Lasso(alpha=lasso_cv.alpha_)\n",
    "lasso_new.fit(X_train_ss, y_train)\n",
    "(-(cross_val_score(lasso_new, X_train_ss, y_train, cv=5, scoring='neg_mean_squared_error').mean()))**.5"
   ]
  },
  {
   "cell_type": "code",
   "execution_count": 65,
   "metadata": {},
   "outputs": [
    {
     "data": {
      "text/plain": [
       "24813.99983376168"
      ]
     },
     "execution_count": 65,
     "metadata": {},
     "output_type": "execute_result"
    }
   ],
   "source": [
    "(-(cross_val_score(lasso_new, X_test_ss, y_test, cv=5, scoring='neg_mean_squared_error').mean()))**.5"
   ]
  },
  {
   "cell_type": "code",
   "execution_count": 66,
   "metadata": {
    "scrolled": false
   },
   "outputs": [
    {
     "data": {
      "text/plain": [
       "<matplotlib.collections.PathCollection at 0x2321c6905b0>"
      ]
     },
     "execution_count": 66,
     "metadata": {},
     "output_type": "execute_result"
    },
    {
     "data": {
      "image/png": "[encoded data removed]",
      "text/plain": [
       "<Figure size 432x288 with 1 Axes>"
      ]
     },
     "metadata": {
      "needs_background": "light"
     },
     "output_type": "display_data"
    }
   ],
   "source": [
    "preds = lasso_new.predict(X_test_ss)\n",
    "\n",
    "plt.scatter(preds, y_test)"
   ]
  },
  {
   "cell_type": "markdown",
   "metadata": {},
   "source": [
    "RMSE results has no significant differences from the all columns models."
   ]
  },
  {
   "cell_type": "markdown",
   "metadata": {},
   "source": [
    "#### Hybrid Set -- Quality is aggregated, but physical features are individual\n",
    "\n",
    "We will try a mix due to many of our quality columns having been removed earlier."
   ]
  },
  {
   "cell_type": "markdown",
   "metadata": {},
   "source": [
    "##### Creation of Validation Set from train"
   ]
  },
  {
   "cell_type": "code",
   "execution_count": 67,
   "metadata": {},
   "outputs": [],
   "source": [
    "hybrid_columns = ['exter_qual', 'bsmt_qual', 'heating_qc', 'kitchen_qual', 'gr_liv_area']"
   ]
  },
  {
   "cell_type": "code",
   "execution_count": 68,
   "metadata": {},
   "outputs": [],
   "source": [
    "train_hybrid = train[[column for column in train.columns if column not in hybrid_columns]]"
   ]
  },
  {
   "cell_type": "code",
   "execution_count": 69,
   "metadata": {},
   "outputs": [
    {
     "data": {
      "text/plain": [
       "Index(['lot_frontage', 'overall_qual', 'mas_vnr_area', 'bsmt_cond',\n",
       "       'bsmt_exposure', 'bsmtfin_type_1', 'bsmtfin_sf_1', 'total_bsmt_sf',\n",
       "       'central_air', '1st_flr_sf', '2nd_flr_sf', 'bsmt_full_bath',\n",
       "       'full_bath', 'half_bath', 'totrms_abvgrd', 'fireplaces', 'garage_type',\n",
       "       'garage_finish', 'garage_cars', 'paved_drive', 'wood_deck_sf',\n",
       "       'open_porch_sf', 'enclosed_porch', 'fence', 'yrs_since_year_remod_add',\n",
       "       'yrs_since_year_built', 'log_lot_area', 'ms_zoning_rm',\n",
       "       'ms_zoning_others', 'lot_shape_reg', 'lot_shape_others',\n",
       "       'neighborhood_collgcr', 'neighborhood_crawfor', 'neighborhood_edwards',\n",
       "       'neighborhood_gilbert', 'neighborhood_idotrr', 'neighborhood_mitchel',\n",
       "       'neighborhood_names', 'neighborhood_nwames', 'neighborhood_noridge',\n",
       "       'neighborhood_nridght', 'neighborhood_oldtown', 'neighborhood_sawyer',\n",
       "       'neighborhood_sawyerw', 'neighborhood_somerst', 'neighborhood_stonebr',\n",
       "       'neighborhood_timber', 'neighborhood_others', 'roof_style_hip',\n",
       "       'roof_style_others', 'exterior_1st_hdboard', 'exterior_1st_metalsd',\n",
       "       'exterior_1st_plywood', 'exterior_1st_vinylsd', 'exterior_1st_wd_sdng',\n",
       "       'exterior_1st_others', 'mas_vnr_type_none', 'mas_vnr_type_others',\n",
       "       'foundation_cblock', 'foundation_pconc', 'foundation_others',\n",
       "       'ms_subclass_30', 'ms_subclass_50', 'ms_subclass_60', 'ms_subclass_70',\n",
       "       'ms_subclass_80', 'ms_subclass_120', 'ms_subclass_160',\n",
       "       'ms_subclass_others', 'saleprice'],\n",
       "      dtype='object')"
      ]
     },
     "execution_count": 69,
     "metadata": {},
     "output_type": "execute_result"
    }
   ],
   "source": [
    "train_hybrid.columns"
   ]
  },
  {
   "cell_type": "code",
   "execution_count": 70,
   "metadata": {
    "scrolled": false
   },
   "outputs": [],
   "source": [
    "X_hybrid = train_hybrid[[column for column in train_hybrid.columns if column != 'saleprice']]\n",
    "y = train['saleprice']"
   ]
  },
  {
   "cell_type": "code",
   "execution_count": 71,
   "metadata": {},
   "outputs": [],
   "source": [
    "X_train, X_test, y_train, y_test = train_test_split(\n",
    "                                    X_no_indiv, y,\n",
    "                                    test_size = .33,\n",
    "                                     random_state = 42, #ensure parity across tests\n",
    ")"
   ]
  },
  {
   "cell_type": "markdown",
   "metadata": {},
   "source": [
    "##### Standardizing X_train and X_test\n",
    "\n",
    "We will do so with StandardScaler()"
   ]
  },
  {
   "cell_type": "code",
   "execution_count": 72,
   "metadata": {},
   "outputs": [],
   "source": [
    "ss = StandardScaler()\n",
    "\n",
    "X_train_ss = ss.fit_transform(X_train)\n",
    "X_test_ss = ss.transform(X_test)\n",
    "\n",
    "X_train_ss = pd.DataFrame(X_train_ss)\n",
    "X_test_ss = pd.DataFrame(X_test_ss)"
   ]
  },
  {
   "cell_type": "code",
   "execution_count": 73,
   "metadata": {},
   "outputs": [
    {
     "data": {
      "text/plain": [
       "(1369, 68)"
      ]
     },
     "execution_count": 73,
     "metadata": {},
     "output_type": "execute_result"
    }
   ],
   "source": [
    "X_train_ss.shape"
   ]
  },
  {
   "cell_type": "code",
   "execution_count": 74,
   "metadata": {},
   "outputs": [
    {
     "data": {
      "text/plain": [
       "(675, 68)"
      ]
     },
     "execution_count": 74,
     "metadata": {},
     "output_type": "execute_result"
    }
   ],
   "source": [
    "X_test_ss.shape"
   ]
  },
  {
   "cell_type": "markdown",
   "metadata": {},
   "source": [
    "##### Linear Regression"
   ]
  },
  {
   "cell_type": "code",
   "execution_count": 75,
   "metadata": {},
   "outputs": [
    {
     "data": {
      "text/plain": [
       "LinearRegression()"
      ]
     },
     "execution_count": 75,
     "metadata": {},
     "output_type": "execute_result"
    }
   ],
   "source": [
    "lr = LinearRegression()\n",
    "lr.fit(X_train_ss, y_train)"
   ]
  },
  {
   "cell_type": "code",
   "execution_count": 76,
   "metadata": {},
   "outputs": [
    {
     "data": {
      "text/plain": [
       "27119.73362739694"
      ]
     },
     "execution_count": 76,
     "metadata": {},
     "output_type": "execute_result"
    }
   ],
   "source": [
    "(-cross_val_score(lr, X_train_ss, y_train, cv=5, scoring='neg_mean_squared_error').mean())**.5"
   ]
  },
  {
   "cell_type": "code",
   "execution_count": 77,
   "metadata": {},
   "outputs": [
    {
     "data": {
      "text/plain": [
       "25017.139820092612"
      ]
     },
     "execution_count": 77,
     "metadata": {},
     "output_type": "execute_result"
    }
   ],
   "source": [
    "(-cross_val_score(lr, X_test_ss, y_test, cv=5, scoring='neg_mean_squared_error').mean())**.5"
   ]
  },
  {
   "cell_type": "code",
   "execution_count": 78,
   "metadata": {},
   "outputs": [],
   "source": [
    "preds = lr.predict(X_test_ss)"
   ]
  },
  {
   "cell_type": "code",
   "execution_count": 79,
   "metadata": {},
   "outputs": [
    {
     "data": {
      "text/plain": [
       "<matplotlib.collections.PathCollection at 0x2321a9f3a00>"
      ]
     },
     "execution_count": 79,
     "metadata": {},
     "output_type": "execute_result"
    },
    {
     "data": {
      "image/png": "[encoded data removed]",
      "text/plain": [
       "<Figure size 432x288 with 1 Axes>"
      ]
     },
     "metadata": {
      "needs_background": "light"
     },
     "output_type": "display_data"
    }
   ],
   "source": [
    "plt.scatter(preds, y_test)"
   ]
  },
  {
   "cell_type": "markdown",
   "metadata": {},
   "source": [
    "##### Ridge Regression"
   ]
  },
  {
   "cell_type": "code",
   "execution_count": 80,
   "metadata": {},
   "outputs": [
    {
     "data": {
      "text/plain": [
       "15.167168884709232"
      ]
     },
     "execution_count": 80,
     "metadata": {},
     "output_type": "execute_result"
    }
   ],
   "source": [
    "r_alphas = np.logspace(0, 5, 200) # Remember to T&E alpha on a log scale\n",
    "ridge_cv = RidgeCV(alphas=r_alphas, store_cv_values=True)\n",
    "ridge_cv.fit(X_train_ss, y_train)\n",
    "ridge_cv.alpha_"
   ]
  },
  {
   "cell_type": "code",
   "execution_count": 81,
   "metadata": {},
   "outputs": [
    {
     "data": {
      "text/plain": [
       "27093.527125985547"
      ]
     },
     "execution_count": 81,
     "metadata": {},
     "output_type": "execute_result"
    }
   ],
   "source": [
    "ridge_new = Ridge(alpha=ridge_cv.alpha_)\n",
    "ridge_new.fit(X_train_ss, y_train)\n",
    "(-(cross_val_score(ridge_new, X_train_ss, y_train, cv=5, scoring='neg_mean_squared_error').mean()))**.5"
   ]
  },
  {
   "cell_type": "code",
   "execution_count": 82,
   "metadata": {},
   "outputs": [
    {
     "data": {
      "text/plain": [
       "24676.11511264605"
      ]
     },
     "execution_count": 82,
     "metadata": {},
     "output_type": "execute_result"
    }
   ],
   "source": [
    "(-(cross_val_score(ridge_new, X_test_ss, y_test, cv=5, scoring='neg_mean_squared_error').mean()))**.5"
   ]
  },
  {
   "cell_type": "code",
   "execution_count": 83,
   "metadata": {},
   "outputs": [
    {
     "data": {
      "text/plain": [
       "<matplotlib.collections.PathCollection at 0x2321a9a0a60>"
      ]
     },
     "execution_count": 83,
     "metadata": {},
     "output_type": "execute_result"
    },
    {
     "data": {
      "image/png": "[encoded data removed]",
      "text/plain": [
       "<Figure size 432x288 with 1 Axes>"
      ]
     },
     "metadata": {
      "needs_background": "light"
     },
     "output_type": "display_data"
    }
   ],
   "source": [
    "preds = ridge_new.predict(X_test_ss)\n",
    "\n",
    "plt.scatter(preds, y_test)"
   ]
  },
  {
   "cell_type": "markdown",
   "metadata": {},
   "source": [
    "##### Lasso Regression"
   ]
  },
  {
   "cell_type": "code",
   "execution_count": 84,
   "metadata": {},
   "outputs": [
    {
     "data": {
      "text/plain": [
       "53.339999999999336"
      ]
     },
     "execution_count": 84,
     "metadata": {},
     "output_type": "execute_result"
    }
   ],
   "source": [
    "l_alphas = np.arange(50, 100, .01)\n",
    "lasso_cv = LassoCV(alphas = l_alphas, cv = 5, max_iter=10000)\n",
    "lasso_cv.fit(X_train_ss, y_train)\n",
    "lasso_cv.alpha_"
   ]
  },
  {
   "cell_type": "code",
   "execution_count": 85,
   "metadata": {},
   "outputs": [
    {
     "data": {
      "text/plain": [
       "27107.32460536363"
      ]
     },
     "execution_count": 85,
     "metadata": {},
     "output_type": "execute_result"
    }
   ],
   "source": [
    "lasso_new = Lasso(alpha=lasso_cv.alpha_)\n",
    "lasso_new.fit(X_train_ss, y_train)\n",
    "(-(cross_val_score(lasso_new, X_train_ss, y_train, cv=5, scoring='neg_mean_squared_error').mean()))**.5"
   ]
  },
  {
   "cell_type": "code",
   "execution_count": 86,
   "metadata": {},
   "outputs": [
    {
     "data": {
      "text/plain": [
       "24813.999833761678"
      ]
     },
     "execution_count": 86,
     "metadata": {},
     "output_type": "execute_result"
    }
   ],
   "source": [
    "(-(cross_val_score(lasso_new, X_test_ss, y_test, cv=5, scoring='neg_mean_squared_error').mean()))**.5"
   ]
  },
  {
   "cell_type": "code",
   "execution_count": 87,
   "metadata": {
    "scrolled": false
   },
   "outputs": [
    {
     "data": {
      "text/plain": [
       "<matplotlib.collections.PathCollection at 0x2321c683640>"
      ]
     },
     "execution_count": 87,
     "metadata": {},
     "output_type": "execute_result"
    },
    {
     "data": {
      "image/png": "[encoded data removed]",
      "text/plain": [
       "<Figure size 432x288 with 1 Axes>"
      ]
     },
     "metadata": {
      "needs_background": "light"
     },
     "output_type": "display_data"
    }
   ],
   "source": [
    "preds = lasso_new.predict(X_test_ss)\n",
    "\n",
    "plt.scatter(preds, y_test)"
   ]
  },
  {
   "cell_type": "markdown",
   "metadata": {},
   "source": [
    "Results are still not as good as the all variables model.\n",
    "\n",
    "With this, we will select our all variables model for submission."
   ]
  },
  {
   "cell_type": "markdown",
   "metadata": {},
   "source": [
    "#### Test set vs whole train set for submission"
   ]
  },
  {
   "cell_type": "code",
   "execution_count": 88,
   "metadata": {},
   "outputs": [],
   "source": [
    "X_test_true = test[[column for column in test.columns if column != 'id']].copy()"
   ]
  },
  {
   "cell_type": "code",
   "execution_count": 89,
   "metadata": {},
   "outputs": [],
   "source": [
    "# X_test_true.drop(agg_columns, axis = 1, inplace=True)"
   ]
  },
  {
   "cell_type": "code",
   "execution_count": 90,
   "metadata": {},
   "outputs": [
    {
     "data": {
      "text/plain": [
       "(2044, 73)"
      ]
     },
     "execution_count": 90,
     "metadata": {},
     "output_type": "execute_result"
    }
   ],
   "source": [
    "train_no_agg.shape"
   ]
  },
  {
   "cell_type": "code",
   "execution_count": 91,
   "metadata": {},
   "outputs": [
    {
     "data": {
      "text/plain": [
       "(879, 74)"
      ]
     },
     "execution_count": 91,
     "metadata": {},
     "output_type": "execute_result"
    }
   ],
   "source": [
    "X_test_true.shape"
   ]
  },
  {
   "cell_type": "code",
   "execution_count": 92,
   "metadata": {},
   "outputs": [],
   "source": [
    "X = train[[column for column in train.columns if column != 'saleprice']]\n",
    "y = train['saleprice']"
   ]
  },
  {
   "cell_type": "code",
   "execution_count": 93,
   "metadata": {},
   "outputs": [
    {
     "data": {
      "text/plain": [
       "set()"
      ]
     },
     "execution_count": 93,
     "metadata": {},
     "output_type": "execute_result"
    }
   ],
   "source": [
    "set(X.columns).symmetric_difference(set(X_test_true.columns))"
   ]
  },
  {
   "cell_type": "code",
   "execution_count": 94,
   "metadata": {},
   "outputs": [],
   "source": [
    "X_train = X\n",
    "y_train = y\n",
    "\n",
    "ss2 = StandardScaler()\n",
    "X_train_ss = ss2.fit_transform(X_train)\n",
    "X_true_ss = ss2.transform(X_test_true)\n",
    "\n",
    "X_train_ss = pd.DataFrame(X_train_ss)\n",
    "X_true_ss = pd.DataFrame(X_true_ss)"
   ]
  },
  {
   "cell_type": "markdown",
   "metadata": {},
   "source": [
    "##### Linear Regression"
   ]
  },
  {
   "cell_type": "code",
   "execution_count": 95,
   "metadata": {},
   "outputs": [],
   "source": [
    "lr_final = LinearRegression()"
   ]
  },
  {
   "cell_type": "code",
   "execution_count": 96,
   "metadata": {},
   "outputs": [
    {
     "data": {
      "text/plain": [
       "LinearRegression()"
      ]
     },
     "execution_count": 96,
     "metadata": {},
     "output_type": "execute_result"
    }
   ],
   "source": [
    "lr_final.fit(X_train_ss, y_train)"
   ]
  },
  {
   "cell_type": "code",
   "execution_count": 97,
   "metadata": {},
   "outputs": [
    {
     "data": {
      "text/plain": [
       "25487.64709475032"
      ]
     },
     "execution_count": 97,
     "metadata": {},
     "output_type": "execute_result"
    }
   ],
   "source": [
    "(-cross_val_score(lr_final, X_train_ss, y_train, cv=5, scoring='neg_mean_squared_error').mean())**.5"
   ]
  },
  {
   "cell_type": "markdown",
   "metadata": {},
   "source": [
    "##### Ridge Regression"
   ]
  },
  {
   "cell_type": "code",
   "execution_count": 98,
   "metadata": {},
   "outputs": [
    {
     "data": {
      "text/plain": [
       "15.167168884709232"
      ]
     },
     "execution_count": 98,
     "metadata": {},
     "output_type": "execute_result"
    }
   ],
   "source": [
    "r_alphas = np.logspace(0, 5, 200) # Remember to T&E alpha on a log scale\n",
    "ridge_cv_final = RidgeCV(alphas=r_alphas, store_cv_values=True)\n",
    "ridge_cv_final.fit(X_train_ss, y_train)\n",
    "ridge_cv.alpha_"
   ]
  },
  {
   "cell_type": "code",
   "execution_count": 99,
   "metadata": {},
   "outputs": [
    {
     "data": {
      "text/plain": [
       "25421.487925471753"
      ]
     },
     "execution_count": 99,
     "metadata": {},
     "output_type": "execute_result"
    }
   ],
   "source": [
    "(-(cross_val_score(ridge_cv_final, X_train_ss, y_train, cv=5, scoring='neg_mean_squared_error').mean()))**.5"
   ]
  },
  {
   "cell_type": "code",
   "execution_count": 100,
   "metadata": {},
   "outputs": [
    {
     "data": {
      "text/plain": [
       "Ridge(alpha=15.167168884709232)"
      ]
     },
     "execution_count": 100,
     "metadata": {},
     "output_type": "execute_result"
    }
   ],
   "source": [
    "ridge_final = Ridge(alpha=ridge_cv.alpha_, )\n",
    "ridge_final.fit(X_train_ss, y_train)"
   ]
  },
  {
   "cell_type": "code",
   "execution_count": 101,
   "metadata": {},
   "outputs": [
    {
     "data": {
      "text/plain": [
       "25438.806680344474"
      ]
     },
     "execution_count": 101,
     "metadata": {},
     "output_type": "execute_result"
    }
   ],
   "source": [
    "(-(cross_val_score(ridge_final, X_train_ss, y_train, cv=5, scoring='neg_mean_squared_error').mean()))**.5"
   ]
  },
  {
   "cell_type": "markdown",
   "metadata": {},
   "source": [
    "##### Lasso Regression"
   ]
  },
  {
   "cell_type": "code",
   "execution_count": 102,
   "metadata": {},
   "outputs": [
    {
     "data": {
      "text/plain": [
       "183.9899999999691"
      ]
     },
     "execution_count": 102,
     "metadata": {},
     "output_type": "execute_result"
    }
   ],
   "source": [
    "l_alphas = np.arange(150, 200, .01)\n",
    "\n",
    "lasso_cv_final = LassoCV(alphas = l_alphas, cv = 5, max_iter=10000)\n",
    "lasso_cv_final.fit(X_train_ss, y_train)\n",
    "lasso_cv_final.alpha_"
   ]
  },
  {
   "cell_type": "code",
   "execution_count": 103,
   "metadata": {},
   "outputs": [
    {
     "data": {
      "text/plain": [
       "25440.133913228823"
      ]
     },
     "execution_count": 103,
     "metadata": {},
     "output_type": "execute_result"
    }
   ],
   "source": [
    "(-(cross_val_score(lasso_cv_final, X_train_ss, y_train, cv=5, scoring='neg_mean_squared_error').mean()))**.5"
   ]
  },
  {
   "cell_type": "code",
   "execution_count": 104,
   "metadata": {},
   "outputs": [
    {
     "data": {
      "text/plain": [
       "Lasso(alpha=183.9899999999691)"
      ]
     },
     "execution_count": 104,
     "metadata": {},
     "output_type": "execute_result"
    }
   ],
   "source": [
    "lasso_final = Lasso(alpha=lasso_cv_final.alpha_)\n",
    "lasso_final.fit(X_train_ss, y_train)"
   ]
  },
  {
   "cell_type": "code",
   "execution_count": 105,
   "metadata": {
    "scrolled": true
   },
   "outputs": [
    {
     "data": {
      "text/plain": [
       "25442.393876028007"
      ]
     },
     "execution_count": 105,
     "metadata": {},
     "output_type": "execute_result"
    }
   ],
   "source": [
    "(-(cross_val_score(lasso_final, X_train_ss, y_train, cv=5, scoring='neg_mean_squared_error').mean()))**.5"
   ]
  },
  {
   "cell_type": "markdown",
   "metadata": {},
   "source": [
    "Our Ridge Regression model is performing the best here. We will use it for our final model."
   ]
  },
  {
   "cell_type": "code",
   "execution_count": 106,
   "metadata": {},
   "outputs": [],
   "source": [
    "y_preds = ridge_final.predict(X_true_ss)"
   ]
  },
  {
   "cell_type": "code",
   "execution_count": 107,
   "metadata": {},
   "outputs": [
    {
     "data": {
      "text/plain": [
       "array([146536.40937925, 165947.10851286, 218056.15947845, 114425.29126204,\n",
       "       174471.04519287,  75914.93791184, 109472.58904625, 149171.21139202,\n",
       "       178826.85479679, 170377.9978908 , 139348.49684116, 124987.4548564 ,\n",
       "       152952.43501777, 262112.24491655, 157438.59469171, 117394.2212932 ,\n",
       "       141677.36768882, 121488.81287726, 192242.59340899, 194422.28988192,\n",
       "       146413.38722868, 129201.32051189, 171602.69957686, 177960.35745828,\n",
       "       188709.94753318, 113433.22847489, 126110.06378565, 131916.77979415,\n",
       "       158139.01756913,  35362.42363675,  89832.38802619,  94282.21859702,\n",
       "       247679.25604317, 168289.95895675, 207492.77109417, 177978.85554826,\n",
       "       110075.63913874,  75388.68300622, 147726.87610083, 214098.16206365,\n",
       "       164538.16812202, 208690.32235735, 153670.3922275 , 179403.92423497,\n",
       "       203199.99435303,  87618.43830882, 219936.45667335, 114015.14156277,\n",
       "       112462.33624877, 122615.76445047, 108636.76941052, 213751.95642207,\n",
       "       240377.6757568 , 127399.74496836, 110849.75829381, 154698.14396417,\n",
       "       170618.25749628, 148136.83285267, 158057.11522642, 231672.68973024,\n",
       "       332390.2707615 , 143650.14681222, 149336.11769954, 170648.69246443,\n",
       "       176816.32262433, 320479.57108234,  91838.11319637, 224991.23807678,\n",
       "        75332.09607089, 146619.79854876,  83157.0053911 , 374842.64776508,\n",
       "       218209.66889957, 168694.08395213, 124544.55590067, 198466.04763114,\n",
       "       570766.1642435 , 164035.04084095, 156508.75786641,  97226.65120015,\n",
       "       386432.40115521, 194130.5825502 , 116048.47569467, 117067.15195929,\n",
       "       108580.52956763, 217623.91366819, 329582.69974721, 119029.23704155,\n",
       "       183451.02718723, 246673.18866038, 138221.54281868, 135044.23454295,\n",
       "       106467.4954535 , 111292.1914148 , 237592.05130619, 126618.12325161,\n",
       "       126696.22539673, 179518.33798837, 227589.90638848, 189291.63053511,\n",
       "       218824.56393794, 321911.85703562, 174258.05420362, 118443.24063606,\n",
       "       474193.04988221, 159278.94580416, 100351.30768141, 166431.14980455,\n",
       "       200562.74446985, 177643.26846218, 134855.43042197, 187914.95249978,\n",
       "       236158.82196679, 124778.680238  , 144081.08182225, 256263.44418252,\n",
       "       485109.50843788, 133335.4590177 ,  92424.88108087, 320598.61444969,\n",
       "       180049.60446272, 390300.50722638, 320296.26460802, 327394.77319896,\n",
       "       170355.92122407, 140762.51657469, 373034.62928561, 117132.52834697,\n",
       "       131776.19994073, 114609.11527897, 266528.87516195, 126873.78608556,\n",
       "       204056.51605381, 142837.64675973, 170061.89613658, 155275.266329  ,\n",
       "       238405.84708818, 208616.8635057 , 186886.30529988, 221614.6252842 ,\n",
       "       123130.09301827, 189632.58389507, 142664.50272165, 134884.10643542,\n",
       "       177182.40897843, 106120.8138169 , 142678.76072398, 144261.2061517 ,\n",
       "       138983.1160009 ,  86506.44271205, 241555.96454935, 198520.8524132 ,\n",
       "       159560.81081048, 107952.09628062, 117081.31783062, 115290.67967563,\n",
       "       122078.04027649,  71908.22180582, 143124.15136327, 234397.07371091,\n",
       "       247998.89114523, 221730.73359593, 124889.95412785, 122727.82299299,\n",
       "       476507.66012166, 271968.77099876, 247966.77129692, 177898.90691299,\n",
       "       160301.43683235, 269421.45135924, 198686.12129764, 494471.50769234,\n",
       "       136715.42190448, 186528.74439331, 157302.45310317, 212518.14546071,\n",
       "       176054.44419428,  82581.94865391, 162866.10040192,  77885.13974045,\n",
       "       148352.39955361, 143855.29083941, 197038.85911417, 264610.4268101 ,\n",
       "       185630.66617938, 146682.52422268, 121304.41124901, 203670.4299352 ,\n",
       "       197418.82235284, 121566.46817021,  66628.19992231, 169531.86023286,\n",
       "       129126.15228162, 123830.29888657, 103623.84858161, 182359.64999065,\n",
       "       142410.87277293, 288138.06064478, 163773.87446547, 138065.40853222,\n",
       "       107132.68848312, 307738.35298123, 169678.76790056, 124926.31465811,\n",
       "       181397.15676697, 119774.63190168,  98917.21004626, 123031.14850595,\n",
       "       155720.94481062, 222459.74583791, 237221.02303484, 189449.43990794,\n",
       "       195010.78120325, 110944.3256862 , 310191.5583335 , 252787.2193463 ,\n",
       "       195852.47301211, 242409.94837334, 131731.91671569, 104332.14406761,\n",
       "       146972.38999892, 186511.72613221, 147372.19441174, 171755.66484426,\n",
       "       199254.71340258, 126929.17362901,  98735.75425143, 254922.44099512,\n",
       "       234381.32639487, 174374.98787321, 293656.89969159, 188510.32662213,\n",
       "        76931.70178049, 136851.1459282 ,  94446.29896532, 288283.66641417,\n",
       "       174695.60648525,  85879.32668297, 429962.21071141, 348568.19882512,\n",
       "       176573.52462536, 240911.09565147, 151938.08447252, 316896.51063312,\n",
       "       245540.36237181, 322334.04161296, 250479.93732203, 124208.11460816,\n",
       "       112254.40522563, 167064.8164418 , 298018.94490957, 294952.10797106,\n",
       "       165055.03327395, 236209.57877312, 241640.36084413, 190362.91251313,\n",
       "       107125.24715558,  83897.27663497, 438473.6433231 , 218136.48203907,\n",
       "       249929.19314353, 185326.22172146, 147649.23929985, 103770.26518471,\n",
       "       158439.50628202, 229793.73631602, 152750.97635014, 145941.41219328,\n",
       "       200850.45130764, 169258.75885545, 136052.71215808, 211139.18994816,\n",
       "       200546.21520694, 153568.83758371, 331991.02933209, 109778.18889676,\n",
       "       147937.98068748, 138684.48967968, 212525.76768877,  98908.54760576,\n",
       "       118934.45598894, 224522.46814524, 120406.46466845, 126885.75663142,\n",
       "        86659.8396706 , 128017.38112261, 266071.7887465 , 211951.82893871,\n",
       "        97521.2012752 ,  74646.32667325, 132728.1125408 ,  89635.08364057,\n",
       "       124170.9796907 ,  75574.56496195, 101219.58480157, 187676.54781384,\n",
       "       141406.3640067 , 212540.20325558, 266638.52154608, 258862.08220683,\n",
       "       156185.18377403, 182277.65443682, 317019.26732504, 122821.29535315,\n",
       "       124741.62712839,  74038.22522194, 105963.39181401, 240980.65210482,\n",
       "       193191.21210324, 147415.07201121, 127414.2641903 , 227184.75100519,\n",
       "       250441.67105508, 251408.60149454, 266487.51297462, 151420.79962953,\n",
       "       389943.44806629, 391254.84412993, 285696.15803821, 232911.58499769,\n",
       "       130620.48480187,  82596.94909631, 109666.85048224, 147512.93730787,\n",
       "       267711.82493037, 138580.35649482, 122847.15056438, 158708.52088889,\n",
       "       162208.05876037, 210762.10922362, 137517.40287561, 175737.19073595,\n",
       "       186023.57660693, 168058.81218316, 203229.86252184,  83894.85505594,\n",
       "       179575.72058738,  98604.20793034, 117456.44393112, 141063.63434575,\n",
       "       175020.21635224, 231813.84282739, 100542.27507202, 117510.71026993,\n",
       "       175772.12314152, 295276.20773009, 245461.64650947, 174244.97814516,\n",
       "        97120.08704951, 226196.31338812, 157639.10571901, 157962.50785602,\n",
       "       163681.96819536, 100840.15249978, 295799.76312502, 141862.58441925,\n",
       "       248410.96948181, 156343.21454628, 214041.9997099 , 265164.36711822,\n",
       "       108425.49663746, 132071.28723599, 156111.08385152,  93479.36490594,\n",
       "       144407.06042561, 207143.17146131, 286023.13077835, 238437.95435167,\n",
       "       236888.79441474, 216781.85956446, 103641.12171299, 213934.00947981,\n",
       "       102324.61211759, 149850.70890364, 389072.07079574, 119519.82228968,\n",
       "       269008.85818915, 186805.35005885, 279513.54983404, 224094.58322859,\n",
       "       113617.21538083, 157605.43974043, 141020.98551324, 356846.43248313,\n",
       "       321647.89241822, 220934.00365708, 189270.49022083, 167729.22186312,\n",
       "       210938.70710795, 138558.73415184, 131187.038017  ,  87823.31942653,\n",
       "       308437.16070361, 136080.94552439, 141866.50063848, 176502.12897785,\n",
       "        60381.41041678, 180512.20765686, 187114.35014308, 128464.52132191,\n",
       "        86913.41715197, 220300.81322558, 244181.24631518, 127703.59665645,\n",
       "       293547.69308077, 144720.59183236, 117448.70560575, 148899.28532088,\n",
       "       219553.97065234, 303367.56674748, 122542.77467478, 131270.75033824,\n",
       "       145432.8033226 , 246477.52269394, 136038.59610999, 262986.86530289,\n",
       "       347035.87200253, 113113.35681026, 267476.08752338, 109322.54745512,\n",
       "       171514.89949367, 264836.19150101, 118857.51201528, 225154.52460086,\n",
       "       121690.64681149, 213707.14658507, 388240.41828383, 204823.9213449 ,\n",
       "       208350.48573772, 133780.21315959, 287603.71762746, 104329.96851051,\n",
       "       128501.39339376, 115695.34895513, 206618.1863042 ,  99561.32434367,\n",
       "       318727.44987091, 207008.76133911, 155241.77146443, 147238.54026534,\n",
       "       163766.84105143, 204300.46947047, 141525.29269309, 108466.53524855,\n",
       "       192267.99630213, 147328.15126003, 232815.14793472,  57266.95676073,\n",
       "        91575.11583804, 304957.21677737, 140920.31608304, 230313.23091139,\n",
       "       293941.70166669, 229954.15575614, 161296.17753375, 202422.6444536 ,\n",
       "       238180.38951968, 225044.36844894, 111007.2046506 , 238401.82849001,\n",
       "       117794.35891461, 137654.81719006, 124273.26705182, 146041.53989564,\n",
       "       526238.0688395 , 114864.94806265, 229967.05147321, 262343.7412305 ,\n",
       "       227790.43961693,  91509.04582684, 123006.67112164, 128743.83450302,\n",
       "       223673.28062945, 174541.80180001,  99332.71973678, 233586.10656944,\n",
       "       239881.35659254, 110731.34615202, 148253.2523909 ,  85522.86898453,\n",
       "       184495.74712794,  84101.16105605, 218820.93694973, 112423.78618471,\n",
       "       187910.68452992, 293995.38554581, 148475.56990921, 147638.06831279,\n",
       "       196622.25660497, 191838.4715327 , 142369.94572316, 158091.56813448,\n",
       "       204954.31629173, 172832.80128507, 228104.75023025, 370461.00289771,\n",
       "       174437.36547637, 118218.62079669, 119486.71098804, 187025.30079397,\n",
       "       112747.47353431, 182592.59682191, 231739.24634895, 209704.80395312,\n",
       "       142387.36671462, 255006.52954269, 117068.0075256 , 283887.43815172,\n",
       "       103426.73516709, 112033.11611688, 259259.46959291, 113733.68946772,\n",
       "       115744.25621339, 129438.71607028, 138662.89297341,  28404.6569176 ,\n",
       "       193464.23451467, 164301.93660716, 212345.02689099, 265660.71506626,\n",
       "       283589.96740059, 116179.54279708, 128982.57805845, 147578.34133223,\n",
       "       120821.48140009, 222279.71022334, 423270.53301965, 191257.16012033,\n",
       "       112013.88054838, 124783.03970969,  32039.71636726,  98266.31514024,\n",
       "       197431.77543457, 140993.91294359, 180535.9724272 , 180896.39083951,\n",
       "       137543.9249526 ,  67066.58298482, 236115.07661387, 143146.88833376,\n",
       "       161673.0234998 , 145702.60291306,  91643.60677575,  79904.82044138,\n",
       "       125901.90910287, 228357.1412485 , 342032.64777859, 249175.83508647,\n",
       "       115277.19217365,  80394.25991786, 306217.58469399, 126339.08505817,\n",
       "       302537.7692049 ,  83191.15901355, 207195.99101062, 230447.45563632,\n",
       "        69339.77467047,  88879.75197724, 134777.8158236 ,  98447.38191425,\n",
       "       175736.6417277 , 112366.90103623, 166148.94683882, 172352.15204956,\n",
       "       135782.88802966, 119647.86163036, 129817.64952206, 141418.03731558,\n",
       "       201453.77806558, 108098.05389891, 145157.72981832, 159848.75310605,\n",
       "       120236.32502262,  93412.37943751, 142222.55726291, 183890.5880076 ,\n",
       "       114518.9095972 , 175859.17189277, 137417.3775016 , 203920.85571999,\n",
       "       110512.4641947 , 127604.06083874, 150908.57528888, 265389.52924108,\n",
       "       109759.49576388, 139211.59025881, 165191.16515138, 157443.95812992,\n",
       "       115980.99265955, 304573.98069669, 236484.87163365, 123835.59932044,\n",
       "       105493.96230594, 123889.14014768, 141821.14496777, 344097.27933496,\n",
       "       214927.4677152 , 130117.85126014, 127270.69369492,  97246.39264888,\n",
       "       374535.73385255, 130409.06026173, 208828.11887361, 125190.57721565,\n",
       "       181238.10668031, 221804.40324619,  90749.3356262 , 116539.8466284 ,\n",
       "       114227.20246503, 171291.02174651, 140326.67502973, 118380.78900977,\n",
       "       337927.11481762, 225986.048243  , 128421.4582212 , 128767.80498234,\n",
       "        34854.38492223, 200385.08331351, 277031.09863932,  56166.20573668,\n",
       "       163026.82266512, 206625.95079834, 107660.23620286, 147323.66308408,\n",
       "       116975.95113052, 131197.2021713 , 150951.72704961, 180884.23153468,\n",
       "       122555.70107295, 368683.74094587, 153707.98653816, 204592.5164979 ,\n",
       "       203590.59921454, 127062.93426079,  75973.03460792, 148172.96927369,\n",
       "       207062.93453624, 151703.8563827 , 146612.64486985, 135812.40789695,\n",
       "       142779.16369335, 304463.40888587, 126790.80782211, 242043.72668737,\n",
       "       240494.2549373 , 145285.09340615,  57981.54204835, 237303.55451299,\n",
       "       182913.63209924, 134098.99487562, 186837.00908411, 142376.53397871,\n",
       "       118615.41862564, 101987.89731362, 144481.77443292,  59043.70895444,\n",
       "       138288.78600997, 211576.16134074, 156090.43556119, 288218.56118342,\n",
       "       182472.20642986, 144069.20996095, 171896.19386739, 175267.54481518,\n",
       "       222023.63634823, 405779.1628882 , 219398.83585146, 219859.35636638,\n",
       "       185424.5330431 , 178034.09781034, 294582.55272783, 219768.17629882,\n",
       "       261121.91665871, 249599.54472641, 135694.16634846, 121794.41990399,\n",
       "       122562.95455732, 145595.40978963,  81331.07611667, 166384.72095158,\n",
       "       114689.43344144, 355244.67037118, 188665.23613612, 171740.40565846,\n",
       "       236915.02168297, 202404.25703299, 158883.92222436, 205602.41797526,\n",
       "       417864.38380865, 149711.04604517, 169910.93336696,  66493.73776748,\n",
       "       123034.5566079 , 317113.69992483, 118324.46214692, 207313.48430486,\n",
       "       165403.88480518, 210076.76899688, 349351.94747843, 114175.37643437,\n",
       "       253710.68576857, 142976.10677788, 162248.16281829, 145984.76023372,\n",
       "       110561.4230388 , 321810.79721178, 280844.39053702, 158768.99204954,\n",
       "       131889.62977875,  95358.40986893, 320158.27127455, 234673.85293478,\n",
       "        85446.27752878, 136222.06976496, 133403.66780814, 131132.75132376,\n",
       "       217271.5210698 , 315417.58434009, 215832.24417298, 201717.12816899,\n",
       "       229665.89892158, 219500.32589704, 273355.9628849 , 123798.68631247,\n",
       "       101231.38954878, 305500.18509517, 197947.66516399, 188783.12437541,\n",
       "       125671.35334513, 282013.52446196,  73424.5587104 , 251444.74437088,\n",
       "       179253.05921003, 252851.4304142 , 148360.27446096, 200643.24117658,\n",
       "       174493.85368687, 147528.73099424, 149999.09654211, 145913.48389231,\n",
       "       138245.01186041, 226076.3203806 , 167702.18403727, 169293.72043159,\n",
       "       106720.25765156, 177095.27414525, 187607.82955142, 183324.62927356,\n",
       "       217097.95643537, 117024.79119449, 317486.35931429, 257622.54869508,\n",
       "       151019.10567265, 124280.97079485, 175393.28373491, 147218.25271039,\n",
       "       117357.80927888, 441517.63349614,  65641.43616072, 151650.30071993,\n",
       "       221471.31496236, 142105.00190077, 221562.80398949, 135186.39473407,\n",
       "       258205.22910618, 164122.00416862, 303409.75625031, 162803.96885495,\n",
       "       204753.20624518, 312344.23798598, 144042.19814571, 267963.56903558,\n",
       "       171968.84465799, 132575.78686693, 225437.324345  , 126010.97226674,\n",
       "       141666.61213183, 217470.23082172, 147003.17698602, 115108.04487092,\n",
       "       200595.73333858, 179019.30086675, 397390.50431507,  88869.67437743,\n",
       "       119943.75034518, 108245.51843745, 173416.49785749, 250808.72539233,\n",
       "       110014.76395742, 272078.76610914, 163598.05554937, 180854.89661663,\n",
       "       240184.55252142, 186816.54735904, 294561.05639306, 179342.17246126,\n",
       "       207602.21278145, 158177.6510764 , 246791.21838326, 246386.35467436,\n",
       "       225004.20084978, 138151.65777532, 107063.8954077 , 153699.32417132,\n",
       "       101863.04603277, 237274.14309931, 111856.86121549, 121099.34883115,\n",
       "       188079.66830189, 133404.89081037, 112337.52981172, 136469.30331387,\n",
       "       322897.95906155, 178983.95894959, 176150.66345663, 230337.03425106,\n",
       "       211331.48538176, 252609.72407835,  73424.98924088, 101423.58634298,\n",
       "       138508.83856027, 192826.92083204, 102309.2047959 , 359803.69435927,\n",
       "       121598.4312075 , 168243.67011107, 226254.09097776, 361029.98056388,\n",
       "       145408.01670361, 194776.69787169, 149924.80669782, 152462.36985985,\n",
       "       157239.78227851, 289794.62196149, 222204.31589797, 158742.17734668,\n",
       "       117423.50487552, 349186.57787845, 152699.64254537, 131763.85550391,\n",
       "       128207.50707232, 202101.71193702, 200548.53206607, 251460.48153625,\n",
       "       130998.55296289, 166602.46882298, 164528.97167697, 263647.25423047,\n",
       "       234524.53761256,  99510.04872074, 151023.82211455, 155470.37882319,\n",
       "       152887.25101207, 129702.83371778, 148519.09593553, 162373.56302819,\n",
       "        82907.4751134 , 246034.86590023,  95510.23111782, 192760.53799154,\n",
       "       114325.18716102, 363841.13299838, 124749.15963008, 121593.85826874,\n",
       "       157795.5409367 , 168654.6081643 , 193064.59021632, 182257.11377696,\n",
       "       262486.58134196, 176969.27082917, 222570.91274275, 260148.82607932,\n",
       "       352481.71718462, 210867.9921137 , 178795.66849338, 227350.15303405,\n",
       "       131229.84476443, 107994.9721637 , 124851.93337034])"
      ]
     },
     "execution_count": 107,
     "metadata": {},
     "output_type": "execute_result"
    }
   ],
   "source": [
    "y_preds"
   ]
  },
  {
   "cell_type": "code",
   "execution_count": 108,
   "metadata": {},
   "outputs": [],
   "source": [
    "test['saleprice'] = y_preds"
   ]
  },
  {
   "cell_type": "code",
   "execution_count": 109,
   "metadata": {},
   "outputs": [],
   "source": [
    "submit = test[[column for column in test.columns if column in ['id', 'saleprice']]]"
   ]
  },
  {
   "cell_type": "code",
   "execution_count": 110,
   "metadata": {},
   "outputs": [],
   "source": [
    "submit.columns = ['Id', 'SalePrice']"
   ]
  },
  {
   "cell_type": "code",
   "execution_count": 111,
   "metadata": {},
   "outputs": [],
   "source": [
    "submit.to_csv('../datasets/kaggle_submit.csv', index=False)"
   ]
  },
  {
   "cell_type": "markdown",
   "metadata": {},
   "source": [
    "## Conclusion\n",
    "\n",
    "Our model, submitted to Kaggle where the reference test set sale prices are held, came back with a RMSE result of \\\\$30,000, which is in line with expectations. Given the test set's mean of \\\\$181,000, this represents a +-17% of variability in price. While the model may not be used definitively to determine price, it may be used as an estimator to find good prospects for investments based on property features alone.\n",
    "\n",
    "We note that the RMSE results from the test set are about 10-13% higher than that on our training sets. Our validation sets show a similar pattern. This may indicate some overfitting in our model on our training set, and that some of the variables previously eliminated may have a bearing on  house prices, or that there are interactions between the variables used in our model which we did not discover.\n",
    "\n",
    "We have found that house prices are best prediced by its indoor area and features (number of rooms, fireplaces, etc.), age of the property, and quality metrics available in the dataset. These are all expected.\n",
    "\n",
    "Surprisingly, adjacent features (its surrounding area and amenities) and open areas (porches) do not and overall lot area do not correlate to the sale price as much. Further, very large houses tend to be predicted by another pricing algorithm.\n",
    "\n",
    "### Recommendations and Further Work\n",
    "\n",
    "Having no information on the time the sales prices were taken is a disadvantage given that house prices fluctuate with state of the economy (time-dependant). Similarly, there was no information on the mode of sale -- whether the property was foreclosed or purchased as part of a bank auction, in which prices may be drastically lower than in otherwise regular purchases.\n",
    "\n",
    "A lack of addresses prevented more research on the exact locations and their effect on price -- making the 'neighborhood' category, which ought to be a highly predictive one, not as useful. If demographic information on property prices on a street-wise level in Ames may be obtained, our model could have been much more accurate.\n",
    "\n",
    "In further work, we will use OLS estimation to help with deciding factors to keep and to eliminate from our eventual models. We will also use neighbourhood data available elsewhere to assign 'neighborhood' as an ordinal measure of desirability instead of a dummy variable."
   ]
  },
  {
   "cell_type": "code",
   "execution_count": null,
   "metadata": {},
   "outputs": [],
   "source": []
  }
 ],
 "metadata": {
  "kernelspec": {
   "display_name": "Python 3",
   "language": "python",
   "name": "python3"
  },
  "language_info": {
   "codemirror_mode": {
    "name": "ipython",
    "version": 3
   },
   "file_extension": ".py",
   "mimetype": "text/x-python",
   "name": "python",
   "nbconvert_exporter": "python",
   "pygments_lexer": "ipython3",
   "version": "3.8.5"
  },
  "toc": {
   "base_numbering": "5",
   "nav_menu": {},
   "number_sections": true,
   "sideBar": true,
   "skip_h1_title": true,
   "title_cell": "Table of Contents",
   "title_sidebar": "Contents",
   "toc_cell": true,
   "toc_position": {
    "height": "calc(100% - 180px)",
    "left": "10px",
    "top": "150px",
    "width": "242px"
   },
   "toc_section_display": true,
   "toc_window_display": true
  }
 },
 "nbformat": 4,
 "nbformat_minor": 4
}
