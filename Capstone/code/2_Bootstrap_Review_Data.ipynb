{
 "cells": [
  {
   "cell_type": "markdown",
   "metadata": {
    "toc": true
   },
   "source": [
    "<h1>Table of Contents<span class=\"tocSkip\"></span></h1>\n",
    "<div class=\"toc\"><ul class=\"toc-item\"><li><span><a href=\"#Pre-processing-of-Data-and-EDA\" data-toc-modified-id=\"Pre-processing-of-Data-and-EDA-1\"><span class=\"toc-item-num\">1&nbsp;&nbsp;</span>Pre-processing of Data and EDA</a></span></li></ul></div>"
   ]
  },
  {
   "cell_type": "markdown",
   "metadata": {},
   "source": [
    "## Pre-processing of Data and EDA\n",
    "\n",
    "In this section, we will sectionate our review data into sentences with the intent of identifying one aspect per sentence. For this purpose, we will use SpaCy's sentencizer pipeline to fulfil that purpose."
   ]
  },
  {
   "cell_type": "code",
   "execution_count": 1,
   "metadata": {},
   "outputs": [],
   "source": [
    "import spacy\n",
    "#import libraries\n",
    "import pandas as pd\n",
    "nlp = spacy.load(\"en_core_web_sm\")\n",
    "from spacy.language import Language\n",
    "\n",
    "import gensim\n",
    "from nltk.classify import NaiveBayesClassifier\n",
    "from nltk.corpus import subjectivity\n",
    "from nltk.sentiment import SentimentIntensityAnalyzer\n",
    "from nltk.sentiment.util import *"
   ]
  },
  {
   "cell_type": "code",
   "execution_count": 2,
   "metadata": {},
   "outputs": [],
   "source": [
    "df1 = pd.read_csv('../datasets/raw/tripadvisor_fullerton_210403_1449')"
   ]
  },
  {
   "cell_type": "code",
   "execution_count": 20,
   "metadata": {},
   "outputs": [],
   "source": [
    "df = df1.rename(columns={'Unnamed: 0': 'rev_id'})"
   ]
  },
  {
   "cell_type": "code",
   "execution_count": 22,
   "metadata": {
    "scrolled": true
   },
   "outputs": [
    {
     "data": {
      "text/plain": [
       "0"
      ]
     },
     "execution_count": 22,
     "metadata": {},
     "output_type": "execute_result"
    }
   ],
   "source": [
    "df.duplicated().sum()"
   ]
  },
  {
   "cell_type": "code",
   "execution_count": 23,
   "metadata": {},
   "outputs": [],
   "source": [
    "df.drop_duplicates(inplace=True)"
   ]
  },
  {
   "cell_type": "code",
   "execution_count": 24,
   "metadata": {
    "scrolled": true
   },
   "outputs": [
    {
     "data": {
      "text/html": [
       "<div>\n",
       "<style scoped>\n",
       "    .dataframe tbody tr th:only-of-type {\n",
       "        vertical-align: middle;\n",
       "    }\n",
       "\n",
       "    .dataframe tbody tr th {\n",
       "        vertical-align: top;\n",
       "    }\n",
       "\n",
       "    .dataframe thead th {\n",
       "        text-align: right;\n",
       "    }\n",
       "</style>\n",
       "<table border=\"1\" class=\"dataframe\">\n",
       "  <thead>\n",
       "    <tr style=\"text-align: right;\">\n",
       "      <th></th>\n",
       "      <th>rev_id</th>\n",
       "      <th>property</th>\n",
       "      <th>rev_source</th>\n",
       "      <th>rev_date</th>\n",
       "      <th>rev_location</th>\n",
       "      <th>rev_title</th>\n",
       "      <th>rev_content</th>\n",
       "      <th>rev_score</th>\n",
       "      <th>rev_visit_date</th>\n",
       "    </tr>\n",
       "  </thead>\n",
       "  <tbody>\n",
       "    <tr>\n",
       "      <th>0</th>\n",
       "      <td>689620611</td>\n",
       "      <td>fullerton</td>\n",
       "      <td>tripadvisor</td>\n",
       "      <td>2019-07-01</td>\n",
       "      <td>Australia</td>\n",
       "      <td>Relaxing Visit</td>\n",
       "      <td>Our suite overlooked the Singapore River and s...</td>\n",
       "      <td>10.0</td>\n",
       "      <td>2019-07-01</td>\n",
       "    </tr>\n",
       "    <tr>\n",
       "      <th>1</th>\n",
       "      <td>689494350</td>\n",
       "      <td>fullerton</td>\n",
       "      <td>tripadvisor</td>\n",
       "      <td>2019-07-01</td>\n",
       "      <td>NaN</td>\n",
       "      <td>Lovely view and friendly crew</td>\n",
       "      <td>Thank you Giri and Ian for this experience at ...</td>\n",
       "      <td>10.0</td>\n",
       "      <td>2019-07-01</td>\n",
       "    </tr>\n",
       "    <tr>\n",
       "      <th>2</th>\n",
       "      <td>689448855</td>\n",
       "      <td>fullerton</td>\n",
       "      <td>tripadvisor</td>\n",
       "      <td>2019-07-01</td>\n",
       "      <td>NaN</td>\n",
       "      <td>Birthday celebration</td>\n",
       "      <td>The restaurant staff (Steve, Pat, Belle,KC, JH...</td>\n",
       "      <td>10.0</td>\n",
       "      <td>2019-07-01</td>\n",
       "    </tr>\n",
       "    <tr>\n",
       "      <th>3</th>\n",
       "      <td>689447212</td>\n",
       "      <td>fullerton</td>\n",
       "      <td>tripadvisor</td>\n",
       "      <td>2019-07-01</td>\n",
       "      <td>NaN</td>\n",
       "      <td>Dinner at Jade Restaurant</td>\n",
       "      <td>The food is great! Service is great too! A spe...</td>\n",
       "      <td>10.0</td>\n",
       "      <td>2019-07-01</td>\n",
       "    </tr>\n",
       "    <tr>\n",
       "      <th>4</th>\n",
       "      <td>689447097</td>\n",
       "      <td>fullerton</td>\n",
       "      <td>tripadvisor</td>\n",
       "      <td>2019-07-01</td>\n",
       "      <td>Australia</td>\n",
       "      <td>Fall for Singapore at The Fullerton</td>\n",
       "      <td>I fell in love with Singapore at The Fullerton...</td>\n",
       "      <td>10.0</td>\n",
       "      <td>2019-07-01</td>\n",
       "    </tr>\n",
       "    <tr>\n",
       "      <th>...</th>\n",
       "      <td>...</td>\n",
       "      <td>...</td>\n",
       "      <td>...</td>\n",
       "      <td>...</td>\n",
       "      <td>...</td>\n",
       "      <td>...</td>\n",
       "      <td>...</td>\n",
       "      <td>...</td>\n",
       "      <td>...</td>\n",
       "    </tr>\n",
       "    <tr>\n",
       "      <th>495</th>\n",
       "      <td>661243953</td>\n",
       "      <td>fullerton</td>\n",
       "      <td>tripadvisor</td>\n",
       "      <td>2019-03-01</td>\n",
       "      <td>United Kingdom</td>\n",
       "      <td>Great place</td>\n",
       "      <td>Second visit here.every aspect is excellent. W...</td>\n",
       "      <td>10.0</td>\n",
       "      <td>2019-03-01</td>\n",
       "    </tr>\n",
       "    <tr>\n",
       "      <th>496</th>\n",
       "      <td>661154909</td>\n",
       "      <td>fullerton</td>\n",
       "      <td>tripadvisor</td>\n",
       "      <td>2019-03-01</td>\n",
       "      <td>United Kingdom</td>\n",
       "      <td>A wonderful experience</td>\n",
       "      <td>This is a top rate hotel. The Service is both ...</td>\n",
       "      <td>10.0</td>\n",
       "      <td>2019-03-01</td>\n",
       "    </tr>\n",
       "    <tr>\n",
       "      <th>497</th>\n",
       "      <td>661115280</td>\n",
       "      <td>fullerton</td>\n",
       "      <td>tripadvisor</td>\n",
       "      <td>2019-03-01</td>\n",
       "      <td>United Kingdom</td>\n",
       "      <td>Leading hotel in Singapore</td>\n",
       "      <td>When returning to Singapore, on business usual...</td>\n",
       "      <td>10.0</td>\n",
       "      <td>2019-03-01</td>\n",
       "    </tr>\n",
       "    <tr>\n",
       "      <th>498</th>\n",
       "      <td>660976489</td>\n",
       "      <td>fullerton</td>\n",
       "      <td>tripadvisor</td>\n",
       "      <td>2019-03-01</td>\n",
       "      <td>Florida</td>\n",
       "      <td>Spectacular Historical Property</td>\n",
       "      <td>On our last trip to Singapore we became intere...</td>\n",
       "      <td>10.0</td>\n",
       "      <td>2019-03-01</td>\n",
       "    </tr>\n",
       "    <tr>\n",
       "      <th>499</th>\n",
       "      <td>660929915</td>\n",
       "      <td>fullerton</td>\n",
       "      <td>tripadvisor</td>\n",
       "      <td>2019-03-01</td>\n",
       "      <td>Australia</td>\n",
       "      <td>New old world charm</td>\n",
       "      <td>From precheck in welcoming email,  our stay at...</td>\n",
       "      <td>10.0</td>\n",
       "      <td>2019-03-01</td>\n",
       "    </tr>\n",
       "  </tbody>\n",
       "</table>\n",
       "<p>500 rows × 9 columns</p>\n",
       "</div>"
      ],
      "text/plain": [
       "        rev_id   property   rev_source    rev_date    rev_location  \\\n",
       "0    689620611  fullerton  tripadvisor  2019-07-01       Australia   \n",
       "1    689494350  fullerton  tripadvisor  2019-07-01             NaN   \n",
       "2    689448855  fullerton  tripadvisor  2019-07-01             NaN   \n",
       "3    689447212  fullerton  tripadvisor  2019-07-01             NaN   \n",
       "4    689447097  fullerton  tripadvisor  2019-07-01       Australia   \n",
       "..         ...        ...          ...         ...             ...   \n",
       "495  661243953  fullerton  tripadvisor  2019-03-01  United Kingdom   \n",
       "496  661154909  fullerton  tripadvisor  2019-03-01  United Kingdom   \n",
       "497  661115280  fullerton  tripadvisor  2019-03-01  United Kingdom   \n",
       "498  660976489  fullerton  tripadvisor  2019-03-01         Florida   \n",
       "499  660929915  fullerton  tripadvisor  2019-03-01       Australia   \n",
       "\n",
       "                               rev_title  \\\n",
       "0                         Relaxing Visit   \n",
       "1          Lovely view and friendly crew   \n",
       "2                   Birthday celebration   \n",
       "3              Dinner at Jade Restaurant   \n",
       "4    Fall for Singapore at The Fullerton   \n",
       "..                                   ...   \n",
       "495                          Great place   \n",
       "496               A wonderful experience   \n",
       "497           Leading hotel in Singapore   \n",
       "498      Spectacular Historical Property   \n",
       "499                  New old world charm   \n",
       "\n",
       "                                           rev_content  rev_score  \\\n",
       "0    Our suite overlooked the Singapore River and s...       10.0   \n",
       "1    Thank you Giri and Ian for this experience at ...       10.0   \n",
       "2    The restaurant staff (Steve, Pat, Belle,KC, JH...       10.0   \n",
       "3    The food is great! Service is great too! A spe...       10.0   \n",
       "4    I fell in love with Singapore at The Fullerton...       10.0   \n",
       "..                                                 ...        ...   \n",
       "495  Second visit here.every aspect is excellent. W...       10.0   \n",
       "496  This is a top rate hotel. The Service is both ...       10.0   \n",
       "497  When returning to Singapore, on business usual...       10.0   \n",
       "498  On our last trip to Singapore we became intere...       10.0   \n",
       "499  From precheck in welcoming email,  our stay at...       10.0   \n",
       "\n",
       "    rev_visit_date  \n",
       "0       2019-07-01  \n",
       "1       2019-07-01  \n",
       "2       2019-07-01  \n",
       "3       2019-07-01  \n",
       "4       2019-07-01  \n",
       "..             ...  \n",
       "495     2019-03-01  \n",
       "496     2019-03-01  \n",
       "497     2019-03-01  \n",
       "498     2019-03-01  \n",
       "499     2019-03-01  \n",
       "\n",
       "[500 rows x 9 columns]"
      ]
     },
     "execution_count": 24,
     "metadata": {},
     "output_type": "execute_result"
    }
   ],
   "source": [
    "df"
   ]
  },
  {
   "cell_type": "markdown",
   "metadata": {},
   "source": [
    "We will now break our review content into sentences. The sentences will also be broken at the word 'but' due to content before and after 'but' being of contrasting opinion. We will do this by adding a modification to SpaCy's sentencizer method."
   ]
  },
  {
   "cell_type": "code",
   "execution_count": 25,
   "metadata": {},
   "outputs": [
    {
     "data": {
      "text/plain": [
       "<function __main__.set_custom_boundaries(doc)>"
      ]
     },
     "execution_count": 25,
     "metadata": {},
     "output_type": "execute_result"
    }
   ],
   "source": [
    "@Language.component(\"set_custom_boundaries\")\n",
    "def set_custom_boundaries(doc):\n",
    "    '''\n",
    "    Function adds a 'new sentence' token to sentences which have a but, allowing content after 'but' to be a new line.\n",
    "    '''\n",
    "    for token in doc[:-1]:\n",
    "        if token.text == \"but\":\n",
    "            doc[token.i+1].is_sent_start = True\n",
    "    return doc\n",
    "\n",
    "nlp.add_pipe(\"set_custom_boundaries\", before=\"parser\")"
   ]
  },
  {
   "cell_type": "markdown",
   "metadata": {},
   "source": [
    "We will also decontract contracted words in sentences to assist sentiment analysis algorithms in identifying negation as accurately as possible."
   ]
  },
  {
   "cell_type": "code",
   "execution_count": 26,
   "metadata": {},
   "outputs": [],
   "source": [
    "def decontracted(phrase):\n",
    "    '''\n",
    "    Function removes contractions from strings and replaces them with their un-contracted form to assist in sentiment analysis.\n",
    "    Returns a string.\n",
    "    '''\n",
    "    phrase = re.sub(r\"won't\", \"will not\", phrase)      # replace won't with \"will not\"\n",
    "    phrase = re.sub(r\"can\\'t\", \"can not\", phrase)      # replace can or cant with 'can not'\n",
    "    phrase = re.sub(r\"n\\'t\", \" not\", phrase)           # replece n with 'not'\n",
    "    phrase = re.sub(r\"\\'re\", \" are\", phrase)           # replace re with 'are'\n",
    "    phrase = re.sub(r\"\\'s\", \" is\", phrase)             # replace s with 'is'\n",
    "    phrase = re.sub(r\"\\'d\", \" would\", phrase)          # replace 'd' with 'would'\n",
    "    phrase = re.sub(r\"\\'ll\", \" will\", phrase)          # replace 'll with 'will'\n",
    "    phrase = re.sub(r\"\\'t\", \" not\", phrase)            # replace 't' with 'not'\n",
    "    phrase = re.sub(r\"\\'ve\", \" have\", phrase)          # replace ve with 'have'\n",
    "    phrase = re.sub(r\"\\'m\", \" am\", phrase)             # replace 'm with 'am'\n",
    "    return phrase\n"
   ]
  },
  {
   "cell_type": "markdown",
   "metadata": {},
   "source": [
    "Since our data has no labels yet, we will have to add labels manually using human effort. We will **bootstrap** data using models from our next section to continually do rough annotations, reducing manual labelling effort.\n",
    "\n",
    "**Note:** The first batch of 1000 rows of annotation took me 4 hours. Subsequent batches from 2-3 hours. Bootstraping sentiment started even in the first batch.\n",
    "\n",
    "Our next function will break review data into sentences for further processing."
   ]
  },
  {
   "cell_type": "code",
   "execution_count": 52,
   "metadata": {},
   "outputs": [],
   "source": [
    "def update_df_pp(raw_table):\n",
    "    '''\n",
    "    Function updates df_pp with preprocessed data from raw tables\n",
    "    returns modified df\n",
    "    '''\n",
    "    pp_columns = ['rev_date',\n",
    "                'rev_id', # review id from raw_table\n",
    "                  'sent_text', # sentence_text from spaCy .sents\n",
    "#                   'sent_sw', # sentence with stopwords removed by spaCy\n",
    "                  'objects', # list of found dobj and pobj and nsubj\n",
    "#                   'contains_staff_terms', # contains words from list of words commonly associated with staff, indicating its talking about service\n",
    "#                   'contains_names', # contains names, indicating that its probably talking about service\n",
    "                  'descriptive', # adjectives and adverbs -- indicating sentiment\n",
    "                  'vader_neg', # vader sentiment negative score\n",
    "                  'vader_neu', # vader sentiment neutral scores\n",
    "                  'vader_pos', # vader sentiment positive score\n",
    "                  'vader_comp', # vader compound score\n",
    "                  'category', # category -- will be manually entered for training set\n",
    "                  'sentiment', # overall sentence sentiment\n",
    "                 ]\n",
    "    df_pp = pd.DataFrame(columns = pp_columns)\n",
    "    pp_index = 0\n",
    "    \n",
    "#     Index(['rev_id', 'property', 'rev_source', 'rev_date', 'rev_location',\n",
    "#        'rev_title', 'rev_content', 'rev_score', 'rev_visit_date'],\n",
    "#       dtype='object')\n",
    "    \n",
    "    for index, row in raw_table.iterrows(): # iterate through rows in raw_table\n",
    "        rev_date = row['rev_date']\n",
    "        # insert rev_id\n",
    "        review_id = row['rev_id']\n",
    "   \n",
    "        doc = nlp(row['rev_content'])\n",
    "        #iterate through sentences\n",
    "        for sentence in doc.sents:\n",
    "            # insert review id\n",
    "            df_pp.loc[pp_index, 'rev_id'] = review_id\n",
    "            df_pp.loc[pp_index, 'rev_date'] = rev_date\n",
    "            \n",
    "            # insert sentence\n",
    "            df_pp.loc[pp_index, 'sent_text'] = sentence.text\n",
    "                        \n",
    "            sentence_mod = decontracted(sentence.text)\n",
    "            # insert sentence with stop words removed\n",
    "            \n",
    "            descriptive_terms = []\n",
    "            target = []\n",
    "            contains_names = False\n",
    "            contains_staff_terms = False\n",
    "\n",
    "            \n",
    "            for token in sentence:\n",
    "                 # get objects for reference\n",
    "                if token.dep_ == 'dobj' or token.dep_ == 'pobj' or token.dep_ == 'nsubj':\n",
    "                    target.append(token.text)\n",
    "             \n",
    "                # get descriptive terms for reference\n",
    "                if token.pos_ == 'ADJ':\n",
    "                    prepend = ''\n",
    "                    for child in token.children:\n",
    "                        if child.pos_ != 'ADV':\n",
    "                              continue\n",
    "                        prepend += child.text + ' '\n",
    "                    descriptive_terms.append(prepend + token.text)\n",
    "                        \n",
    "            df_pp.loc[pp_index, 'objects'] = \", \".join(target)\n",
    "            df_pp.loc[pp_index, 'descriptive'] = \", \".join(descriptive_terms)\n",
    "            \n",
    "            #vader sentiment analysis -- bootlegging of sentiment analysis\n",
    "            sid = SentimentIntensityAnalyzer()\n",
    "            ss = sid.polarity_scores(sentence.text)\n",
    "            df_pp.loc[pp_index, 'vader_neg'] = ss['neg']\n",
    "            df_pp.loc[pp_index, 'vader_neu'] = ss['neu']\n",
    "            df_pp.loc[pp_index, 'vader_pos'] = ss['pos']\n",
    "            df_pp.loc[pp_index, 'vader_comp'] = ss['compound']\n",
    "            \n",
    "            # overall sentiment started as vader_comp rounded up or down\n",
    "            if ss['compound'] > 0.1:\n",
    "                df_pp.loc[pp_index, 'sentiment'] = 1\n",
    "            elif ss['compound'] == 0:\n",
    "                df_pp.loc[pp_index, 'sentiment'] = 0\n",
    "            elif ss['compound'] < 0:\n",
    "                df_pp.loc[pp_index, 'sentiment'] = -1\n",
    "            \n",
    "            # enter new row for new sentence\n",
    "            pp_index += 1\n",
    "    # return full df_pp\n",
    "    return df_pp"
   ]
  },
  {
   "cell_type": "code",
   "execution_count": 28,
   "metadata": {},
   "outputs": [],
   "source": [
    "test_df = update_df_pp(df[0:1000])"
   ]
  },
  {
   "cell_type": "code",
   "execution_count": 29,
   "metadata": {},
   "outputs": [
    {
     "data": {
      "text/html": [
       "<div>\n",
       "<style scoped>\n",
       "    .dataframe tbody tr th:only-of-type {\n",
       "        vertical-align: middle;\n",
       "    }\n",
       "\n",
       "    .dataframe tbody tr th {\n",
       "        vertical-align: top;\n",
       "    }\n",
       "\n",
       "    .dataframe thead th {\n",
       "        text-align: right;\n",
       "    }\n",
       "</style>\n",
       "<table border=\"1\" class=\"dataframe\">\n",
       "  <thead>\n",
       "    <tr style=\"text-align: right;\">\n",
       "      <th></th>\n",
       "      <th>rev_id</th>\n",
       "      <th>sent_text</th>\n",
       "      <th>objects</th>\n",
       "      <th>descriptive</th>\n",
       "      <th>vader_neg</th>\n",
       "      <th>vader_neu</th>\n",
       "      <th>vader_pos</th>\n",
       "      <th>vader_comp</th>\n",
       "      <th>category</th>\n",
       "      <th>sentiment</th>\n",
       "    </tr>\n",
       "  </thead>\n",
       "  <tbody>\n",
       "    <tr>\n",
       "      <th>0</th>\n",
       "      <td>689620611</td>\n",
       "      <td>Our suite overlooked the Singapore River and s...</td>\n",
       "      <td>suite, River, we, views</td>\n",
       "      <td>amazing</td>\n",
       "      <td>0.073</td>\n",
       "      <td>0.659</td>\n",
       "      <td>0.268</td>\n",
       "      <td>0.6077</td>\n",
       "      <td>NaN</td>\n",
       "      <td>1</td>\n",
       "    </tr>\n",
       "    <tr>\n",
       "      <th>1</th>\n",
       "      <td>689620611</td>\n",
       "      <td>Its located within easy walk of many attractio...</td>\n",
       "      <td>walk, attractions, others, Island</td>\n",
       "      <td>easy, many, worst</td>\n",
       "      <td>0.153</td>\n",
       "      <td>0.634</td>\n",
       "      <td>0.213</td>\n",
       "      <td>0.1531</td>\n",
       "      <td>NaN</td>\n",
       "      <td>1</td>\n",
       "    </tr>\n",
       "    <tr>\n",
       "      <th>2</th>\n",
       "      <td>689620611</td>\n",
       "      <td>Our check-in was swift and friendly.</td>\n",
       "      <td>check</td>\n",
       "      <td>swift, friendly</td>\n",
       "      <td>0</td>\n",
       "      <td>0.444</td>\n",
       "      <td>0.556</td>\n",
       "      <td>0.6124</td>\n",
       "      <td>NaN</td>\n",
       "      <td>1</td>\n",
       "    </tr>\n",
       "    <tr>\n",
       "      <th>3</th>\n",
       "      <td>689620611</td>\n",
       "      <td>Staff were welcoming at all times and most spo...</td>\n",
       "      <td>Staff, times, English, us</td>\n",
       "      <td>most</td>\n",
       "      <td>0</td>\n",
       "      <td>0.642</td>\n",
       "      <td>0.358</td>\n",
       "      <td>0.8104</td>\n",
       "      <td>NaN</td>\n",
       "      <td>1</td>\n",
       "    </tr>\n",
       "    <tr>\n",
       "      <th>4</th>\n",
       "      <td>689620611</td>\n",
       "      <td>Breakfast was of high caliber and of considera...</td>\n",
       "      <td>Breakfast, caliber, variety</td>\n",
       "      <td>high, considerable</td>\n",
       "      <td>0</td>\n",
       "      <td>1</td>\n",
       "      <td>0</td>\n",
       "      <td>0</td>\n",
       "      <td>NaN</td>\n",
       "      <td>0</td>\n",
       "    </tr>\n",
       "  </tbody>\n",
       "</table>\n",
       "</div>"
      ],
      "text/plain": [
       "      rev_id                                          sent_text  \\\n",
       "0  689620611  Our suite overlooked the Singapore River and s...   \n",
       "1  689620611  Its located within easy walk of many attractio...   \n",
       "2  689620611               Our check-in was swift and friendly.   \n",
       "3  689620611  Staff were welcoming at all times and most spo...   \n",
       "4  689620611  Breakfast was of high caliber and of considera...   \n",
       "\n",
       "                             objects         descriptive vader_neg vader_neu  \\\n",
       "0            suite, River, we, views             amazing     0.073     0.659   \n",
       "1  walk, attractions, others, Island   easy, many, worst     0.153     0.634   \n",
       "2                              check     swift, friendly         0     0.444   \n",
       "3          Staff, times, English, us                most         0     0.642   \n",
       "4        Breakfast, caliber, variety  high, considerable         0         1   \n",
       "\n",
       "  vader_pos vader_comp category sentiment  \n",
       "0     0.268     0.6077      NaN         1  \n",
       "1     0.213     0.1531      NaN         1  \n",
       "2     0.556     0.6124      NaN         1  \n",
       "3     0.358     0.8104      NaN         1  \n",
       "4         0          0      NaN         0  "
      ]
     },
     "execution_count": 29,
     "metadata": {},
     "output_type": "execute_result"
    }
   ],
   "source": [
    "test_df.head()"
   ]
  },
  {
   "cell_type": "code",
   "execution_count": 30,
   "metadata": {
    "scrolled": true
   },
   "outputs": [
    {
     "data": {
      "text/plain": [
       "(3006, 10)"
      ]
     },
     "execution_count": 30,
     "metadata": {},
     "output_type": "execute_result"
    }
   ],
   "source": [
    "test_df.shape"
   ]
  },
  {
   "cell_type": "code",
   "execution_count": 31,
   "metadata": {},
   "outputs": [],
   "source": [
    "test_df['batch_date'] = '210426'"
   ]
  },
  {
   "cell_type": "code",
   "execution_count": 32,
   "metadata": {},
   "outputs": [],
   "source": [
    "# test_df.to_csv('../testdata/sentencized/test_df_210426.csv')"
   ]
  },
  {
   "cell_type": "markdown",
   "metadata": {},
   "source": [
    "We will perform EDA and Modeling in our next section."
   ]
  }
 ],
 "metadata": {
  "kernelspec": {
   "display_name": "Python 3",
   "language": "python",
   "name": "python3"
  },
  "language_info": {
   "codemirror_mode": {
    "name": "ipython",
    "version": 3
   },
   "file_extension": ".py",
   "mimetype": "text/x-python",
   "name": "python",
   "nbconvert_exporter": "python",
   "pygments_lexer": "ipython3",
   "version": "3.8.5"
  },
  "toc": {
   "base_numbering": 1,
   "nav_menu": {},
   "number_sections": true,
   "sideBar": true,
   "skip_h1_title": true,
   "title_cell": "Table of Contents",
   "title_sidebar": "Contents",
   "toc_cell": true,
   "toc_position": {},
   "toc_section_display": true,
   "toc_window_display": true
  }
 },
 "nbformat": 4,
 "nbformat_minor": 5
}
